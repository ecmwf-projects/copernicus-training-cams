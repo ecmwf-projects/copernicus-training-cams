{
 "cells": [
  {
   "cell_type": "markdown",
   "id": "ac825c0a-b5f5-4cf9-b52c-66e485533094",
   "metadata": {
    "tags": []
   },
   "source": [
    "![logo](./img/LogoLine_horizon_CAMS.png)"
   ]
  },
  {
   "cell_type": "markdown",
   "id": "586c1407-3572-4a39-ad80-c0d74089e592",
   "metadata": {
    "tags": []
   },
   "source": [
    "| | | |\n",
    "|:-:|:-:|:-:|\n",
    "|[![Binder](https://mybinder.org/badge.svg)](https://mybinder.org/v2/gh/ecmwf-projects/copernicus-training/HEAD?urlpath=lab/tree/CAMS_atmospheric-composition.ipynb)|[![Kaggle](https://kaggle.com/static/images/open-in-kaggle.svg)](https://kaggle.com/kernels/welcome?src=https://github.com/ecmwf-projects/copernicus-training/blob/master/CAMS_atmospheric-composition.ipynb)|[![Colab](https://colab.research.google.com/assets/colab-badge.svg)](https://colab.research.google.com/github/ecmwf-projects/copernicus-training/blob/master/CAMS_atmospheric-composition.ipynb)|"
   ]
  },
  {
   "cell_type": "markdown",
   "id": "bf5c77b9-5958-4914-a3c6-37113375398f",
   "metadata": {
    "tags": []
   },
   "source": [
    "# Ozone Monitoring Tutorial\n",
    "\n",
    "This tutorial demonstrates how to process ozone data available from the [Copernicus Atmosphere Monitoring Service (CAMS)](https://atmosphere.copernicus.eu/), to derive information on stratospheric ozone in the southern hemisphere, and analyse changes to the ozone hole over time."
   ]
  },
  {
   "cell_type": "markdown",
   "id": "3b8aa544",
   "metadata": {},
   "source": [
    "![ozone1](./img/cams_sh_ozone_area_2021.png)"
   ]
  },
  {
   "cell_type": "markdown",
   "id": "c732f33b",
   "metadata": {},
   "source": [
    "![ozone2](./img/cams_sh_ozone_minimum_2021.png)"
   ]
  },
  {
   "cell_type": "code",
   "execution_count": null,
   "id": "8a9c5068",
   "metadata": {},
   "outputs": [],
   "source": []
  }
 ],
 "metadata": {
  "kernelspec": {
   "display_name": "Python 3 (ipykernel)",
   "language": "python",
   "name": "python3"
  },
  "language_info": {
   "codemirror_mode": {
    "name": "ipython",
    "version": 3
   },
   "file_extension": ".py",
   "mimetype": "text/x-python",
   "name": "python",
   "nbconvert_exporter": "python",
   "pygments_lexer": "ipython3",
   "version": "3.9.7"
  }
 },
 "nbformat": 4,
 "nbformat_minor": 5
}
