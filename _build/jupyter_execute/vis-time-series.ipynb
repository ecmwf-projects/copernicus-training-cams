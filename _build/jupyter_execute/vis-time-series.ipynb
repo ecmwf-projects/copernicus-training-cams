{
 "cells": [
  {
   "cell_type": "markdown",
   "id": "ac825c0a-b5f5-4cf9-b52c-66e485533094",
   "metadata": {
    "tags": []
   },
   "source": [
    "![logo](./img/LogoLine_horizon_CAMS.png)"
   ]
  },
  {
   "cell_type": "markdown",
   "id": "bf5c77b9-5958-4914-a3c6-37113375398f",
   "metadata": {
    "tags": []
   },
   "source": [
    "# Plot Time Series of CAMS Data\n",
    "\n",
    "This tutorial demonstrates how to plot time series of data from the [Copernicus Atmosphere Monitoring Service (CAMS)](https://atmosphere.copernicus.eu/). The example focusses on CO2, and we will visualise the \"Keeling Curve\" of global average increases in CO2 from the last decades."
   ]
  },
  {
   "cell_type": "markdown",
   "id": "23eb5fef-4515-4b92-9763-8aab930b80f3",
   "metadata": {},
   "source": [
    "<style>\n",
    "td, th {\n",
    "   border: 1px solid white;\n",
    "   border-collapse: collapse;\n",
    "}\n",
    "</style>\n",
    "<table align=\"left\">\n",
    "  <tr>\n",
    "    <th>Run the tutorial via free cloud platforms: </th>\n",
    "    <th><a href=\"https://mybinder.org/v2/gh/ecmwf-projects/copernicus-training-cams/master?labpath=vis-time-series.ipynb\">\n",
    "        <img src = \"https://mybinder.org/badge.svg\" alt = \"Binder\"></th>\n",
    "    <th><a href=\"https://kaggle.com/kernels/welcome?src=https://github.com/ecmwf-projects/copernicus-training-cams/blob/master/vis-time-series.ipynb\">\n",
    "        <img src = \"https://kaggle.com/static/images/open-in-kaggle.svg\" alt = \"Kaggle\"></th>\n",
    "    <th><a href=\"https://colab.research.google.com/github/ecmwf-projects/copernicus-training-cams/blob/master/vis-time-series.ipynb\">\n",
    "        <img src = \"https://colab.research.google.com/assets/colab-badge.svg\" alt = \"Colab\"></th>\n",
    "  </tr>\n",
    "</table>"
   ]
  },
  {
   "cell_type": "markdown",
   "id": "057df74a-3d50-4f13-b9e0-10f525c00dd7",
   "metadata": {},
   "source": [
    "<br>"
   ]
  },
  {
   "cell_type": "markdown",
   "id": "2229dbdb-f3a8-4c7d-b133-5157bd87e755",
   "metadata": {},
   "source": [
    "## Install and import packages"
   ]
  },
  {
   "cell_type": "code",
   "execution_count": 1,
   "id": "1791c879-fe77-4976-b626-885e3b3c6648",
   "metadata": {},
   "outputs": [
    {
     "name": "stdout",
     "output_type": "stream",
     "text": [
      "Requirement already satisfied: cdsapi in c:\\users\\cxcs\\anaconda3\\lib\\site-packages (0.5.1)\n",
      "Requirement already satisfied: tqdm in c:\\users\\cxcs\\anaconda3\\lib\\site-packages (from cdsapi) (4.62.3)\n",
      "Requirement already satisfied: requests>=2.5.0 in c:\\users\\cxcs\\anaconda3\\lib\\site-packages (from cdsapi) (2.26.0)\n",
      "Requirement already satisfied: charset-normalizer~=2.0.0 in c:\\users\\cxcs\\anaconda3\\lib\\site-packages (from requests>=2.5.0->cdsapi) (2.0.4)\n",
      "Requirement already satisfied: idna<4,>=2.5 in c:\\users\\cxcs\\anaconda3\\lib\\site-packages (from requests>=2.5.0->cdsapi) (3.2)\n",
      "Requirement already satisfied: certifi>=2017.4.17 in c:\\users\\cxcs\\anaconda3\\lib\\site-packages (from requests>=2.5.0->cdsapi) (2021.10.8)\n",
      "Requirement already satisfied: urllib3<1.27,>=1.21.1 in c:\\users\\cxcs\\anaconda3\\lib\\site-packages (from requests>=2.5.0->cdsapi) (1.26.7)\n",
      "Requirement already satisfied: colorama in c:\\users\\cxcs\\anaconda3\\lib\\site-packages (from tqdm->cdsapi) (0.4.4)\n"
     ]
    }
   ],
   "source": [
    "!pip install cdsapi"
   ]
  },
  {
   "cell_type": "code",
   "execution_count": 4,
   "id": "4fdce4cb-60bd-4107-aec4-89612351ecd1",
   "metadata": {
    "tags": []
   },
   "outputs": [],
   "source": [
    "# CDS API\n",
    "import cdsapi\n",
    "\n",
    "# Libraries for reading and working with multidimensional arrays\n",
    "import numpy as np\n",
    "import xarray as xr\n",
    "\n",
    "# Library for plotting and visualising data\n",
    "%matplotlib inline\n",
    "import matplotlib.pyplot as plt\n",
    "\n",
    "# Disable warnings for data download via API\n",
    "import urllib3 \n",
    "urllib3.disable_warnings()"
   ]
  },
  {
   "cell_type": "markdown",
   "id": "ca87863a",
   "metadata": {},
   "source": [
    "## Data access and preprocessing"
   ]
  },
  {
   "cell_type": "markdown",
   "id": "156fc184-a63d-479d-8f9c-4fa5d40a50ea",
   "metadata": {
    "tags": []
   },
   "source": [
    "### Download CAMS global reanalysis data\n",
    "\n",
    "Copy your API key into the code cell below, replacing `#######` with your key. (Remember, to access data from the ADS, you will need first to register/login https://ads.atmosphere.copernicus.eu and obtain an API key from https://ads.atmosphere.copernicus.eu/api-how-to.)"
   ]
  },
  {
   "cell_type": "code",
   "execution_count": 5,
   "id": "b2fa83d3-e106-4069-84ab-1eb4f3dd0135",
   "metadata": {},
   "outputs": [],
   "source": [
    "URL = 'https://ads.atmosphere.copernicus.eu/api/v2'\n",
    "\n",
    "# Replace the hashtags with your key:\n",
    "KEY = '##########################################'"
   ]
  },
  {
   "cell_type": "markdown",
   "id": "0438ed31-8410-4442-a962-5617c92c9abb",
   "metadata": {
    "tags": []
   },
   "source": [
    "Here we specify a data directory into which we will download our data and all output files that we will generate:"
   ]
  },
  {
   "cell_type": "code",
   "execution_count": 6,
   "id": "704bcea4-2a46-43a6-80dc-b2d414f1d200",
   "metadata": {},
   "outputs": [],
   "source": [
    "DATADIR = './'"
   ]
  },
  {
   "cell_type": "markdown",
   "id": "b6196665-3a35-43bd-9d64-a51b721ba6c7",
   "metadata": {},
   "source": [
    "For this tutorial, we will use *CAMS global greenhouse gas reanalysis (EGG4)* data, monthly averaged fields version. The code below shows the subset characteristics that we will extract from this dataset as an API request."
   ]
  },
  {
   "cell_type": "markdown",
   "id": "42dcc065-7421-48a8-b355-7a1440af4e7f",
   "metadata": {},
   "source": [
    "```{note}\n",
    "Before running this code, ensure that you have **accepted the terms and conditions**. This is something you only need to do once for each CAMS dataset. You will find the option to do this by selecting the dataset in the ADS, then scrolling to the end of the *Download data* tab.\n",
    "```"
   ]
  },
  {
   "cell_type": "code",
   "execution_count": 5,
   "id": "63ba2629",
   "metadata": {},
   "outputs": [
    {
     "name": "stderr",
     "output_type": "stream",
     "text": [
      "2022-07-30 16:13:36,334 INFO Welcome to the CDS\n",
      "2022-07-30 16:13:36,344 INFO Sending request to https://ads.atmosphere.copernicus.eu/api/v2/resources/cams-global-reanalysis-eac4-monthly\n",
      "2022-07-30 16:13:36,441 INFO Request is queued\n",
      "2022-07-30 16:17:54,959 INFO Request is completed\n",
      "2022-07-30 16:17:54,969 INFO Downloading https://download-0005-ads-clone.copernicus-climate.eu/cache-compute-0005/cache/data1/adaptor.mars.internal-1659194176.4934468-21743-12-595d03f1-83d2-4740-ba73-9430b38e6f93.nc to ./DATA/CO_NHemis_Aug2003-2021.nc (52.6M)\n",
      "2022-07-30 16:18:03,412 INFO Download rate 6.2M/s                                                                      \n"
     ]
    },
    {
     "data": {
      "text/plain": [
       "Result(content_length=55179884,content_type=application/x-netcdf,location=https://download-0005-ads-clone.copernicus-climate.eu/cache-compute-0005/cache/data1/adaptor.mars.internal-1659194176.4934468-21743-12-595d03f1-83d2-4740-ba73-9430b38e6f93.nc)"
      ]
     },
     "execution_count": 5,
     "metadata": {},
     "output_type": "execute_result"
    }
   ],
   "source": [
    "c = cdsapi.Client(url=URL, key=KEY)\n",
    "c.retrieve(\n",
    "    'cams-global-ghg-reanalysis-egg4-monthly',\n",
    "    {\n",
    "        'variable': 'co2_column_mean_molar_fraction',\n",
    "        'year': [\n",
    "            '2003', '2004', '2005',\n",
    "            '2006', '2007', '2008',\n",
    "            '2009', '2010', '2011',\n",
    "            '2012', '2013', '2014',\n",
    "            '2015', '2016', '2017',\n",
    "            '2018', '2019', '2020',\n",
    "        ],\n",
    "        'month': [\n",
    "            '01', '02', '03',\n",
    "            '04', '05', '06',\n",
    "            '07', '08', '09',\n",
    "            '10', '11', '12',\n",
    "        ],\n",
    "        'product_type': 'monthly_mean',\n",
    "        'format': 'netcdf',\n",
    "    },\n",
    "    f'{DATADIR}/CO2_2003-2020.nc')"
   ]
  },
  {
   "cell_type": "markdown",
   "id": "0cea2d7d",
   "metadata": {},
   "source": [
    "### Read and inspect data"
   ]
  },
  {
   "cell_type": "markdown",
   "id": "dabbb832-b2b3-4d39-a121-5fabdad0eb8d",
   "metadata": {
    "tags": []
   },
   "source": [
    "Read the data into an Xarray dataset:"
   ]
  },
  {
   "cell_type": "code",
   "execution_count": 9,
   "id": "25656de1",
   "metadata": {},
   "outputs": [
    {
     "data": {
      "text/html": [
       "<div><svg style=\"position: absolute; width: 0; height: 0; overflow: hidden\">\n",
       "<defs>\n",
       "<symbol id=\"icon-database\" viewBox=\"0 0 32 32\">\n",
       "<path d=\"M16 0c-8.837 0-16 2.239-16 5v4c0 2.761 7.163 5 16 5s16-2.239 16-5v-4c0-2.761-7.163-5-16-5z\"></path>\n",
       "<path d=\"M16 17c-8.837 0-16-2.239-16-5v6c0 2.761 7.163 5 16 5s16-2.239 16-5v-6c0 2.761-7.163 5-16 5z\"></path>\n",
       "<path d=\"M16 26c-8.837 0-16-2.239-16-5v6c0 2.761 7.163 5 16 5s16-2.239 16-5v-6c0 2.761-7.163 5-16 5z\"></path>\n",
       "</symbol>\n",
       "<symbol id=\"icon-file-text2\" viewBox=\"0 0 32 32\">\n",
       "<path d=\"M28.681 7.159c-0.694-0.947-1.662-2.053-2.724-3.116s-2.169-2.030-3.116-2.724c-1.612-1.182-2.393-1.319-2.841-1.319h-15.5c-1.378 0-2.5 1.121-2.5 2.5v27c0 1.378 1.122 2.5 2.5 2.5h23c1.378 0 2.5-1.122 2.5-2.5v-19.5c0-0.448-0.137-1.23-1.319-2.841zM24.543 5.457c0.959 0.959 1.712 1.825 2.268 2.543h-4.811v-4.811c0.718 0.556 1.584 1.309 2.543 2.268zM28 29.5c0 0.271-0.229 0.5-0.5 0.5h-23c-0.271 0-0.5-0.229-0.5-0.5v-27c0-0.271 0.229-0.5 0.5-0.5 0 0 15.499-0 15.5 0v7c0 0.552 0.448 1 1 1h7v19.5z\"></path>\n",
       "<path d=\"M23 26h-14c-0.552 0-1-0.448-1-1s0.448-1 1-1h14c0.552 0 1 0.448 1 1s-0.448 1-1 1z\"></path>\n",
       "<path d=\"M23 22h-14c-0.552 0-1-0.448-1-1s0.448-1 1-1h14c0.552 0 1 0.448 1 1s-0.448 1-1 1z\"></path>\n",
       "<path d=\"M23 18h-14c-0.552 0-1-0.448-1-1s0.448-1 1-1h14c0.552 0 1 0.448 1 1s-0.448 1-1 1z\"></path>\n",
       "</symbol>\n",
       "</defs>\n",
       "</svg>\n",
       "<style>/* CSS stylesheet for displaying xarray objects in jupyterlab.\n",
       " *\n",
       " */\n",
       "\n",
       ":root {\n",
       "  --xr-font-color0: var(--jp-content-font-color0, rgba(0, 0, 0, 1));\n",
       "  --xr-font-color2: var(--jp-content-font-color2, rgba(0, 0, 0, 0.54));\n",
       "  --xr-font-color3: var(--jp-content-font-color3, rgba(0, 0, 0, 0.38));\n",
       "  --xr-border-color: var(--jp-border-color2, #e0e0e0);\n",
       "  --xr-disabled-color: var(--jp-layout-color3, #bdbdbd);\n",
       "  --xr-background-color: var(--jp-layout-color0, white);\n",
       "  --xr-background-color-row-even: var(--jp-layout-color1, white);\n",
       "  --xr-background-color-row-odd: var(--jp-layout-color2, #eeeeee);\n",
       "}\n",
       "\n",
       "html[theme=dark],\n",
       "body.vscode-dark {\n",
       "  --xr-font-color0: rgba(255, 255, 255, 1);\n",
       "  --xr-font-color2: rgba(255, 255, 255, 0.54);\n",
       "  --xr-font-color3: rgba(255, 255, 255, 0.38);\n",
       "  --xr-border-color: #1F1F1F;\n",
       "  --xr-disabled-color: #515151;\n",
       "  --xr-background-color: #111111;\n",
       "  --xr-background-color-row-even: #111111;\n",
       "  --xr-background-color-row-odd: #313131;\n",
       "}\n",
       "\n",
       ".xr-wrap {\n",
       "  display: block !important;\n",
       "  min-width: 300px;\n",
       "  max-width: 700px;\n",
       "}\n",
       "\n",
       ".xr-text-repr-fallback {\n",
       "  /* fallback to plain text repr when CSS is not injected (untrusted notebook) */\n",
       "  display: none;\n",
       "}\n",
       "\n",
       ".xr-header {\n",
       "  padding-top: 6px;\n",
       "  padding-bottom: 6px;\n",
       "  margin-bottom: 4px;\n",
       "  border-bottom: solid 1px var(--xr-border-color);\n",
       "}\n",
       "\n",
       ".xr-header > div,\n",
       ".xr-header > ul {\n",
       "  display: inline;\n",
       "  margin-top: 0;\n",
       "  margin-bottom: 0;\n",
       "}\n",
       "\n",
       ".xr-obj-type,\n",
       ".xr-array-name {\n",
       "  margin-left: 2px;\n",
       "  margin-right: 10px;\n",
       "}\n",
       "\n",
       ".xr-obj-type {\n",
       "  color: var(--xr-font-color2);\n",
       "}\n",
       "\n",
       ".xr-sections {\n",
       "  padding-left: 0 !important;\n",
       "  display: grid;\n",
       "  grid-template-columns: 150px auto auto 1fr 20px 20px;\n",
       "}\n",
       "\n",
       ".xr-section-item {\n",
       "  display: contents;\n",
       "}\n",
       "\n",
       ".xr-section-item input {\n",
       "  display: none;\n",
       "}\n",
       "\n",
       ".xr-section-item input + label {\n",
       "  color: var(--xr-disabled-color);\n",
       "}\n",
       "\n",
       ".xr-section-item input:enabled + label {\n",
       "  cursor: pointer;\n",
       "  color: var(--xr-font-color2);\n",
       "}\n",
       "\n",
       ".xr-section-item input:enabled + label:hover {\n",
       "  color: var(--xr-font-color0);\n",
       "}\n",
       "\n",
       ".xr-section-summary {\n",
       "  grid-column: 1;\n",
       "  color: var(--xr-font-color2);\n",
       "  font-weight: 500;\n",
       "}\n",
       "\n",
       ".xr-section-summary > span {\n",
       "  display: inline-block;\n",
       "  padding-left: 0.5em;\n",
       "}\n",
       "\n",
       ".xr-section-summary-in:disabled + label {\n",
       "  color: var(--xr-font-color2);\n",
       "}\n",
       "\n",
       ".xr-section-summary-in + label:before {\n",
       "  display: inline-block;\n",
       "  content: '►';\n",
       "  font-size: 11px;\n",
       "  width: 15px;\n",
       "  text-align: center;\n",
       "}\n",
       "\n",
       ".xr-section-summary-in:disabled + label:before {\n",
       "  color: var(--xr-disabled-color);\n",
       "}\n",
       "\n",
       ".xr-section-summary-in:checked + label:before {\n",
       "  content: '▼';\n",
       "}\n",
       "\n",
       ".xr-section-summary-in:checked + label > span {\n",
       "  display: none;\n",
       "}\n",
       "\n",
       ".xr-section-summary,\n",
       ".xr-section-inline-details {\n",
       "  padding-top: 4px;\n",
       "  padding-bottom: 4px;\n",
       "}\n",
       "\n",
       ".xr-section-inline-details {\n",
       "  grid-column: 2 / -1;\n",
       "}\n",
       "\n",
       ".xr-section-details {\n",
       "  display: none;\n",
       "  grid-column: 1 / -1;\n",
       "  margin-bottom: 5px;\n",
       "}\n",
       "\n",
       ".xr-section-summary-in:checked ~ .xr-section-details {\n",
       "  display: contents;\n",
       "}\n",
       "\n",
       ".xr-array-wrap {\n",
       "  grid-column: 1 / -1;\n",
       "  display: grid;\n",
       "  grid-template-columns: 20px auto;\n",
       "}\n",
       "\n",
       ".xr-array-wrap > label {\n",
       "  grid-column: 1;\n",
       "  vertical-align: top;\n",
       "}\n",
       "\n",
       ".xr-preview {\n",
       "  color: var(--xr-font-color3);\n",
       "}\n",
       "\n",
       ".xr-array-preview,\n",
       ".xr-array-data {\n",
       "  padding: 0 5px !important;\n",
       "  grid-column: 2;\n",
       "}\n",
       "\n",
       ".xr-array-data,\n",
       ".xr-array-in:checked ~ .xr-array-preview {\n",
       "  display: none;\n",
       "}\n",
       "\n",
       ".xr-array-in:checked ~ .xr-array-data,\n",
       ".xr-array-preview {\n",
       "  display: inline-block;\n",
       "}\n",
       "\n",
       ".xr-dim-list {\n",
       "  display: inline-block !important;\n",
       "  list-style: none;\n",
       "  padding: 0 !important;\n",
       "  margin: 0;\n",
       "}\n",
       "\n",
       ".xr-dim-list li {\n",
       "  display: inline-block;\n",
       "  padding: 0;\n",
       "  margin: 0;\n",
       "}\n",
       "\n",
       ".xr-dim-list:before {\n",
       "  content: '(';\n",
       "}\n",
       "\n",
       ".xr-dim-list:after {\n",
       "  content: ')';\n",
       "}\n",
       "\n",
       ".xr-dim-list li:not(:last-child):after {\n",
       "  content: ',';\n",
       "  padding-right: 5px;\n",
       "}\n",
       "\n",
       ".xr-has-index {\n",
       "  font-weight: bold;\n",
       "}\n",
       "\n",
       ".xr-var-list,\n",
       ".xr-var-item {\n",
       "  display: contents;\n",
       "}\n",
       "\n",
       ".xr-var-item > div,\n",
       ".xr-var-item label,\n",
       ".xr-var-item > .xr-var-name span {\n",
       "  background-color: var(--xr-background-color-row-even);\n",
       "  margin-bottom: 0;\n",
       "}\n",
       "\n",
       ".xr-var-item > .xr-var-name:hover span {\n",
       "  padding-right: 5px;\n",
       "}\n",
       "\n",
       ".xr-var-list > li:nth-child(odd) > div,\n",
       ".xr-var-list > li:nth-child(odd) > label,\n",
       ".xr-var-list > li:nth-child(odd) > .xr-var-name span {\n",
       "  background-color: var(--xr-background-color-row-odd);\n",
       "}\n",
       "\n",
       ".xr-var-name {\n",
       "  grid-column: 1;\n",
       "}\n",
       "\n",
       ".xr-var-dims {\n",
       "  grid-column: 2;\n",
       "}\n",
       "\n",
       ".xr-var-dtype {\n",
       "  grid-column: 3;\n",
       "  text-align: right;\n",
       "  color: var(--xr-font-color2);\n",
       "}\n",
       "\n",
       ".xr-var-preview {\n",
       "  grid-column: 4;\n",
       "}\n",
       "\n",
       ".xr-var-name,\n",
       ".xr-var-dims,\n",
       ".xr-var-dtype,\n",
       ".xr-preview,\n",
       ".xr-attrs dt {\n",
       "  white-space: nowrap;\n",
       "  overflow: hidden;\n",
       "  text-overflow: ellipsis;\n",
       "  padding-right: 10px;\n",
       "}\n",
       "\n",
       ".xr-var-name:hover,\n",
       ".xr-var-dims:hover,\n",
       ".xr-var-dtype:hover,\n",
       ".xr-attrs dt:hover {\n",
       "  overflow: visible;\n",
       "  width: auto;\n",
       "  z-index: 1;\n",
       "}\n",
       "\n",
       ".xr-var-attrs,\n",
       ".xr-var-data {\n",
       "  display: none;\n",
       "  background-color: var(--xr-background-color) !important;\n",
       "  padding-bottom: 5px !important;\n",
       "}\n",
       "\n",
       ".xr-var-attrs-in:checked ~ .xr-var-attrs,\n",
       ".xr-var-data-in:checked ~ .xr-var-data {\n",
       "  display: block;\n",
       "}\n",
       "\n",
       ".xr-var-data > table {\n",
       "  float: right;\n",
       "}\n",
       "\n",
       ".xr-var-name span,\n",
       ".xr-var-data,\n",
       ".xr-attrs {\n",
       "  padding-left: 25px !important;\n",
       "}\n",
       "\n",
       ".xr-attrs,\n",
       ".xr-var-attrs,\n",
       ".xr-var-data {\n",
       "  grid-column: 1 / -1;\n",
       "}\n",
       "\n",
       "dl.xr-attrs {\n",
       "  padding: 0;\n",
       "  margin: 0;\n",
       "  display: grid;\n",
       "  grid-template-columns: 125px auto;\n",
       "}\n",
       "\n",
       ".xr-attrs dt,\n",
       ".xr-attrs dd {\n",
       "  padding: 0;\n",
       "  margin: 0;\n",
       "  float: left;\n",
       "  padding-right: 10px;\n",
       "  width: auto;\n",
       "}\n",
       "\n",
       ".xr-attrs dt {\n",
       "  font-weight: normal;\n",
       "  grid-column: 1;\n",
       "}\n",
       "\n",
       ".xr-attrs dt:hover span {\n",
       "  display: inline-block;\n",
       "  background: var(--xr-background-color);\n",
       "  padding-right: 10px;\n",
       "}\n",
       "\n",
       ".xr-attrs dd {\n",
       "  grid-column: 2;\n",
       "  white-space: pre-wrap;\n",
       "  word-break: break-all;\n",
       "}\n",
       "\n",
       ".xr-icon-database,\n",
       ".xr-icon-file-text2 {\n",
       "  display: inline-block;\n",
       "  vertical-align: middle;\n",
       "  width: 1em;\n",
       "  height: 1.5em !important;\n",
       "  stroke-width: 0;\n",
       "  stroke: currentColor;\n",
       "  fill: currentColor;\n",
       "}\n",
       "</style><pre class='xr-text-repr-fallback'>&lt;xarray.Dataset&gt;\n",
       "Dimensions:    (longitude: 480, latitude: 241, time: 216)\n",
       "Coordinates:\n",
       "  * longitude  (longitude) float32 0.0 0.75 1.5 2.25 ... 357.0 357.8 358.5 359.2\n",
       "  * latitude   (latitude) float32 90.0 89.25 88.5 87.75 ... -88.5 -89.25 -90.0\n",
       "  * time       (time) datetime64[ns] 2003-01-01 2003-02-01 ... 2020-12-01\n",
       "Data variables:\n",
       "    tcco2      (time, latitude, longitude) float32 ...\n",
       "Attributes:\n",
       "    Conventions:  CF-1.6\n",
       "    history:      2022-08-15 14:54:50 GMT by grib_to_netcdf-2.25.1: /opt/ecmw...</pre><div class='xr-wrap' style='display:none'><div class='xr-header'><div class='xr-obj-type'>xarray.Dataset</div></div><ul class='xr-sections'><li class='xr-section-item'><input id='section-8aa689a3-a9a2-439f-9257-9d3eaa7aef60' class='xr-section-summary-in' type='checkbox' disabled ><label for='section-8aa689a3-a9a2-439f-9257-9d3eaa7aef60' class='xr-section-summary'  title='Expand/collapse section'>Dimensions:</label><div class='xr-section-inline-details'><ul class='xr-dim-list'><li><span class='xr-has-index'>longitude</span>: 480</li><li><span class='xr-has-index'>latitude</span>: 241</li><li><span class='xr-has-index'>time</span>: 216</li></ul></div><div class='xr-section-details'></div></li><li class='xr-section-item'><input id='section-e97db02c-68ba-4257-ad27-1ff633521492' class='xr-section-summary-in' type='checkbox'  checked><label for='section-e97db02c-68ba-4257-ad27-1ff633521492' class='xr-section-summary' >Coordinates: <span>(3)</span></label><div class='xr-section-inline-details'></div><div class='xr-section-details'><ul class='xr-var-list'><li class='xr-var-item'><div class='xr-var-name'><span class='xr-has-index'>longitude</span></div><div class='xr-var-dims'>(longitude)</div><div class='xr-var-dtype'>float32</div><div class='xr-var-preview xr-preview'>0.0 0.75 1.5 ... 357.8 358.5 359.2</div><input id='attrs-21eb8db8-bba2-41c6-861b-44a62815ac71' class='xr-var-attrs-in' type='checkbox' ><label for='attrs-21eb8db8-bba2-41c6-861b-44a62815ac71' title='Show/Hide attributes'><svg class='icon xr-icon-file-text2'><use xlink:href='#icon-file-text2'></use></svg></label><input id='data-7308e6e4-ec0e-40f9-8adb-7a0898b39f10' class='xr-var-data-in' type='checkbox'><label for='data-7308e6e4-ec0e-40f9-8adb-7a0898b39f10' title='Show/Hide data repr'><svg class='icon xr-icon-database'><use xlink:href='#icon-database'></use></svg></label><div class='xr-var-attrs'><dl class='xr-attrs'><dt><span>units :</span></dt><dd>degrees_east</dd><dt><span>long_name :</span></dt><dd>longitude</dd></dl></div><div class='xr-var-data'><pre>array([  0.  ,   0.75,   1.5 , ..., 357.75, 358.5 , 359.25], dtype=float32)</pre></div></li><li class='xr-var-item'><div class='xr-var-name'><span class='xr-has-index'>latitude</span></div><div class='xr-var-dims'>(latitude)</div><div class='xr-var-dtype'>float32</div><div class='xr-var-preview xr-preview'>90.0 89.25 88.5 ... -89.25 -90.0</div><input id='attrs-999b435a-664a-405b-a57e-fe93be2d3d72' class='xr-var-attrs-in' type='checkbox' ><label for='attrs-999b435a-664a-405b-a57e-fe93be2d3d72' title='Show/Hide attributes'><svg class='icon xr-icon-file-text2'><use xlink:href='#icon-file-text2'></use></svg></label><input id='data-1bf3d2a0-08f1-49a7-acbf-70157e435350' class='xr-var-data-in' type='checkbox'><label for='data-1bf3d2a0-08f1-49a7-acbf-70157e435350' title='Show/Hide data repr'><svg class='icon xr-icon-database'><use xlink:href='#icon-database'></use></svg></label><div class='xr-var-attrs'><dl class='xr-attrs'><dt><span>units :</span></dt><dd>degrees_north</dd><dt><span>long_name :</span></dt><dd>latitude</dd></dl></div><div class='xr-var-data'><pre>array([ 90.  ,  89.25,  88.5 , ..., -88.5 , -89.25, -90.  ], dtype=float32)</pre></div></li><li class='xr-var-item'><div class='xr-var-name'><span class='xr-has-index'>time</span></div><div class='xr-var-dims'>(time)</div><div class='xr-var-dtype'>datetime64[ns]</div><div class='xr-var-preview xr-preview'>2003-01-01 ... 2020-12-01</div><input id='attrs-9f5c5ea8-2a9e-4a15-b1ab-76b440791a88' class='xr-var-attrs-in' type='checkbox' ><label for='attrs-9f5c5ea8-2a9e-4a15-b1ab-76b440791a88' title='Show/Hide attributes'><svg class='icon xr-icon-file-text2'><use xlink:href='#icon-file-text2'></use></svg></label><input id='data-dbf7dbdf-9d3d-4d46-9d12-84909eef83b4' class='xr-var-data-in' type='checkbox'><label for='data-dbf7dbdf-9d3d-4d46-9d12-84909eef83b4' title='Show/Hide data repr'><svg class='icon xr-icon-database'><use xlink:href='#icon-database'></use></svg></label><div class='xr-var-attrs'><dl class='xr-attrs'><dt><span>long_name :</span></dt><dd>time</dd></dl></div><div class='xr-var-data'><pre>array([&#x27;2003-01-01T00:00:00.000000000&#x27;, &#x27;2003-02-01T00:00:00.000000000&#x27;,\n",
       "       &#x27;2003-03-01T00:00:00.000000000&#x27;, ..., &#x27;2020-10-01T00:00:00.000000000&#x27;,\n",
       "       &#x27;2020-11-01T00:00:00.000000000&#x27;, &#x27;2020-12-01T00:00:00.000000000&#x27;],\n",
       "      dtype=&#x27;datetime64[ns]&#x27;)</pre></div></li></ul></div></li><li class='xr-section-item'><input id='section-fe8edae6-7eeb-44d3-a1c8-fc83a1a75216' class='xr-section-summary-in' type='checkbox'  checked><label for='section-fe8edae6-7eeb-44d3-a1c8-fc83a1a75216' class='xr-section-summary' >Data variables: <span>(1)</span></label><div class='xr-section-inline-details'></div><div class='xr-section-details'><ul class='xr-var-list'><li class='xr-var-item'><div class='xr-var-name'><span>tcco2</span></div><div class='xr-var-dims'>(time, latitude, longitude)</div><div class='xr-var-dtype'>float32</div><div class='xr-var-preview xr-preview'>...</div><input id='attrs-ab176582-180b-4cff-a867-58ee2ccf86b2' class='xr-var-attrs-in' type='checkbox' ><label for='attrs-ab176582-180b-4cff-a867-58ee2ccf86b2' title='Show/Hide attributes'><svg class='icon xr-icon-file-text2'><use xlink:href='#icon-file-text2'></use></svg></label><input id='data-b6859e3b-4d1f-4aa7-9baa-d7f472a1bc57' class='xr-var-data-in' type='checkbox'><label for='data-b6859e3b-4d1f-4aa7-9baa-d7f472a1bc57' title='Show/Hide data repr'><svg class='icon xr-icon-database'><use xlink:href='#icon-database'></use></svg></label><div class='xr-var-attrs'><dl class='xr-attrs'><dt><span>units :</span></dt><dd>ppm</dd><dt><span>long_name :</span></dt><dd>CO2 column-mean molar fraction</dd></dl></div><div class='xr-var-data'><pre>[24986880 values with dtype=float32]</pre></div></li></ul></div></li><li class='xr-section-item'><input id='section-3dc52718-ceb1-4641-a9a7-f599b2943c98' class='xr-section-summary-in' type='checkbox'  checked><label for='section-3dc52718-ceb1-4641-a9a7-f599b2943c98' class='xr-section-summary' >Attributes: <span>(2)</span></label><div class='xr-section-inline-details'></div><div class='xr-section-details'><dl class='xr-attrs'><dt><span>Conventions :</span></dt><dd>CF-1.6</dd><dt><span>history :</span></dt><dd>2022-08-15 14:54:50 GMT by grib_to_netcdf-2.25.1: /opt/ecmwf/mars-client/bin/grib_to_netcdf.bin -S param -o /cache/data2/adaptor.mars.external-1660575289.69172-21349-15-655b4b75-5665-4e1f-8c05-7cd24eaa6d04.nc /cache/tmp/655b4b75-5665-4e1f-8c05-7cd24eaa6d04-adaptor.mars.external-1660570759.3874679-21349-24-tmp.grib</dd></dl></div></li></ul></div></div>"
      ],
      "text/plain": [
       "<xarray.Dataset>\n",
       "Dimensions:    (longitude: 480, latitude: 241, time: 216)\n",
       "Coordinates:\n",
       "  * longitude  (longitude) float32 0.0 0.75 1.5 2.25 ... 357.0 357.8 358.5 359.2\n",
       "  * latitude   (latitude) float32 90.0 89.25 88.5 87.75 ... -88.5 -89.25 -90.0\n",
       "  * time       (time) datetime64[ns] 2003-01-01 2003-02-01 ... 2020-12-01\n",
       "Data variables:\n",
       "    tcco2      (time, latitude, longitude) float32 ...\n",
       "Attributes:\n",
       "    Conventions:  CF-1.6\n",
       "    history:      2022-08-15 14:54:50 GMT by grib_to_netcdf-2.25.1: /opt/ecmw..."
      ]
     },
     "execution_count": 9,
     "metadata": {},
     "output_type": "execute_result"
    }
   ],
   "source": [
    "fn = f'{DATADIR}/CO2_2003-2020.nc'\n",
    "ds = xr.open_dataset(fn)\n",
    "ds"
   ]
  },
  {
   "cell_type": "markdown",
   "id": "0d31f797",
   "metadata": {},
   "source": [
    "### Spatial aggregation\n",
    "\n",
    "We would like to visualise this data not in maps, but as a one dimensional time series of global average values. To do this, we will first need to aggregate the data spatially to create a single global average at each time step."
   ]
  },
  {
   "cell_type": "markdown",
   "id": "a9c4c610",
   "metadata": {},
   "source": [
    "In order to aggregate over the latitudinal dimension, we need to take into account the variation in area as a function of latitude. We will do this using the cosine of the latitude as a proxy:"
   ]
  },
  {
   "cell_type": "code",
   "execution_count": 10,
   "id": "f04f05b7-8e42-4ec4-a079-2cc81086ccff",
   "metadata": {
    "tags": []
   },
   "outputs": [],
   "source": [
    "weights = np.cos(np.deg2rad(ds.latitude))\n",
    "weights.name = \"weights\"\n",
    "ds_weighted = ds.weighted(weights)"
   ]
  },
  {
   "cell_type": "markdown",
   "id": "ac344c62",
   "metadata": {},
   "source": [
    "Now we can average over both the longitude and latitude dimensions:"
   ]
  },
  {
   "cell_type": "code",
   "execution_count": 11,
   "id": "207c6b39-d4a1-4f41-8ea4-3db6d252edea",
   "metadata": {
    "tags": []
   },
   "outputs": [],
   "source": [
    "# Average (mean) over the latitudinal axis\n",
    "co_ds = ds_weighted.mean(dim=[\"latitude\", \"longitude\"])"
   ]
  },
  {
   "cell_type": "markdown",
   "id": "0ab9d8f9",
   "metadata": {},
   "source": [
    "### Create xarray Data Array from Dataset object"
   ]
  },
  {
   "cell_type": "markdown",
   "id": "35fe0b1e",
   "metadata": {},
   "source": [
    "Here we create an Xarray Data Array object containing the CO2 variable."
   ]
  },
  {
   "cell_type": "code",
   "execution_count": 12,
   "id": "bdaeb44e",
   "metadata": {},
   "outputs": [],
   "source": [
    "co = co_ds['tcco2']"
   ]
  },
  {
   "cell_type": "markdown",
   "id": "8296d159",
   "metadata": {},
   "source": [
    "## Plot time series of global CO\n",
    "\n",
    "Now we can plot the time series of globally averaged CO2 data over time."
   ]
  },
  {
   "cell_type": "markdown",
   "id": "22496015",
   "metadata": {},
   "source": [
    "### Simple plot using xarray\n",
    "\n",
    "The easiest way to plot data in an Xarray Data Array object is to use Xarray's own plotting functionality."
   ]
  },
  {
   "cell_type": "code",
   "execution_count": 13,
   "id": "5445560b",
   "metadata": {},
   "outputs": [
    {
     "data": {
      "text/plain": [
       "[<matplotlib.lines.Line2D at 0x1eb60b4a3a0>]"
      ]
     },
     "execution_count": 13,
     "metadata": {},
     "output_type": "execute_result"
    },
    {
     "data": {
      "image/png": "[encoded data removed]",
      "text/plain": [
       "<Figure size 432x288 with 1 Axes>"
      ]
     },
     "metadata": {
      "needs_background": "light"
     },
     "output_type": "display_data"
    }
   ],
   "source": [
    "co.plot()"
   ]
  },
  {
   "cell_type": "markdown",
   "id": "98f34904",
   "metadata": {},
   "source": [
    "In this plot of monthly averaged CO2 we can see the seasonal variation and yearly increase in global CO2 over the last decades."
   ]
  },
  {
   "cell_type": "markdown",
   "id": "c9464fab",
   "metadata": {},
   "source": [
    "### Customised plot using matplotlib\n",
    "\n",
    "In this example we use the Matplotlib library to create the same plot as above, with a few customisations"
   ]
  },
  {
   "cell_type": "code",
   "execution_count": 14,
   "id": "6bd1068b",
   "metadata": {},
   "outputs": [
    {
     "data": {
      "image/png": "[encoded data removed]",
      "text/plain": [
       "<Figure size 648x432 with 1 Axes>"
      ]
     },
     "metadata": {
      "needs_background": "light"
     },
     "output_type": "display_data"
    }
   ],
   "source": [
    "fig, ax = plt.subplots(1, 1, figsize = (9, 6)) # Set size and dimensions of figure\n",
    "\n",
    "ax.set_title('CO2 global time series', fontsize=12) # Set figure title\n",
    "ax.set_ylabel('CO2 column-mean molar fraction (ppm)') # Set Y axis title\n",
    "ax.set_xlabel('Year') # Set X axis title\n",
    "ax.grid(linewidth=1, color='gray', alpha=0.5, linestyle='--') # Include gridlines\n",
    "ax.plot(co.time, co) # Plot the data\n",
    "\n",
    "fig.savefig(f'{DATADIR}/CAMS_CO2_reanalysis.png') # Save the figure"
   ]
  },
  {
   "cell_type": "code",
   "execution_count": null,
   "id": "aecb41e3",
   "metadata": {},
   "outputs": [],
   "source": []
  }
 ],
 "metadata": {
  "kernelspec": {
   "display_name": "Python 3 (ipykernel)",
   "language": "python",
   "name": "python3"
  },
  "language_info": {
   "codemirror_mode": {
    "name": "ipython",
    "version": 3
   },
   "file_extension": ".py",
   "mimetype": "text/x-python",
   "name": "python",
   "nbconvert_exporter": "python",
   "pygments_lexer": "ipython3",
   "version": "3.9.7"
  }
 },
 "nbformat": 4,
 "nbformat_minor": 5
}