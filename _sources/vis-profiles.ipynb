{
 "cells": [
  {
   "cell_type": "markdown",
   "id": "ac825c0a-b5f5-4cf9-b52c-66e485533094",
   "metadata": {
    "tags": []
   },
   "source": [
    "![logo](./img/LogoLine_horizon_CAMS.png)"
   ]
  },
  {
   "cell_type": "markdown",
   "id": "bf5c77b9-5958-4914-a3c6-37113375398f",
   "metadata": {
    "tags": []
   },
   "source": [
    "# Profile Plots and Zonal Means\n",
    "\n",
    "This tutorial demonstrates how to visualise [Copernicus Atmosphere Monitoring Service (CAMS)](https://atmosphere.copernicus.eu/) data of different atmospheric levels in the form of profile plots and zonal mean plots. The data used in this tutorial includes CO from the Northern Hemisphere during the summer (peak fire season) from 2003 to 2021."
   ]
  },
  {
   "cell_type": "markdown",
   "id": "f30e1fd5-50a6-4968-89cc-83863ed3bf9e",
   "metadata": {},
   "source": [
    "<style>\n",
    "td, th {\n",
    "   border: 1px solid white;\n",
    "   border-collapse: collapse;\n",
    "}\n",
    "</style>\n",
    "<table align=\"left\">\n",
    "  <tr>\n",
    "    <th>Run the tutorial via free cloud platforms: </th>\n",
    "    <th><a href=\"https://mybinder.org/v2/gh/ecmwf-projects/copernicus-training-cams/master?labpath=vis-profiles.ipynb\">\n",
    "        <img src = \"https://mybinder.org/badge.svg\" alt = \"Binder\"></th>\n",
    "    <th><a href=\"https://kaggle.com/kernels/welcome?src=https://github.com/ecmwf-projects/copernicus-training-cams/blob/master/vis-profiles.ipynb\">\n",
    "        <img src = \"https://kaggle.com/static/images/open-in-kaggle.svg\" alt = \"Kaggle\"></th>\n",
    "    <th><a href=\"https://colab.research.google.com/github/ecmwf-projects/copernicus-training-cams/blob/master/vis-profiles.ipynb\">\n",
    "        <img src = \"https://colab.research.google.com/assets/colab-badge.svg\" alt = \"Colab\"></th>\n",
    "  </tr>\n",
    "</table>"
   ]
  },
  {
   "cell_type": "markdown",
   "id": "07586352-0c41-41f3-ba3a-c50d3c56fd31",
   "metadata": {},
   "source": [
    "<br>"
   ]
  },
  {
   "cell_type": "markdown",
   "id": "c3cc871e-2704-476d-b6a0-d24c2d184c14",
   "metadata": {},
   "source": [
    "## Install and import packages"
   ]
  },
  {
   "cell_type": "code",
   "execution_count": 1,
   "id": "1791c879-fe77-4976-b626-885e3b3c6648",
   "metadata": {},
   "outputs": [
    {
     "name": "stdout",
     "output_type": "stream",
     "text": [
      "Requirement already satisfied: cdsapi in c:\\users\\cxcs\\anaconda3\\lib\\site-packages (0.5.1)\n",
      "Requirement already satisfied: tqdm in c:\\users\\cxcs\\anaconda3\\lib\\site-packages (from cdsapi) (4.62.3)\n",
      "Requirement already satisfied: requests>=2.5.0 in c:\\users\\cxcs\\anaconda3\\lib\\site-packages (from cdsapi) (2.26.0)\n",
      "Requirement already satisfied: charset-normalizer~=2.0.0 in c:\\users\\cxcs\\anaconda3\\lib\\site-packages (from requests>=2.5.0->cdsapi) (2.0.4)\n",
      "Requirement already satisfied: idna<4,>=2.5 in c:\\users\\cxcs\\anaconda3\\lib\\site-packages (from requests>=2.5.0->cdsapi) (3.2)\n",
      "Requirement already satisfied: certifi>=2017.4.17 in c:\\users\\cxcs\\anaconda3\\lib\\site-packages (from requests>=2.5.0->cdsapi) (2021.10.8)\n",
      "Requirement already satisfied: urllib3<1.27,>=1.21.1 in c:\\users\\cxcs\\anaconda3\\lib\\site-packages (from requests>=2.5.0->cdsapi) (1.26.7)\n",
      "Requirement already satisfied: colorama in c:\\users\\cxcs\\anaconda3\\lib\\site-packages (from tqdm->cdsapi) (0.4.4)\n"
     ]
    }
   ],
   "source": [
    "!pip install cdsapi"
   ]
  },
  {
   "cell_type": "code",
   "execution_count": 1,
   "id": "4fdce4cb-60bd-4107-aec4-89612351ecd1",
   "metadata": {
    "tags": []
   },
   "outputs": [],
   "source": [
    "# CDS API\n",
    "import cdsapi\n",
    "\n",
    "# Libraries for reading and working with multidimensional arrays\n",
    "import numpy as np\n",
    "import xarray as xr\n",
    "\n",
    "# Libraries for plotting and visualising data\n",
    "%matplotlib inline\n",
    "import matplotlib.pyplot as plt\n",
    "\n",
    "# Disable warnings for data download via API\n",
    "import urllib3 \n",
    "urllib3.disable_warnings()"
   ]
  },
  {
   "cell_type": "markdown",
   "id": "fee186bf",
   "metadata": {},
   "source": [
    "## Data access and preprocessing"
   ]
  },
  {
   "cell_type": "markdown",
   "id": "156fc184-a63d-479d-8f9c-4fa5d40a50ea",
   "metadata": {
    "tags": []
   },
   "source": [
    "### Download CAMS global reanalysis data\n",
    "\n",
    "Copy your API key into the code cell below, replacing `#######` with your key. (Remember, to access data from the ADS, you will need first to register/login https://ads.atmosphere.copernicus.eu and obtain an API key from https://ads.atmosphere.copernicus.eu/api-how-to.)"
   ]
  },
  {
   "cell_type": "code",
   "execution_count": null,
   "id": "b2fa83d3-e106-4069-84ab-1eb4f3dd0135",
   "metadata": {},
   "outputs": [],
   "source": [
    "URL = 'https://ads.atmosphere.copernicus.eu/api/v2'\n",
    "\n",
    "# Replace the hashtags with your key:\n",
    "KEY = '##########################################'"
   ]
  },
  {
   "cell_type": "markdown",
   "id": "0438ed31-8410-4442-a962-5617c92c9abb",
   "metadata": {
    "tags": []
   },
   "source": [
    "Here we specify a data directory into which we will download our data and all output files that we will generate:"
   ]
  },
  {
   "cell_type": "code",
   "execution_count": 2,
   "id": "704bcea4-2a46-43a6-80dc-b2d414f1d200",
   "metadata": {},
   "outputs": [],
   "source": [
    "DATADIR = '.'"
   ]
  },
  {
   "cell_type": "markdown",
   "id": "b6196665-3a35-43bd-9d64-a51b721ba6c7",
   "metadata": {},
   "source": [
    "For this tutorial, we will use CAMS Global Reanalysis (EAC4) data. The code below shows the subset characteristics that we will extract from this dataset as an API request."
   ]
  },
  {
   "cell_type": "markdown",
   "id": "42dcc065-7421-48a8-b355-7a1440af4e7f",
   "metadata": {},
   "source": [
    "```{note}\n",
    "Before running this code, ensure that you have **accepted the terms and conditions**. This is something you only need to do once for each CAMS dataset. You will find the option to do this by selecting the dataset in the ADS, then scrolling to the end of the *Download data* tab.\n",
    "```"
   ]
  },
  {
   "cell_type": "code",
   "execution_count": 36,
   "id": "63ba2629",
   "metadata": {},
   "outputs": [
    {
     "name": "stderr",
     "output_type": "stream",
     "text": [
      "2022-09-11 12:16:55,355 INFO Welcome to the CDS\n",
      "2022-09-11 12:16:55,358 INFO Sending request to https://ads.atmosphere.copernicus.eu/api/v2/resources/cams-global-reanalysis-eac4-monthly\n",
      "2022-09-11 12:16:55,428 INFO Request is queued\n",
      "2022-09-11 12:16:56,494 INFO Request is running\n",
      "2022-09-11 12:17:45,252 INFO Request is completed\n",
      "2022-09-11 12:17:45,253 INFO Downloading https://download-0005-ads-clone.copernicus-climate.eu/cache-compute-0005/cache/data9/adaptor.mars.internal-1662894988.4514306-17529-12-b1ed787e-7c7b-4d76-97a7-540ec28e5ca9.nc to ./CO_NHemis_JJA_2003-2021.nc (188.7M)\n",
      "2022-09-11 12:18:02,626 INFO Download rate 10.9M/s                                                                     \n"
     ]
    },
    {
     "data": {
      "text/plain": [
       "Result(content_length=197817276,content_type=application/x-netcdf,location=https://download-0005-ads-clone.copernicus-climate.eu/cache-compute-0005/cache/data9/adaptor.mars.internal-1662894988.4514306-17529-12-b1ed787e-7c7b-4d76-97a7-540ec28e5ca9.nc)"
      ]
     },
     "execution_count": 36,
     "metadata": {},
     "output_type": "execute_result"
    }
   ],
   "source": [
    "c = cdsapi.Client(url=URL, key=KEY)\n",
    "c.retrieve(\n",
    "    'cams-global-reanalysis-eac4-monthly',\n",
    "    {\n",
    "        'variable': 'carbon_monoxide',\n",
    "        'pressure_level': [\n",
    "            '100', '150', '200',\n",
    "            '250', '300', '400',\n",
    "            '500', '600', '700',\n",
    "            '800', '850', '900',\n",
    "            '925', '950', '1000',\n",
    "        ],\n",
    "        'year': [\n",
    "            '2003', '2004', '2005',\n",
    "            '2006', '2007', '2008',\n",
    "            '2009', '2010', '2011',\n",
    "            '2012', '2013', '2014',\n",
    "            '2015', '2016', '2017',\n",
    "            '2018', '2019', '2020',\n",
    "            '2021',\n",
    "        ],\n",
    "        'month': [\n",
    "            '06', '07', '08',\n",
    "        ],\n",
    "        'product_type': 'monthly_mean',\n",
    "        'format': 'netcdf',\n",
    "    },\n",
    "    f'{DATADIR}/CO_NHemis_JJA_2003-2021.nc')"
   ]
  },
  {
   "cell_type": "markdown",
   "id": "0cea2d7d",
   "metadata": {},
   "source": [
    "### Read and inspect data"
   ]
  },
  {
   "cell_type": "markdown",
   "id": "dabbb832-b2b3-4d39-a121-5fabdad0eb8d",
   "metadata": {
    "tags": []
   },
   "source": [
    "Read the data into an Xarray dataset:"
   ]
  },
  {
   "cell_type": "code",
   "execution_count": 3,
   "id": "25656de1",
   "metadata": {},
   "outputs": [
    {
     "data": {
      "text/html": [
       "<div><svg style=\"position: absolute; width: 0; height: 0; overflow: hidden\">\n",
       "<defs>\n",
       "<symbol id=\"icon-database\" viewBox=\"0 0 32 32\">\n",
       "<path d=\"M16 0c-8.837 0-16 2.239-16 5v4c0 2.761 7.163 5 16 5s16-2.239 16-5v-4c0-2.761-7.163-5-16-5z\"></path>\n",
       "<path d=\"M16 17c-8.837 0-16-2.239-16-5v6c0 2.761 7.163 5 16 5s16-2.239 16-5v-6c0 2.761-7.163 5-16 5z\"></path>\n",
       "<path d=\"M16 26c-8.837 0-16-2.239-16-5v6c0 2.761 7.163 5 16 5s16-2.239 16-5v-6c0 2.761-7.163 5-16 5z\"></path>\n",
       "</symbol>\n",
       "<symbol id=\"icon-file-text2\" viewBox=\"0 0 32 32\">\n",
       "<path d=\"M28.681 7.159c-0.694-0.947-1.662-2.053-2.724-3.116s-2.169-2.030-3.116-2.724c-1.612-1.182-2.393-1.319-2.841-1.319h-15.5c-1.378 0-2.5 1.121-2.5 2.5v27c0 1.378 1.122 2.5 2.5 2.5h23c1.378 0 2.5-1.122 2.5-2.5v-19.5c0-0.448-0.137-1.23-1.319-2.841zM24.543 5.457c0.959 0.959 1.712 1.825 2.268 2.543h-4.811v-4.811c0.718 0.556 1.584 1.309 2.543 2.268zM28 29.5c0 0.271-0.229 0.5-0.5 0.5h-23c-0.271 0-0.5-0.229-0.5-0.5v-27c0-0.271 0.229-0.5 0.5-0.5 0 0 15.499-0 15.5 0v7c0 0.552 0.448 1 1 1h7v19.5z\"></path>\n",
       "<path d=\"M23 26h-14c-0.552 0-1-0.448-1-1s0.448-1 1-1h14c0.552 0 1 0.448 1 1s-0.448 1-1 1z\"></path>\n",
       "<path d=\"M23 22h-14c-0.552 0-1-0.448-1-1s0.448-1 1-1h14c0.552 0 1 0.448 1 1s-0.448 1-1 1z\"></path>\n",
       "<path d=\"M23 18h-14c-0.552 0-1-0.448-1-1s0.448-1 1-1h14c0.552 0 1 0.448 1 1s-0.448 1-1 1z\"></path>\n",
       "</symbol>\n",
       "</defs>\n",
       "</svg>\n",
       "<style>/* CSS stylesheet for displaying xarray objects in jupyterlab.\n",
       " *\n",
       " */\n",
       "\n",
       ":root {\n",
       "  --xr-font-color0: var(--jp-content-font-color0, rgba(0, 0, 0, 1));\n",
       "  --xr-font-color2: var(--jp-content-font-color2, rgba(0, 0, 0, 0.54));\n",
       "  --xr-font-color3: var(--jp-content-font-color3, rgba(0, 0, 0, 0.38));\n",
       "  --xr-border-color: var(--jp-border-color2, #e0e0e0);\n",
       "  --xr-disabled-color: var(--jp-layout-color3, #bdbdbd);\n",
       "  --xr-background-color: var(--jp-layout-color0, white);\n",
       "  --xr-background-color-row-even: var(--jp-layout-color1, white);\n",
       "  --xr-background-color-row-odd: var(--jp-layout-color2, #eeeeee);\n",
       "}\n",
       "\n",
       "html[theme=dark],\n",
       "body.vscode-dark {\n",
       "  --xr-font-color0: rgba(255, 255, 255, 1);\n",
       "  --xr-font-color2: rgba(255, 255, 255, 0.54);\n",
       "  --xr-font-color3: rgba(255, 255, 255, 0.38);\n",
       "  --xr-border-color: #1F1F1F;\n",
       "  --xr-disabled-color: #515151;\n",
       "  --xr-background-color: #111111;\n",
       "  --xr-background-color-row-even: #111111;\n",
       "  --xr-background-color-row-odd: #313131;\n",
       "}\n",
       "\n",
       ".xr-wrap {\n",
       "  display: block !important;\n",
       "  min-width: 300px;\n",
       "  max-width: 700px;\n",
       "}\n",
       "\n",
       ".xr-text-repr-fallback {\n",
       "  /* fallback to plain text repr when CSS is not injected (untrusted notebook) */\n",
       "  display: none;\n",
       "}\n",
       "\n",
       ".xr-header {\n",
       "  padding-top: 6px;\n",
       "  padding-bottom: 6px;\n",
       "  margin-bottom: 4px;\n",
       "  border-bottom: solid 1px var(--xr-border-color);\n",
       "}\n",
       "\n",
       ".xr-header > div,\n",
       ".xr-header > ul {\n",
       "  display: inline;\n",
       "  margin-top: 0;\n",
       "  margin-bottom: 0;\n",
       "}\n",
       "\n",
       ".xr-obj-type,\n",
       ".xr-array-name {\n",
       "  margin-left: 2px;\n",
       "  margin-right: 10px;\n",
       "}\n",
       "\n",
       ".xr-obj-type {\n",
       "  color: var(--xr-font-color2);\n",
       "}\n",
       "\n",
       ".xr-sections {\n",
       "  padding-left: 0 !important;\n",
       "  display: grid;\n",
       "  grid-template-columns: 150px auto auto 1fr 20px 20px;\n",
       "}\n",
       "\n",
       ".xr-section-item {\n",
       "  display: contents;\n",
       "}\n",
       "\n",
       ".xr-section-item input {\n",
       "  display: none;\n",
       "}\n",
       "\n",
       ".xr-section-item input + label {\n",
       "  color: var(--xr-disabled-color);\n",
       "}\n",
       "\n",
       ".xr-section-item input:enabled + label {\n",
       "  cursor: pointer;\n",
       "  color: var(--xr-font-color2);\n",
       "}\n",
       "\n",
       ".xr-section-item input:enabled + label:hover {\n",
       "  color: var(--xr-font-color0);\n",
       "}\n",
       "\n",
       ".xr-section-summary {\n",
       "  grid-column: 1;\n",
       "  color: var(--xr-font-color2);\n",
       "  font-weight: 500;\n",
       "}\n",
       "\n",
       ".xr-section-summary > span {\n",
       "  display: inline-block;\n",
       "  padding-left: 0.5em;\n",
       "}\n",
       "\n",
       ".xr-section-summary-in:disabled + label {\n",
       "  color: var(--xr-font-color2);\n",
       "}\n",
       "\n",
       ".xr-section-summary-in + label:before {\n",
       "  display: inline-block;\n",
       "  content: '►';\n",
       "  font-size: 11px;\n",
       "  width: 15px;\n",
       "  text-align: center;\n",
       "}\n",
       "\n",
       ".xr-section-summary-in:disabled + label:before {\n",
       "  color: var(--xr-disabled-color);\n",
       "}\n",
       "\n",
       ".xr-section-summary-in:checked + label:before {\n",
       "  content: '▼';\n",
       "}\n",
       "\n",
       ".xr-section-summary-in:checked + label > span {\n",
       "  display: none;\n",
       "}\n",
       "\n",
       ".xr-section-summary,\n",
       ".xr-section-inline-details {\n",
       "  padding-top: 4px;\n",
       "  padding-bottom: 4px;\n",
       "}\n",
       "\n",
       ".xr-section-inline-details {\n",
       "  grid-column: 2 / -1;\n",
       "}\n",
       "\n",
       ".xr-section-details {\n",
       "  display: none;\n",
       "  grid-column: 1 / -1;\n",
       "  margin-bottom: 5px;\n",
       "}\n",
       "\n",
       ".xr-section-summary-in:checked ~ .xr-section-details {\n",
       "  display: contents;\n",
       "}\n",
       "\n",
       ".xr-array-wrap {\n",
       "  grid-column: 1 / -1;\n",
       "  display: grid;\n",
       "  grid-template-columns: 20px auto;\n",
       "}\n",
       "\n",
       ".xr-array-wrap > label {\n",
       "  grid-column: 1;\n",
       "  vertical-align: top;\n",
       "}\n",
       "\n",
       ".xr-preview {\n",
       "  color: var(--xr-font-color3);\n",
       "}\n",
       "\n",
       ".xr-array-preview,\n",
       ".xr-array-data {\n",
       "  padding: 0 5px !important;\n",
       "  grid-column: 2;\n",
       "}\n",
       "\n",
       ".xr-array-data,\n",
       ".xr-array-in:checked ~ .xr-array-preview {\n",
       "  display: none;\n",
       "}\n",
       "\n",
       ".xr-array-in:checked ~ .xr-array-data,\n",
       ".xr-array-preview {\n",
       "  display: inline-block;\n",
       "}\n",
       "\n",
       ".xr-dim-list {\n",
       "  display: inline-block !important;\n",
       "  list-style: none;\n",
       "  padding: 0 !important;\n",
       "  margin: 0;\n",
       "}\n",
       "\n",
       ".xr-dim-list li {\n",
       "  display: inline-block;\n",
       "  padding: 0;\n",
       "  margin: 0;\n",
       "}\n",
       "\n",
       ".xr-dim-list:before {\n",
       "  content: '(';\n",
       "}\n",
       "\n",
       ".xr-dim-list:after {\n",
       "  content: ')';\n",
       "}\n",
       "\n",
       ".xr-dim-list li:not(:last-child):after {\n",
       "  content: ',';\n",
       "  padding-right: 5px;\n",
       "}\n",
       "\n",
       ".xr-has-index {\n",
       "  font-weight: bold;\n",
       "}\n",
       "\n",
       ".xr-var-list,\n",
       ".xr-var-item {\n",
       "  display: contents;\n",
       "}\n",
       "\n",
       ".xr-var-item > div,\n",
       ".xr-var-item label,\n",
       ".xr-var-item > .xr-var-name span {\n",
       "  background-color: var(--xr-background-color-row-even);\n",
       "  margin-bottom: 0;\n",
       "}\n",
       "\n",
       ".xr-var-item > .xr-var-name:hover span {\n",
       "  padding-right: 5px;\n",
       "}\n",
       "\n",
       ".xr-var-list > li:nth-child(odd) > div,\n",
       ".xr-var-list > li:nth-child(odd) > label,\n",
       ".xr-var-list > li:nth-child(odd) > .xr-var-name span {\n",
       "  background-color: var(--xr-background-color-row-odd);\n",
       "}\n",
       "\n",
       ".xr-var-name {\n",
       "  grid-column: 1;\n",
       "}\n",
       "\n",
       ".xr-var-dims {\n",
       "  grid-column: 2;\n",
       "}\n",
       "\n",
       ".xr-var-dtype {\n",
       "  grid-column: 3;\n",
       "  text-align: right;\n",
       "  color: var(--xr-font-color2);\n",
       "}\n",
       "\n",
       ".xr-var-preview {\n",
       "  grid-column: 4;\n",
       "}\n",
       "\n",
       ".xr-var-name,\n",
       ".xr-var-dims,\n",
       ".xr-var-dtype,\n",
       ".xr-preview,\n",
       ".xr-attrs dt {\n",
       "  white-space: nowrap;\n",
       "  overflow: hidden;\n",
       "  text-overflow: ellipsis;\n",
       "  padding-right: 10px;\n",
       "}\n",
       "\n",
       ".xr-var-name:hover,\n",
       ".xr-var-dims:hover,\n",
       ".xr-var-dtype:hover,\n",
       ".xr-attrs dt:hover {\n",
       "  overflow: visible;\n",
       "  width: auto;\n",
       "  z-index: 1;\n",
       "}\n",
       "\n",
       ".xr-var-attrs,\n",
       ".xr-var-data {\n",
       "  display: none;\n",
       "  background-color: var(--xr-background-color) !important;\n",
       "  padding-bottom: 5px !important;\n",
       "}\n",
       "\n",
       ".xr-var-attrs-in:checked ~ .xr-var-attrs,\n",
       ".xr-var-data-in:checked ~ .xr-var-data {\n",
       "  display: block;\n",
       "}\n",
       "\n",
       ".xr-var-data > table {\n",
       "  float: right;\n",
       "}\n",
       "\n",
       ".xr-var-name span,\n",
       ".xr-var-data,\n",
       ".xr-attrs {\n",
       "  padding-left: 25px !important;\n",
       "}\n",
       "\n",
       ".xr-attrs,\n",
       ".xr-var-attrs,\n",
       ".xr-var-data {\n",
       "  grid-column: 1 / -1;\n",
       "}\n",
       "\n",
       "dl.xr-attrs {\n",
       "  padding: 0;\n",
       "  margin: 0;\n",
       "  display: grid;\n",
       "  grid-template-columns: 125px auto;\n",
       "}\n",
       "\n",
       ".xr-attrs dt,\n",
       ".xr-attrs dd {\n",
       "  padding: 0;\n",
       "  margin: 0;\n",
       "  float: left;\n",
       "  padding-right: 10px;\n",
       "  width: auto;\n",
       "}\n",
       "\n",
       ".xr-attrs dt {\n",
       "  font-weight: normal;\n",
       "  grid-column: 1;\n",
       "}\n",
       "\n",
       ".xr-attrs dt:hover span {\n",
       "  display: inline-block;\n",
       "  background: var(--xr-background-color);\n",
       "  padding-right: 10px;\n",
       "}\n",
       "\n",
       ".xr-attrs dd {\n",
       "  grid-column: 2;\n",
       "  white-space: pre-wrap;\n",
       "  word-break: break-all;\n",
       "}\n",
       "\n",
       ".xr-icon-database,\n",
       ".xr-icon-file-text2 {\n",
       "  display: inline-block;\n",
       "  vertical-align: middle;\n",
       "  width: 1em;\n",
       "  height: 1.5em !important;\n",
       "  stroke-width: 0;\n",
       "  stroke: currentColor;\n",
       "  fill: currentColor;\n",
       "}\n",
       "</style><pre class='xr-text-repr-fallback'>&lt;xarray.Dataset&gt;\n",
       "Dimensions:    (longitude: 480, latitude: 241, level: 15, time: 57)\n",
       "Coordinates:\n",
       "  * longitude  (longitude) float32 0.0 0.75 1.5 2.25 ... 357.0 357.8 358.5 359.2\n",
       "  * latitude   (latitude) float32 90.0 89.25 88.5 87.75 ... -88.5 -89.25 -90.0\n",
       "  * level      (level) int32 100 150 200 250 300 400 ... 850 900 925 950 1000\n",
       "  * time       (time) datetime64[ns] 2003-06-01 2003-07-01 ... 2021-08-01\n",
       "Data variables:\n",
       "    co         (time, level, latitude, longitude) float32 ...\n",
       "Attributes:\n",
       "    Conventions:  CF-1.6\n",
       "    history:      2022-09-11 11:16:31 GMT by grib_to_netcdf-2.25.1: /opt/ecmw...</pre><div class='xr-wrap' style='display:none'><div class='xr-header'><div class='xr-obj-type'>xarray.Dataset</div></div><ul class='xr-sections'><li class='xr-section-item'><input id='section-f391814a-d6b7-4a65-be12-ea140879970c' class='xr-section-summary-in' type='checkbox' disabled ><label for='section-f391814a-d6b7-4a65-be12-ea140879970c' class='xr-section-summary'  title='Expand/collapse section'>Dimensions:</label><div class='xr-section-inline-details'><ul class='xr-dim-list'><li><span class='xr-has-index'>longitude</span>: 480</li><li><span class='xr-has-index'>latitude</span>: 241</li><li><span class='xr-has-index'>level</span>: 15</li><li><span class='xr-has-index'>time</span>: 57</li></ul></div><div class='xr-section-details'></div></li><li class='xr-section-item'><input id='section-7f75d89b-970c-480c-b494-19d4191059fa' class='xr-section-summary-in' type='checkbox'  checked><label for='section-7f75d89b-970c-480c-b494-19d4191059fa' class='xr-section-summary' >Coordinates: <span>(4)</span></label><div class='xr-section-inline-details'></div><div class='xr-section-details'><ul class='xr-var-list'><li class='xr-var-item'><div class='xr-var-name'><span class='xr-has-index'>longitude</span></div><div class='xr-var-dims'>(longitude)</div><div class='xr-var-dtype'>float32</div><div class='xr-var-preview xr-preview'>0.0 0.75 1.5 ... 357.8 358.5 359.2</div><input id='attrs-077b3a5f-2bdb-4e97-bd9a-e25eab4defef' class='xr-var-attrs-in' type='checkbox' ><label for='attrs-077b3a5f-2bdb-4e97-bd9a-e25eab4defef' title='Show/Hide attributes'><svg class='icon xr-icon-file-text2'><use xlink:href='#icon-file-text2'></use></svg></label><input id='data-14685eed-dda9-40e3-ba2a-d27f08c54969' class='xr-var-data-in' type='checkbox'><label for='data-14685eed-dda9-40e3-ba2a-d27f08c54969' title='Show/Hide data repr'><svg class='icon xr-icon-database'><use xlink:href='#icon-database'></use></svg></label><div class='xr-var-attrs'><dl class='xr-attrs'><dt><span>units :</span></dt><dd>degrees_east</dd><dt><span>long_name :</span></dt><dd>longitude</dd></dl></div><div class='xr-var-data'><pre>array([  0.  ,   0.75,   1.5 , ..., 357.75, 358.5 , 359.25], dtype=float32)</pre></div></li><li class='xr-var-item'><div class='xr-var-name'><span class='xr-has-index'>latitude</span></div><div class='xr-var-dims'>(latitude)</div><div class='xr-var-dtype'>float32</div><div class='xr-var-preview xr-preview'>90.0 89.25 88.5 ... -89.25 -90.0</div><input id='attrs-5da58de1-21fc-4b6d-bba5-6ac9bba06c46' class='xr-var-attrs-in' type='checkbox' ><label for='attrs-5da58de1-21fc-4b6d-bba5-6ac9bba06c46' title='Show/Hide attributes'><svg class='icon xr-icon-file-text2'><use xlink:href='#icon-file-text2'></use></svg></label><input id='data-89b18b3a-0cd0-4d98-872c-65cd82190d0a' class='xr-var-data-in' type='checkbox'><label for='data-89b18b3a-0cd0-4d98-872c-65cd82190d0a' title='Show/Hide data repr'><svg class='icon xr-icon-database'><use xlink:href='#icon-database'></use></svg></label><div class='xr-var-attrs'><dl class='xr-attrs'><dt><span>units :</span></dt><dd>degrees_north</dd><dt><span>long_name :</span></dt><dd>latitude</dd></dl></div><div class='xr-var-data'><pre>array([ 90.  ,  89.25,  88.5 , ..., -88.5 , -89.25, -90.  ], dtype=float32)</pre></div></li><li class='xr-var-item'><div class='xr-var-name'><span class='xr-has-index'>level</span></div><div class='xr-var-dims'>(level)</div><div class='xr-var-dtype'>int32</div><div class='xr-var-preview xr-preview'>100 150 200 250 ... 925 950 1000</div><input id='attrs-f50aa204-d6d0-4fdf-bf3c-12a586fba904' class='xr-var-attrs-in' type='checkbox' ><label for='attrs-f50aa204-d6d0-4fdf-bf3c-12a586fba904' title='Show/Hide attributes'><svg class='icon xr-icon-file-text2'><use xlink:href='#icon-file-text2'></use></svg></label><input id='data-2d0d108a-cc1d-4418-b76b-758e022e9e5a' class='xr-var-data-in' type='checkbox'><label for='data-2d0d108a-cc1d-4418-b76b-758e022e9e5a' title='Show/Hide data repr'><svg class='icon xr-icon-database'><use xlink:href='#icon-database'></use></svg></label><div class='xr-var-attrs'><dl class='xr-attrs'><dt><span>units :</span></dt><dd>millibars</dd><dt><span>long_name :</span></dt><dd>pressure_level</dd></dl></div><div class='xr-var-data'><pre>array([ 100,  150,  200,  250,  300,  400,  500,  600,  700,  800,  850,  900,\n",
       "        925,  950, 1000])</pre></div></li><li class='xr-var-item'><div class='xr-var-name'><span class='xr-has-index'>time</span></div><div class='xr-var-dims'>(time)</div><div class='xr-var-dtype'>datetime64[ns]</div><div class='xr-var-preview xr-preview'>2003-06-01 ... 2021-08-01</div><input id='attrs-2800661a-4fe8-4f05-af30-da8cb27e0746' class='xr-var-attrs-in' type='checkbox' ><label for='attrs-2800661a-4fe8-4f05-af30-da8cb27e0746' title='Show/Hide attributes'><svg class='icon xr-icon-file-text2'><use xlink:href='#icon-file-text2'></use></svg></label><input id='data-b8432eb9-071f-4a17-9d40-10d207765f9d' class='xr-var-data-in' type='checkbox'><label for='data-b8432eb9-071f-4a17-9d40-10d207765f9d' title='Show/Hide data repr'><svg class='icon xr-icon-database'><use xlink:href='#icon-database'></use></svg></label><div class='xr-var-attrs'><dl class='xr-attrs'><dt><span>long_name :</span></dt><dd>time</dd></dl></div><div class='xr-var-data'><pre>array([&#x27;2003-06-01T00:00:00.000000000&#x27;, &#x27;2003-07-01T00:00:00.000000000&#x27;,\n",
       "       &#x27;2003-08-01T00:00:00.000000000&#x27;, &#x27;2004-06-01T00:00:00.000000000&#x27;,\n",
       "       &#x27;2004-07-01T00:00:00.000000000&#x27;, &#x27;2004-08-01T00:00:00.000000000&#x27;,\n",
       "       &#x27;2005-06-01T00:00:00.000000000&#x27;, &#x27;2005-07-01T00:00:00.000000000&#x27;,\n",
       "       &#x27;2005-08-01T00:00:00.000000000&#x27;, &#x27;2006-06-01T00:00:00.000000000&#x27;,\n",
       "       &#x27;2006-07-01T00:00:00.000000000&#x27;, &#x27;2006-08-01T00:00:00.000000000&#x27;,\n",
       "       &#x27;2007-06-01T00:00:00.000000000&#x27;, &#x27;2007-07-01T00:00:00.000000000&#x27;,\n",
       "       &#x27;2007-08-01T00:00:00.000000000&#x27;, &#x27;2008-06-01T00:00:00.000000000&#x27;,\n",
       "       &#x27;2008-07-01T00:00:00.000000000&#x27;, &#x27;2008-08-01T00:00:00.000000000&#x27;,\n",
       "       &#x27;2009-06-01T00:00:00.000000000&#x27;, &#x27;2009-07-01T00:00:00.000000000&#x27;,\n",
       "       &#x27;2009-08-01T00:00:00.000000000&#x27;, &#x27;2010-06-01T00:00:00.000000000&#x27;,\n",
       "       &#x27;2010-07-01T00:00:00.000000000&#x27;, &#x27;2010-08-01T00:00:00.000000000&#x27;,\n",
       "       &#x27;2011-06-01T00:00:00.000000000&#x27;, &#x27;2011-07-01T00:00:00.000000000&#x27;,\n",
       "       &#x27;2011-08-01T00:00:00.000000000&#x27;, &#x27;2012-06-01T00:00:00.000000000&#x27;,\n",
       "       &#x27;2012-07-01T00:00:00.000000000&#x27;, &#x27;2012-08-01T00:00:00.000000000&#x27;,\n",
       "       &#x27;2013-06-01T00:00:00.000000000&#x27;, &#x27;2013-07-01T00:00:00.000000000&#x27;,\n",
       "       &#x27;2013-08-01T00:00:00.000000000&#x27;, &#x27;2014-06-01T00:00:00.000000000&#x27;,\n",
       "       &#x27;2014-07-01T00:00:00.000000000&#x27;, &#x27;2014-08-01T00:00:00.000000000&#x27;,\n",
       "       &#x27;2015-06-01T00:00:00.000000000&#x27;, &#x27;2015-07-01T00:00:00.000000000&#x27;,\n",
       "       &#x27;2015-08-01T00:00:00.000000000&#x27;, &#x27;2016-06-01T00:00:00.000000000&#x27;,\n",
       "       &#x27;2016-07-01T00:00:00.000000000&#x27;, &#x27;2016-08-01T00:00:00.000000000&#x27;,\n",
       "       &#x27;2017-06-01T00:00:00.000000000&#x27;, &#x27;2017-07-01T00:00:00.000000000&#x27;,\n",
       "       &#x27;2017-08-01T00:00:00.000000000&#x27;, &#x27;2018-06-01T00:00:00.000000000&#x27;,\n",
       "       &#x27;2018-07-01T00:00:00.000000000&#x27;, &#x27;2018-08-01T00:00:00.000000000&#x27;,\n",
       "       &#x27;2019-06-01T00:00:00.000000000&#x27;, &#x27;2019-07-01T00:00:00.000000000&#x27;,\n",
       "       &#x27;2019-08-01T00:00:00.000000000&#x27;, &#x27;2020-06-01T00:00:00.000000000&#x27;,\n",
       "       &#x27;2020-07-01T00:00:00.000000000&#x27;, &#x27;2020-08-01T00:00:00.000000000&#x27;,\n",
       "       &#x27;2021-06-01T00:00:00.000000000&#x27;, &#x27;2021-07-01T00:00:00.000000000&#x27;,\n",
       "       &#x27;2021-08-01T00:00:00.000000000&#x27;], dtype=&#x27;datetime64[ns]&#x27;)</pre></div></li></ul></div></li><li class='xr-section-item'><input id='section-2c0185f0-cd2a-405a-84a2-455b507a5834' class='xr-section-summary-in' type='checkbox'  checked><label for='section-2c0185f0-cd2a-405a-84a2-455b507a5834' class='xr-section-summary' >Data variables: <span>(1)</span></label><div class='xr-section-inline-details'></div><div class='xr-section-details'><ul class='xr-var-list'><li class='xr-var-item'><div class='xr-var-name'><span>co</span></div><div class='xr-var-dims'>(time, level, latitude, longitude)</div><div class='xr-var-dtype'>float32</div><div class='xr-var-preview xr-preview'>...</div><input id='attrs-deec2a14-76db-4e02-bbd7-897f5700261b' class='xr-var-attrs-in' type='checkbox' ><label for='attrs-deec2a14-76db-4e02-bbd7-897f5700261b' title='Show/Hide attributes'><svg class='icon xr-icon-file-text2'><use xlink:href='#icon-file-text2'></use></svg></label><input id='data-2ae920d9-85b2-4c8f-a99e-8283963d6571' class='xr-var-data-in' type='checkbox'><label for='data-2ae920d9-85b2-4c8f-a99e-8283963d6571' title='Show/Hide data repr'><svg class='icon xr-icon-database'><use xlink:href='#icon-database'></use></svg></label><div class='xr-var-attrs'><dl class='xr-attrs'><dt><span>units :</span></dt><dd>kg kg**-1</dd><dt><span>long_name :</span></dt><dd>Carbon monoxide mass mixing ratio</dd><dt><span>standard_name :</span></dt><dd>mass_fraction_of_carbon_monoxide_in_air</dd></dl></div><div class='xr-var-data'><pre>[98906400 values with dtype=float32]</pre></div></li></ul></div></li><li class='xr-section-item'><input id='section-af35ee19-40fd-4e05-a93d-6bc61d5d626e' class='xr-section-summary-in' type='checkbox'  checked><label for='section-af35ee19-40fd-4e05-a93d-6bc61d5d626e' class='xr-section-summary' >Attributes: <span>(2)</span></label><div class='xr-section-inline-details'></div><div class='xr-section-details'><dl class='xr-attrs'><dt><span>Conventions :</span></dt><dd>CF-1.6</dd><dt><span>history :</span></dt><dd>2022-09-11 11:16:31 GMT by grib_to_netcdf-2.25.1: /opt/ecmwf/mars-client/bin/grib_to_netcdf.bin -S param -o /cache/data9/adaptor.mars.internal-1662894988.4514306-17529-12-b1ed787e-7c7b-4d76-97a7-540ec28e5ca9.nc /cache/tmp/b1ed787e-7c7b-4d76-97a7-540ec28e5ca9-adaptor.mars.internal-1662894944.2277246-17529-30-tmp.grib</dd></dl></div></li></ul></div></div>"
      ],
      "text/plain": [
       "<xarray.Dataset>\n",
       "Dimensions:    (longitude: 480, latitude: 241, level: 15, time: 57)\n",
       "Coordinates:\n",
       "  * longitude  (longitude) float32 0.0 0.75 1.5 2.25 ... 357.0 357.8 358.5 359.2\n",
       "  * latitude   (latitude) float32 90.0 89.25 88.5 87.75 ... -88.5 -89.25 -90.0\n",
       "  * level      (level) int32 100 150 200 250 300 400 ... 850 900 925 950 1000\n",
       "  * time       (time) datetime64[ns] 2003-06-01 2003-07-01 ... 2021-08-01\n",
       "Data variables:\n",
       "    co         (time, level, latitude, longitude) float32 ...\n",
       "Attributes:\n",
       "    Conventions:  CF-1.6\n",
       "    history:      2022-09-11 11:16:31 GMT by grib_to_netcdf-2.25.1: /opt/ecmw..."
      ]
     },
     "execution_count": 3,
     "metadata": {},
     "output_type": "execute_result"
    }
   ],
   "source": [
    "fn = f'{DATADIR}/CO_NHemis_JJA_2003-2021.nc'\n",
    "ds = xr.open_dataset(fn)\n",
    "ds"
   ]
  },
  {
   "cell_type": "markdown",
   "id": "cf789642-6047-41f6-9d7f-6a5c13b68455",
   "metadata": {},
   "source": [
    "### Representation of pressure levels\n",
    "\n",
    "Our CO dataset represents 15 levels of the atmosphere, from 1000 (surface) to 100 hectopascals (hPa). This can be best visualised in a logarithmic scale, or if converted to altitude."
   ]
  },
  {
   "cell_type": "markdown",
   "id": "96ca975a-cf4d-447b-892c-a5bc1a55bea9",
   "metadata": {
    "tags": []
   },
   "source": [
    "#### Pressure levels in logarithmic scale\n",
    "\n",
    "Here we create a new coordinate of our Data Array with the logarithm of the pressure levels, to facilitate visualisation in our plots."
   ]
  },
  {
   "cell_type": "code",
   "execution_count": 4,
   "id": "bf9e2a5f-64b1-43ec-b789-eef515ed45db",
   "metadata": {},
   "outputs": [],
   "source": [
    "ds['level_log10'] = np.log10(ds['level'])"
   ]
  },
  {
   "cell_type": "code",
   "execution_count": 5,
   "id": "6bc9450c-b676-46b2-a352-daacfea5e722",
   "metadata": {},
   "outputs": [],
   "source": [
    "ds = ds.set_coords('level_log10')"
   ]
  },
  {
   "cell_type": "markdown",
   "id": "fbd53a65-7871-4f54-9dae-bc57a765da44",
   "metadata": {},
   "source": [
    "#### Pressure levels to altitude\n",
    "\n",
    "Here we create a new coordinate with altitude. The altitude in meters can be calculated with the international barometric formula:\n",
    "\n",
    "H = 44330 * [1 - (P/p0)^(1/5.255) ]\n",
    "\n",
    "Where H = altitude (m), P = measured pressure (Pa) from the sensor, and p0 = reference pressure at sea level (e.g. 1000 hPa)\n",
    "\n",
    "Here we shall assume that the reference pressure at sea level is 1000 hPa."
   ]
  },
  {
   "cell_type": "code",
   "execution_count": 6,
   "id": "b1d103d7-6991-448d-8702-8770139a2e97",
   "metadata": {},
   "outputs": [],
   "source": [
    "ds['height'] = 44330. * (1 - ((ds['level']/1000.)**(1/5.255)))"
   ]
  },
  {
   "cell_type": "markdown",
   "id": "c9752f45-99dc-49b2-a5fa-e9a16cbfba43",
   "metadata": {},
   "source": [
    "We will convert the heights from meters to kilometers:"
   ]
  },
  {
   "cell_type": "code",
   "execution_count": 7,
   "id": "5d6af0a7-3747-428e-8799-7a52ac8bb507",
   "metadata": {},
   "outputs": [],
   "source": [
    "ds['height'] = ds['height']/1000."
   ]
  },
  {
   "cell_type": "markdown",
   "id": "faa73cf5-359e-498f-9df9-0561949d8e08",
   "metadata": {},
   "source": [
    "Here we set the heights as a coordinate in our Xarray Dataset."
   ]
  },
  {
   "cell_type": "code",
   "execution_count": 8,
   "id": "151338ef-c93e-472e-bcac-8d455b737f77",
   "metadata": {},
   "outputs": [],
   "source": [
    "ds = ds.set_coords('height')"
   ]
  },
  {
   "cell_type": "markdown",
   "id": "802d8427-1be9-4536-8fb8-1e2377276ab9",
   "metadata": {},
   "source": [
    "### Convert xarray Dataset into Data Array"
   ]
  },
  {
   "cell_type": "markdown",
   "id": "033184dc-2e0a-48e7-abac-78014848a956",
   "metadata": {},
   "source": [
    "To facilitate later processing, we will now convert this xarray Dataset into an Xarray Data Array object. This is an object which allows more options for processing data of only one variable, in this case CO."
   ]
  },
  {
   "cell_type": "code",
   "execution_count": 9,
   "id": "40b350cf",
   "metadata": {},
   "outputs": [],
   "source": [
    "da = ds['co']"
   ]
  },
  {
   "cell_type": "code",
   "execution_count": 10,
   "id": "4476d89a-3e38-4edb-bb29-2b413b507fb8",
   "metadata": {},
   "outputs": [
    {
     "data": {
      "text/html": [
       "<div><svg style=\"position: absolute; width: 0; height: 0; overflow: hidden\">\n",
       "<defs>\n",
       "<symbol id=\"icon-database\" viewBox=\"0 0 32 32\">\n",
       "<path d=\"M16 0c-8.837 0-16 2.239-16 5v4c0 2.761 7.163 5 16 5s16-2.239 16-5v-4c0-2.761-7.163-5-16-5z\"></path>\n",
       "<path d=\"M16 17c-8.837 0-16-2.239-16-5v6c0 2.761 7.163 5 16 5s16-2.239 16-5v-6c0 2.761-7.163 5-16 5z\"></path>\n",
       "<path d=\"M16 26c-8.837 0-16-2.239-16-5v6c0 2.761 7.163 5 16 5s16-2.239 16-5v-6c0 2.761-7.163 5-16 5z\"></path>\n",
       "</symbol>\n",
       "<symbol id=\"icon-file-text2\" viewBox=\"0 0 32 32\">\n",
       "<path d=\"M28.681 7.159c-0.694-0.947-1.662-2.053-2.724-3.116s-2.169-2.030-3.116-2.724c-1.612-1.182-2.393-1.319-2.841-1.319h-15.5c-1.378 0-2.5 1.121-2.5 2.5v27c0 1.378 1.122 2.5 2.5 2.5h23c1.378 0 2.5-1.122 2.5-2.5v-19.5c0-0.448-0.137-1.23-1.319-2.841zM24.543 5.457c0.959 0.959 1.712 1.825 2.268 2.543h-4.811v-4.811c0.718 0.556 1.584 1.309 2.543 2.268zM28 29.5c0 0.271-0.229 0.5-0.5 0.5h-23c-0.271 0-0.5-0.229-0.5-0.5v-27c0-0.271 0.229-0.5 0.5-0.5 0 0 15.499-0 15.5 0v7c0 0.552 0.448 1 1 1h7v19.5z\"></path>\n",
       "<path d=\"M23 26h-14c-0.552 0-1-0.448-1-1s0.448-1 1-1h14c0.552 0 1 0.448 1 1s-0.448 1-1 1z\"></path>\n",
       "<path d=\"M23 22h-14c-0.552 0-1-0.448-1-1s0.448-1 1-1h14c0.552 0 1 0.448 1 1s-0.448 1-1 1z\"></path>\n",
       "<path d=\"M23 18h-14c-0.552 0-1-0.448-1-1s0.448-1 1-1h14c0.552 0 1 0.448 1 1s-0.448 1-1 1z\"></path>\n",
       "</symbol>\n",
       "</defs>\n",
       "</svg>\n",
       "<style>/* CSS stylesheet for displaying xarray objects in jupyterlab.\n",
       " *\n",
       " */\n",
       "\n",
       ":root {\n",
       "  --xr-font-color0: var(--jp-content-font-color0, rgba(0, 0, 0, 1));\n",
       "  --xr-font-color2: var(--jp-content-font-color2, rgba(0, 0, 0, 0.54));\n",
       "  --xr-font-color3: var(--jp-content-font-color3, rgba(0, 0, 0, 0.38));\n",
       "  --xr-border-color: var(--jp-border-color2, #e0e0e0);\n",
       "  --xr-disabled-color: var(--jp-layout-color3, #bdbdbd);\n",
       "  --xr-background-color: var(--jp-layout-color0, white);\n",
       "  --xr-background-color-row-even: var(--jp-layout-color1, white);\n",
       "  --xr-background-color-row-odd: var(--jp-layout-color2, #eeeeee);\n",
       "}\n",
       "\n",
       "html[theme=dark],\n",
       "body.vscode-dark {\n",
       "  --xr-font-color0: rgba(255, 255, 255, 1);\n",
       "  --xr-font-color2: rgba(255, 255, 255, 0.54);\n",
       "  --xr-font-color3: rgba(255, 255, 255, 0.38);\n",
       "  --xr-border-color: #1F1F1F;\n",
       "  --xr-disabled-color: #515151;\n",
       "  --xr-background-color: #111111;\n",
       "  --xr-background-color-row-even: #111111;\n",
       "  --xr-background-color-row-odd: #313131;\n",
       "}\n",
       "\n",
       ".xr-wrap {\n",
       "  display: block !important;\n",
       "  min-width: 300px;\n",
       "  max-width: 700px;\n",
       "}\n",
       "\n",
       ".xr-text-repr-fallback {\n",
       "  /* fallback to plain text repr when CSS is not injected (untrusted notebook) */\n",
       "  display: none;\n",
       "}\n",
       "\n",
       ".xr-header {\n",
       "  padding-top: 6px;\n",
       "  padding-bottom: 6px;\n",
       "  margin-bottom: 4px;\n",
       "  border-bottom: solid 1px var(--xr-border-color);\n",
       "}\n",
       "\n",
       ".xr-header > div,\n",
       ".xr-header > ul {\n",
       "  display: inline;\n",
       "  margin-top: 0;\n",
       "  margin-bottom: 0;\n",
       "}\n",
       "\n",
       ".xr-obj-type,\n",
       ".xr-array-name {\n",
       "  margin-left: 2px;\n",
       "  margin-right: 10px;\n",
       "}\n",
       "\n",
       ".xr-obj-type {\n",
       "  color: var(--xr-font-color2);\n",
       "}\n",
       "\n",
       ".xr-sections {\n",
       "  padding-left: 0 !important;\n",
       "  display: grid;\n",
       "  grid-template-columns: 150px auto auto 1fr 20px 20px;\n",
       "}\n",
       "\n",
       ".xr-section-item {\n",
       "  display: contents;\n",
       "}\n",
       "\n",
       ".xr-section-item input {\n",
       "  display: none;\n",
       "}\n",
       "\n",
       ".xr-section-item input + label {\n",
       "  color: var(--xr-disabled-color);\n",
       "}\n",
       "\n",
       ".xr-section-item input:enabled + label {\n",
       "  cursor: pointer;\n",
       "  color: var(--xr-font-color2);\n",
       "}\n",
       "\n",
       ".xr-section-item input:enabled + label:hover {\n",
       "  color: var(--xr-font-color0);\n",
       "}\n",
       "\n",
       ".xr-section-summary {\n",
       "  grid-column: 1;\n",
       "  color: var(--xr-font-color2);\n",
       "  font-weight: 500;\n",
       "}\n",
       "\n",
       ".xr-section-summary > span {\n",
       "  display: inline-block;\n",
       "  padding-left: 0.5em;\n",
       "}\n",
       "\n",
       ".xr-section-summary-in:disabled + label {\n",
       "  color: var(--xr-font-color2);\n",
       "}\n",
       "\n",
       ".xr-section-summary-in + label:before {\n",
       "  display: inline-block;\n",
       "  content: '►';\n",
       "  font-size: 11px;\n",
       "  width: 15px;\n",
       "  text-align: center;\n",
       "}\n",
       "\n",
       ".xr-section-summary-in:disabled + label:before {\n",
       "  color: var(--xr-disabled-color);\n",
       "}\n",
       "\n",
       ".xr-section-summary-in:checked + label:before {\n",
       "  content: '▼';\n",
       "}\n",
       "\n",
       ".xr-section-summary-in:checked + label > span {\n",
       "  display: none;\n",
       "}\n",
       "\n",
       ".xr-section-summary,\n",
       ".xr-section-inline-details {\n",
       "  padding-top: 4px;\n",
       "  padding-bottom: 4px;\n",
       "}\n",
       "\n",
       ".xr-section-inline-details {\n",
       "  grid-column: 2 / -1;\n",
       "}\n",
       "\n",
       ".xr-section-details {\n",
       "  display: none;\n",
       "  grid-column: 1 / -1;\n",
       "  margin-bottom: 5px;\n",
       "}\n",
       "\n",
       ".xr-section-summary-in:checked ~ .xr-section-details {\n",
       "  display: contents;\n",
       "}\n",
       "\n",
       ".xr-array-wrap {\n",
       "  grid-column: 1 / -1;\n",
       "  display: grid;\n",
       "  grid-template-columns: 20px auto;\n",
       "}\n",
       "\n",
       ".xr-array-wrap > label {\n",
       "  grid-column: 1;\n",
       "  vertical-align: top;\n",
       "}\n",
       "\n",
       ".xr-preview {\n",
       "  color: var(--xr-font-color3);\n",
       "}\n",
       "\n",
       ".xr-array-preview,\n",
       ".xr-array-data {\n",
       "  padding: 0 5px !important;\n",
       "  grid-column: 2;\n",
       "}\n",
       "\n",
       ".xr-array-data,\n",
       ".xr-array-in:checked ~ .xr-array-preview {\n",
       "  display: none;\n",
       "}\n",
       "\n",
       ".xr-array-in:checked ~ .xr-array-data,\n",
       ".xr-array-preview {\n",
       "  display: inline-block;\n",
       "}\n",
       "\n",
       ".xr-dim-list {\n",
       "  display: inline-block !important;\n",
       "  list-style: none;\n",
       "  padding: 0 !important;\n",
       "  margin: 0;\n",
       "}\n",
       "\n",
       ".xr-dim-list li {\n",
       "  display: inline-block;\n",
       "  padding: 0;\n",
       "  margin: 0;\n",
       "}\n",
       "\n",
       ".xr-dim-list:before {\n",
       "  content: '(';\n",
       "}\n",
       "\n",
       ".xr-dim-list:after {\n",
       "  content: ')';\n",
       "}\n",
       "\n",
       ".xr-dim-list li:not(:last-child):after {\n",
       "  content: ',';\n",
       "  padding-right: 5px;\n",
       "}\n",
       "\n",
       ".xr-has-index {\n",
       "  font-weight: bold;\n",
       "}\n",
       "\n",
       ".xr-var-list,\n",
       ".xr-var-item {\n",
       "  display: contents;\n",
       "}\n",
       "\n",
       ".xr-var-item > div,\n",
       ".xr-var-item label,\n",
       ".xr-var-item > .xr-var-name span {\n",
       "  background-color: var(--xr-background-color-row-even);\n",
       "  margin-bottom: 0;\n",
       "}\n",
       "\n",
       ".xr-var-item > .xr-var-name:hover span {\n",
       "  padding-right: 5px;\n",
       "}\n",
       "\n",
       ".xr-var-list > li:nth-child(odd) > div,\n",
       ".xr-var-list > li:nth-child(odd) > label,\n",
       ".xr-var-list > li:nth-child(odd) > .xr-var-name span {\n",
       "  background-color: var(--xr-background-color-row-odd);\n",
       "}\n",
       "\n",
       ".xr-var-name {\n",
       "  grid-column: 1;\n",
       "}\n",
       "\n",
       ".xr-var-dims {\n",
       "  grid-column: 2;\n",
       "}\n",
       "\n",
       ".xr-var-dtype {\n",
       "  grid-column: 3;\n",
       "  text-align: right;\n",
       "  color: var(--xr-font-color2);\n",
       "}\n",
       "\n",
       ".xr-var-preview {\n",
       "  grid-column: 4;\n",
       "}\n",
       "\n",
       ".xr-var-name,\n",
       ".xr-var-dims,\n",
       ".xr-var-dtype,\n",
       ".xr-preview,\n",
       ".xr-attrs dt {\n",
       "  white-space: nowrap;\n",
       "  overflow: hidden;\n",
       "  text-overflow: ellipsis;\n",
       "  padding-right: 10px;\n",
       "}\n",
       "\n",
       ".xr-var-name:hover,\n",
       ".xr-var-dims:hover,\n",
       ".xr-var-dtype:hover,\n",
       ".xr-attrs dt:hover {\n",
       "  overflow: visible;\n",
       "  width: auto;\n",
       "  z-index: 1;\n",
       "}\n",
       "\n",
       ".xr-var-attrs,\n",
       ".xr-var-data {\n",
       "  display: none;\n",
       "  background-color: var(--xr-background-color) !important;\n",
       "  padding-bottom: 5px !important;\n",
       "}\n",
       "\n",
       ".xr-var-attrs-in:checked ~ .xr-var-attrs,\n",
       ".xr-var-data-in:checked ~ .xr-var-data {\n",
       "  display: block;\n",
       "}\n",
       "\n",
       ".xr-var-data > table {\n",
       "  float: right;\n",
       "}\n",
       "\n",
       ".xr-var-name span,\n",
       ".xr-var-data,\n",
       ".xr-attrs {\n",
       "  padding-left: 25px !important;\n",
       "}\n",
       "\n",
       ".xr-attrs,\n",
       ".xr-var-attrs,\n",
       ".xr-var-data {\n",
       "  grid-column: 1 / -1;\n",
       "}\n",
       "\n",
       "dl.xr-attrs {\n",
       "  padding: 0;\n",
       "  margin: 0;\n",
       "  display: grid;\n",
       "  grid-template-columns: 125px auto;\n",
       "}\n",
       "\n",
       ".xr-attrs dt,\n",
       ".xr-attrs dd {\n",
       "  padding: 0;\n",
       "  margin: 0;\n",
       "  float: left;\n",
       "  padding-right: 10px;\n",
       "  width: auto;\n",
       "}\n",
       "\n",
       ".xr-attrs dt {\n",
       "  font-weight: normal;\n",
       "  grid-column: 1;\n",
       "}\n",
       "\n",
       ".xr-attrs dt:hover span {\n",
       "  display: inline-block;\n",
       "  background: var(--xr-background-color);\n",
       "  padding-right: 10px;\n",
       "}\n",
       "\n",
       ".xr-attrs dd {\n",
       "  grid-column: 2;\n",
       "  white-space: pre-wrap;\n",
       "  word-break: break-all;\n",
       "}\n",
       "\n",
       ".xr-icon-database,\n",
       ".xr-icon-file-text2 {\n",
       "  display: inline-block;\n",
       "  vertical-align: middle;\n",
       "  width: 1em;\n",
       "  height: 1.5em !important;\n",
       "  stroke-width: 0;\n",
       "  stroke: currentColor;\n",
       "  fill: currentColor;\n",
       "}\n",
       "</style><pre class='xr-text-repr-fallback'>&lt;xarray.DataArray &#x27;co&#x27; (time: 57, level: 15, latitude: 241, longitude: 480)&gt;\n",
       "[98906400 values with dtype=float32]\n",
       "Coordinates:\n",
       "  * longitude    (longitude) float32 0.0 0.75 1.5 2.25 ... 357.8 358.5 359.2\n",
       "  * latitude     (latitude) float32 90.0 89.25 88.5 87.75 ... -88.5 -89.25 -90.0\n",
       "  * level        (level) int32 100 150 200 250 300 400 ... 850 900 925 950 1000\n",
       "  * time         (time) datetime64[ns] 2003-06-01 2003-07-01 ... 2021-08-01\n",
       "    level_log10  (level) float64 2.0 2.176 2.301 2.398 ... 2.954 2.966 2.978 3.0\n",
       "    height       (level) float64 15.73 13.43 11.69 10.28 ... 0.6528 0.4306 0.0\n",
       "Attributes:\n",
       "    units:          kg kg**-1\n",
       "    long_name:      Carbon monoxide mass mixing ratio\n",
       "    standard_name:  mass_fraction_of_carbon_monoxide_in_air</pre><div class='xr-wrap' style='display:none'><div class='xr-header'><div class='xr-obj-type'>xarray.DataArray</div><div class='xr-array-name'>'co'</div><ul class='xr-dim-list'><li><span class='xr-has-index'>time</span>: 57</li><li><span class='xr-has-index'>level</span>: 15</li><li><span class='xr-has-index'>latitude</span>: 241</li><li><span class='xr-has-index'>longitude</span>: 480</li></ul></div><ul class='xr-sections'><li class='xr-section-item'><div class='xr-array-wrap'><input id='section-a5721bcd-10e4-42c1-ac7f-9b9ba43fff86' class='xr-array-in' type='checkbox' checked><label for='section-a5721bcd-10e4-42c1-ac7f-9b9ba43fff86' title='Show/hide data repr'><svg class='icon xr-icon-database'><use xlink:href='#icon-database'></use></svg></label><div class='xr-array-preview xr-preview'><span>...</span></div><div class='xr-array-data'><pre>[98906400 values with dtype=float32]</pre></div></div></li><li class='xr-section-item'><input id='section-a23b4cc3-aedf-4467-af4d-25138f791b65' class='xr-section-summary-in' type='checkbox'  checked><label for='section-a23b4cc3-aedf-4467-af4d-25138f791b65' class='xr-section-summary' >Coordinates: <span>(6)</span></label><div class='xr-section-inline-details'></div><div class='xr-section-details'><ul class='xr-var-list'><li class='xr-var-item'><div class='xr-var-name'><span class='xr-has-index'>longitude</span></div><div class='xr-var-dims'>(longitude)</div><div class='xr-var-dtype'>float32</div><div class='xr-var-preview xr-preview'>0.0 0.75 1.5 ... 357.8 358.5 359.2</div><input id='attrs-a53301c3-4ed9-43ef-a7bd-cb1d0e41eb8b' class='xr-var-attrs-in' type='checkbox' ><label for='attrs-a53301c3-4ed9-43ef-a7bd-cb1d0e41eb8b' title='Show/Hide attributes'><svg class='icon xr-icon-file-text2'><use xlink:href='#icon-file-text2'></use></svg></label><input id='data-3cfae018-c823-4729-a352-8f30ec598e9d' class='xr-var-data-in' type='checkbox'><label for='data-3cfae018-c823-4729-a352-8f30ec598e9d' title='Show/Hide data repr'><svg class='icon xr-icon-database'><use xlink:href='#icon-database'></use></svg></label><div class='xr-var-attrs'><dl class='xr-attrs'><dt><span>units :</span></dt><dd>degrees_east</dd><dt><span>long_name :</span></dt><dd>longitude</dd></dl></div><div class='xr-var-data'><pre>array([  0.  ,   0.75,   1.5 , ..., 357.75, 358.5 , 359.25], dtype=float32)</pre></div></li><li class='xr-var-item'><div class='xr-var-name'><span class='xr-has-index'>latitude</span></div><div class='xr-var-dims'>(latitude)</div><div class='xr-var-dtype'>float32</div><div class='xr-var-preview xr-preview'>90.0 89.25 88.5 ... -89.25 -90.0</div><input id='attrs-c3a7447f-d046-4010-907d-2b191f151b02' class='xr-var-attrs-in' type='checkbox' ><label for='attrs-c3a7447f-d046-4010-907d-2b191f151b02' title='Show/Hide attributes'><svg class='icon xr-icon-file-text2'><use xlink:href='#icon-file-text2'></use></svg></label><input id='data-34e094e2-1c1c-4474-a045-427ba090dd2d' class='xr-var-data-in' type='checkbox'><label for='data-34e094e2-1c1c-4474-a045-427ba090dd2d' title='Show/Hide data repr'><svg class='icon xr-icon-database'><use xlink:href='#icon-database'></use></svg></label><div class='xr-var-attrs'><dl class='xr-attrs'><dt><span>units :</span></dt><dd>degrees_north</dd><dt><span>long_name :</span></dt><dd>latitude</dd></dl></div><div class='xr-var-data'><pre>array([ 90.  ,  89.25,  88.5 , ..., -88.5 , -89.25, -90.  ], dtype=float32)</pre></div></li><li class='xr-var-item'><div class='xr-var-name'><span class='xr-has-index'>level</span></div><div class='xr-var-dims'>(level)</div><div class='xr-var-dtype'>int32</div><div class='xr-var-preview xr-preview'>100 150 200 250 ... 925 950 1000</div><input id='attrs-5b7763a9-e3c3-4325-9ede-1adcbb83fd5b' class='xr-var-attrs-in' type='checkbox' ><label for='attrs-5b7763a9-e3c3-4325-9ede-1adcbb83fd5b' title='Show/Hide attributes'><svg class='icon xr-icon-file-text2'><use xlink:href='#icon-file-text2'></use></svg></label><input id='data-6f0ef28c-b363-4d98-b0ea-000f8e57f90b' class='xr-var-data-in' type='checkbox'><label for='data-6f0ef28c-b363-4d98-b0ea-000f8e57f90b' title='Show/Hide data repr'><svg class='icon xr-icon-database'><use xlink:href='#icon-database'></use></svg></label><div class='xr-var-attrs'><dl class='xr-attrs'><dt><span>units :</span></dt><dd>millibars</dd><dt><span>long_name :</span></dt><dd>pressure_level</dd></dl></div><div class='xr-var-data'><pre>array([ 100,  150,  200,  250,  300,  400,  500,  600,  700,  800,  850,  900,\n",
       "        925,  950, 1000])</pre></div></li><li class='xr-var-item'><div class='xr-var-name'><span class='xr-has-index'>time</span></div><div class='xr-var-dims'>(time)</div><div class='xr-var-dtype'>datetime64[ns]</div><div class='xr-var-preview xr-preview'>2003-06-01 ... 2021-08-01</div><input id='attrs-96942b78-b290-416c-b6be-ac4e8cdf602d' class='xr-var-attrs-in' type='checkbox' ><label for='attrs-96942b78-b290-416c-b6be-ac4e8cdf602d' title='Show/Hide attributes'><svg class='icon xr-icon-file-text2'><use xlink:href='#icon-file-text2'></use></svg></label><input id='data-ae223fb5-9276-4f40-a70b-9e9207839ad6' class='xr-var-data-in' type='checkbox'><label for='data-ae223fb5-9276-4f40-a70b-9e9207839ad6' title='Show/Hide data repr'><svg class='icon xr-icon-database'><use xlink:href='#icon-database'></use></svg></label><div class='xr-var-attrs'><dl class='xr-attrs'><dt><span>long_name :</span></dt><dd>time</dd></dl></div><div class='xr-var-data'><pre>array([&#x27;2003-06-01T00:00:00.000000000&#x27;, &#x27;2003-07-01T00:00:00.000000000&#x27;,\n",
       "       &#x27;2003-08-01T00:00:00.000000000&#x27;, &#x27;2004-06-01T00:00:00.000000000&#x27;,\n",
       "       &#x27;2004-07-01T00:00:00.000000000&#x27;, &#x27;2004-08-01T00:00:00.000000000&#x27;,\n",
       "       &#x27;2005-06-01T00:00:00.000000000&#x27;, &#x27;2005-07-01T00:00:00.000000000&#x27;,\n",
       "       &#x27;2005-08-01T00:00:00.000000000&#x27;, &#x27;2006-06-01T00:00:00.000000000&#x27;,\n",
       "       &#x27;2006-07-01T00:00:00.000000000&#x27;, &#x27;2006-08-01T00:00:00.000000000&#x27;,\n",
       "       &#x27;2007-06-01T00:00:00.000000000&#x27;, &#x27;2007-07-01T00:00:00.000000000&#x27;,\n",
       "       &#x27;2007-08-01T00:00:00.000000000&#x27;, &#x27;2008-06-01T00:00:00.000000000&#x27;,\n",
       "       &#x27;2008-07-01T00:00:00.000000000&#x27;, &#x27;2008-08-01T00:00:00.000000000&#x27;,\n",
       "       &#x27;2009-06-01T00:00:00.000000000&#x27;, &#x27;2009-07-01T00:00:00.000000000&#x27;,\n",
       "       &#x27;2009-08-01T00:00:00.000000000&#x27;, &#x27;2010-06-01T00:00:00.000000000&#x27;,\n",
       "       &#x27;2010-07-01T00:00:00.000000000&#x27;, &#x27;2010-08-01T00:00:00.000000000&#x27;,\n",
       "       &#x27;2011-06-01T00:00:00.000000000&#x27;, &#x27;2011-07-01T00:00:00.000000000&#x27;,\n",
       "       &#x27;2011-08-01T00:00:00.000000000&#x27;, &#x27;2012-06-01T00:00:00.000000000&#x27;,\n",
       "       &#x27;2012-07-01T00:00:00.000000000&#x27;, &#x27;2012-08-01T00:00:00.000000000&#x27;,\n",
       "       &#x27;2013-06-01T00:00:00.000000000&#x27;, &#x27;2013-07-01T00:00:00.000000000&#x27;,\n",
       "       &#x27;2013-08-01T00:00:00.000000000&#x27;, &#x27;2014-06-01T00:00:00.000000000&#x27;,\n",
       "       &#x27;2014-07-01T00:00:00.000000000&#x27;, &#x27;2014-08-01T00:00:00.000000000&#x27;,\n",
       "       &#x27;2015-06-01T00:00:00.000000000&#x27;, &#x27;2015-07-01T00:00:00.000000000&#x27;,\n",
       "       &#x27;2015-08-01T00:00:00.000000000&#x27;, &#x27;2016-06-01T00:00:00.000000000&#x27;,\n",
       "       &#x27;2016-07-01T00:00:00.000000000&#x27;, &#x27;2016-08-01T00:00:00.000000000&#x27;,\n",
       "       &#x27;2017-06-01T00:00:00.000000000&#x27;, &#x27;2017-07-01T00:00:00.000000000&#x27;,\n",
       "       &#x27;2017-08-01T00:00:00.000000000&#x27;, &#x27;2018-06-01T00:00:00.000000000&#x27;,\n",
       "       &#x27;2018-07-01T00:00:00.000000000&#x27;, &#x27;2018-08-01T00:00:00.000000000&#x27;,\n",
       "       &#x27;2019-06-01T00:00:00.000000000&#x27;, &#x27;2019-07-01T00:00:00.000000000&#x27;,\n",
       "       &#x27;2019-08-01T00:00:00.000000000&#x27;, &#x27;2020-06-01T00:00:00.000000000&#x27;,\n",
       "       &#x27;2020-07-01T00:00:00.000000000&#x27;, &#x27;2020-08-01T00:00:00.000000000&#x27;,\n",
       "       &#x27;2021-06-01T00:00:00.000000000&#x27;, &#x27;2021-07-01T00:00:00.000000000&#x27;,\n",
       "       &#x27;2021-08-01T00:00:00.000000000&#x27;], dtype=&#x27;datetime64[ns]&#x27;)</pre></div></li><li class='xr-var-item'><div class='xr-var-name'><span>level_log10</span></div><div class='xr-var-dims'>(level)</div><div class='xr-var-dtype'>float64</div><div class='xr-var-preview xr-preview'>2.0 2.176 2.301 ... 2.966 2.978 3.0</div><input id='attrs-db43d978-3869-4b8e-a231-29611557016e' class='xr-var-attrs-in' type='checkbox' ><label for='attrs-db43d978-3869-4b8e-a231-29611557016e' title='Show/Hide attributes'><svg class='icon xr-icon-file-text2'><use xlink:href='#icon-file-text2'></use></svg></label><input id='data-3d0ad837-bd8b-4431-bb77-bdd1798a31d1' class='xr-var-data-in' type='checkbox'><label for='data-3d0ad837-bd8b-4431-bb77-bdd1798a31d1' title='Show/Hide data repr'><svg class='icon xr-icon-database'><use xlink:href='#icon-database'></use></svg></label><div class='xr-var-attrs'><dl class='xr-attrs'><dt><span>units :</span></dt><dd>millibars</dd><dt><span>long_name :</span></dt><dd>pressure_level</dd></dl></div><div class='xr-var-data'><pre>array([2.        , 2.17609126, 2.30103   , 2.39794001, 2.47712125,\n",
       "       2.60205999, 2.69897   , 2.77815125, 2.84509804, 2.90308999,\n",
       "       2.92941893, 2.95424251, 2.96614173, 2.97772361, 3.        ])</pre></div></li><li class='xr-var-item'><div class='xr-var-name'><span>height</span></div><div class='xr-var-dims'>(level)</div><div class='xr-var-dtype'>float64</div><div class='xr-var-preview xr-preview'>15.73 13.43 11.69 ... 0.4306 0.0</div><input id='attrs-f1883f79-bba1-475c-8f52-ef0f202b1cc3' class='xr-var-attrs-in' type='checkbox' disabled><label for='attrs-f1883f79-bba1-475c-8f52-ef0f202b1cc3' title='Show/Hide attributes'><svg class='icon xr-icon-file-text2'><use xlink:href='#icon-file-text2'></use></svg></label><input id='data-4cdedd88-a535-4975-ad8c-48c9a4392000' class='xr-var-data-in' type='checkbox'><label for='data-4cdedd88-a535-4975-ad8c-48c9a4392000' title='Show/Hide data repr'><svg class='icon xr-icon-database'><use xlink:href='#icon-database'></use></svg></label><div class='xr-var-attrs'><dl class='xr-attrs'></dl></div><div class='xr-var-data'><pre>array([15.72758036, 13.43330308, 11.69472593, 10.27908779,  9.07696251,\n",
       "        7.09325125,  5.47801243,  4.10639113,  2.90899143,  1.8429826 ,\n",
       "        1.34999034,  0.87994689,  0.65281163,  0.43059381,  0.        ])</pre></div></li></ul></div></li><li class='xr-section-item'><input id='section-b925c5b6-fba7-4da3-9679-335235c318c0' class='xr-section-summary-in' type='checkbox'  checked><label for='section-b925c5b6-fba7-4da3-9679-335235c318c0' class='xr-section-summary' >Attributes: <span>(3)</span></label><div class='xr-section-inline-details'></div><div class='xr-section-details'><dl class='xr-attrs'><dt><span>units :</span></dt><dd>kg kg**-1</dd><dt><span>long_name :</span></dt><dd>Carbon monoxide mass mixing ratio</dd><dt><span>standard_name :</span></dt><dd>mass_fraction_of_carbon_monoxide_in_air</dd></dl></div></li></ul></div></div>"
      ],
      "text/plain": [
       "<xarray.DataArray 'co' (time: 57, level: 15, latitude: 241, longitude: 480)>\n",
       "[98906400 values with dtype=float32]\n",
       "Coordinates:\n",
       "  * longitude    (longitude) float32 0.0 0.75 1.5 2.25 ... 357.8 358.5 359.2\n",
       "  * latitude     (latitude) float32 90.0 89.25 88.5 87.75 ... -88.5 -89.25 -90.0\n",
       "  * level        (level) int32 100 150 200 250 300 400 ... 850 900 925 950 1000\n",
       "  * time         (time) datetime64[ns] 2003-06-01 2003-07-01 ... 2021-08-01\n",
       "    level_log10  (level) float64 2.0 2.176 2.301 2.398 ... 2.954 2.966 2.978 3.0\n",
       "    height       (level) float64 15.73 13.43 11.69 10.28 ... 0.6528 0.4306 0.0\n",
       "Attributes:\n",
       "    units:          kg kg**-1\n",
       "    long_name:      Carbon monoxide mass mixing ratio\n",
       "    standard_name:  mass_fraction_of_carbon_monoxide_in_air"
      ]
     },
     "execution_count": 10,
     "metadata": {},
     "output_type": "execute_result"
    }
   ],
   "source": [
    "da"
   ]
  },
  {
   "cell_type": "markdown",
   "id": "e36fd3c0-80dd-4867-bd1f-b3fbd25f6cbe",
   "metadata": {
    "tags": []
   },
   "source": [
    "### Unit conversion\n",
    "\n",
    "Most of the chemical species in the CAMS Global data, including our CO data, is archived as mass mixing ratios (MMR, kg of gas / kg of air).\n",
    "\n",
    "We will convert this to Volume Mixing Ratio (VMR, in units parts per billion, or ppbv)\n",
    "\n",
    "To convert data from MMR to VMR you only need the molar masses of dry air and of the atmospheric species. For CO the formula is: VMR = 28.9644 / 28.0101 * 1e9 * MMR. The 1e9 in the formulae gives parts per billion (ppbv). If we wanted parts per million (ppmv) we would use 1e6. See [more details on unit conversions here](https://confluence.ecmwf.int/pages/viewpage.action?pageId=153391710)."
   ]
  },
  {
   "cell_type": "code",
   "execution_count": 11,
   "id": "763ea18a-9148-4ce9-acba-0e14e34beee8",
   "metadata": {},
   "outputs": [],
   "source": [
    "da = (28.9644 / 28.0101) * 1e9 * da"
   ]
  },
  {
   "cell_type": "markdown",
   "id": "e940525d-9f76-4ba4-9323-f5ebc51c9fe5",
   "metadata": {},
   "source": [
    "Here we update the attributes of our dataset with the new units."
   ]
  },
  {
   "cell_type": "code",
   "execution_count": 13,
   "id": "ef727728-0a17-49a4-ae06-c11b5d3dba85",
   "metadata": {},
   "outputs": [],
   "source": [
    "da.attrs['long_name'] = 'CO Volume Mixing Ratio'\n",
    "da.attrs['units'] = 'ppbv'"
   ]
  },
  {
   "cell_type": "markdown",
   "id": "0d31f797",
   "metadata": {},
   "source": [
    "### Subset and aggregation\n",
    "\n",
    "We would like to visualise CO profiles over the northern hemisphere, so we will take a subset including only northern latitudes. Also, to facilitate visualisation of CO vertical profiles, we are going to average over the temporal and spatial dimensions."
   ]
  },
  {
   "cell_type": "markdown",
   "id": "960f7ff6-545d-4544-870a-80d83fb2d204",
   "metadata": {},
   "source": [
    "#### Spatial subset\n",
    "\n",
    "Here we subset the data to keep only northern latitudes."
   ]
  },
  {
   "cell_type": "code",
   "execution_count": 14,
   "id": "4f641f9d-8009-4f3b-a7ac-7e2c28790d59",
   "metadata": {},
   "outputs": [],
   "source": [
    "da_north = da.where(da.latitude > 0, drop=True)"
   ]
  },
  {
   "cell_type": "markdown",
   "id": "9b3a56a9",
   "metadata": {},
   "source": [
    "#### Temporal aggregation\n",
    "\n",
    "The purpose of the temporal aggregation is to average June, July and August in each year, resulting in one summer mean value at each year of the dataset."
   ]
  },
  {
   "cell_type": "code",
   "execution_count": 15,
   "id": "18ff8e0a",
   "metadata": {},
   "outputs": [],
   "source": [
    "summer = da_north.groupby('time.year').mean(keep_attrs=True)"
   ]
  },
  {
   "cell_type": "markdown",
   "id": "c89f3632",
   "metadata": {},
   "source": [
    "#### Spatial aggregation\n",
    "\n",
    "To visualise the data in a profile plot, we will aggregate over the spatial dimensions. For the latitudinal dimension, we need to take into account the variation in area as a function of latitude, which we will do by taking the cosine of the latitude as a proxy."
   ]
  },
  {
   "cell_type": "code",
   "execution_count": 16,
   "id": "f04f05b7-8e42-4ec4-a079-2cc81086ccff",
   "metadata": {
    "tags": []
   },
   "outputs": [],
   "source": [
    "weights = np.cos(np.deg2rad(summer.latitude))\n",
    "weights.name = \"weights\"\n",
    "weighted = summer.weighted(weights)"
   ]
  },
  {
   "cell_type": "code",
   "execution_count": 17,
   "id": "207c6b39-d4a1-4f41-8ea4-3db6d252edea",
   "metadata": {
    "tags": []
   },
   "outputs": [],
   "source": [
    "# Average (mean) over the latitudinal axis\n",
    "co = weighted.mean(dim=[\"latitude\", \"longitude\"])"
   ]
  },
  {
   "cell_type": "markdown",
   "id": "03a27889",
   "metadata": {},
   "source": [
    "### Calculate quantiles of climatology\n",
    "\n",
    "Here we calculate the 5th, 50th and 95th quantile of CO climatology from 2003 to 2021."
   ]
  },
  {
   "cell_type": "code",
   "execution_count": 18,
   "id": "8c32915b",
   "metadata": {},
   "outputs": [],
   "source": [
    "co95 = co.quantile(0.95, dim='year')\n",
    "co05 = co.quantile(0.05, dim='year')\n",
    "co50 = co.quantile(0.5, dim='year')"
   ]
  },
  {
   "cell_type": "markdown",
   "id": "8296d159",
   "metadata": {},
   "source": [
    "## Plot summer climatology of CO in Northern Hemisphere"
   ]
  },
  {
   "cell_type": "code",
   "execution_count": 19,
   "id": "427a9d67-a3b4-4498-a46a-73126e8c0963",
   "metadata": {},
   "outputs": [
    {
     "data": {
      "image/png": "[encoded data removed]",
      "text/plain": [
       "<Figure size 432x648 with 1 Axes>"
      ]
     },
     "metadata": {
      "needs_background": "light"
     },
     "output_type": "display_data"
    }
   ],
   "source": [
    "fig, ax = plt.subplots(1, 1, figsize = (6, 9))\n",
    "\n",
    "ax.set_title('CO in JJA in Northern Hemisphere', fontsize=12)\n",
    "ax.set_ylabel('Height [Kilometers]')\n",
    "ax.set_xlabel('CO [ppbv]')\n",
    "ax.plot(co50, co50.height, color='black', linestyle='--', label='2003-2021 median')\n",
    "ax.fill_betweenx(co50.height, co05, co95, alpha=0.1, color='black', label='2003-2021 5th to 95th quantile range')\n",
    "ax.plot(co[18,:], co.height, color='red', linestyle='-', label='2021')\n",
    "ax.plot(co[17,:], co.height, color='green', linestyle='-', label='2020')\n",
    "ax.plot(co[16,:], co.height, color='blue', linestyle='-', label='2019')\n",
    "\n",
    "handles, labels = ax.get_legend_handles_labels()\n",
    "ax.legend(handles, labels)\n",
    "\n",
    "fig.savefig(f'{DATADIR}/CO_JJA_NHem_2003-2021_profile.png')"
   ]
  },
  {
   "cell_type": "markdown",
   "id": "9ec6d0d9",
   "metadata": {},
   "source": [
    "Note the distribution of CO mainly in the lower part of the atmosphere, and the high values in 2021, due mainly to the significant wildfire activity that summer. See the [BAMS State of the Climate 2021 report](https://www.ncei.noaa.gov/bams-state-of-climate) for more details."
   ]
  },
  {
   "cell_type": "markdown",
   "id": "49064983-e65e-4d0d-b0cb-a14d6cd068a7",
   "metadata": {},
   "source": [
    "## Create zonal mean plot of CO summer climatology in Northern Hemisphere"
   ]
  },
  {
   "cell_type": "markdown",
   "id": "fadc1b92-d881-49aa-b7f9-fcd88e1a5854",
   "metadata": {},
   "source": [
    "### Data prep\n",
    "\n",
    "We again aggregate over time (June, July and Aug of each year), and over space. This time however the spatial aggregation is only over the longitudinal dimension, as we want to visualise data over all latitudinal zones."
   ]
  },
  {
   "cell_type": "code",
   "execution_count": 21,
   "id": "b5ffca14-35ff-4ecb-9374-0b2ce5e47a78",
   "metadata": {},
   "outputs": [],
   "source": [
    "jja = da.groupby('time.year').mean(keep_attrs=True)"
   ]
  },
  {
   "cell_type": "code",
   "execution_count": 22,
   "id": "8c4cdbd8-7ef5-4fe0-a86a-77f6f300bed1",
   "metadata": {},
   "outputs": [],
   "source": [
    "zonal = jja.mean(dim=[\"longitude\", \"year\"])"
   ]
  },
  {
   "cell_type": "markdown",
   "id": "0371c0de-0b84-4e57-8c49-a6dd17668243",
   "metadata": {},
   "source": [
    "### Create zonal mean plot\n",
    "\n",
    "Now we can plot our data. Before we do this however, we define the min, max and step of contours that we will use in a contour plot."
   ]
  },
  {
   "cell_type": "code",
   "execution_count": 28,
   "id": "2fda750f-bea8-4150-bb87-fcc37b5af56a",
   "metadata": {},
   "outputs": [],
   "source": [
    "vdiv = 10\n",
    "vmin = 50\n",
    "vmax = 200+vdiv\n",
    "clevs = np.arange(vmin,vmax,vdiv)"
   ]
  },
  {
   "cell_type": "code",
   "execution_count": 29,
   "id": "a4608d71-ca5b-44c5-93a4-f7e698fdd333",
   "metadata": {},
   "outputs": [
    {
     "data": {
      "image/png": "[encoded data removed]",
      "text/plain": [
       "<Figure size 648x432 with 2 Axes>"
      ]
     },
     "metadata": {
      "needs_background": "light"
     },
     "output_type": "display_data"
    }
   ],
   "source": [
    "# Define the figure and specify size\n",
    "fig, ax = plt.subplots(1, 1, figsize = (9, 6))\n",
    "\n",
    "# Configure the axes and figure title\n",
    "ax.set_xlabel('Latitude [degrees]')\n",
    "ax.set_ylabel('Altitude [km]')\n",
    "ax.set_title('Zonal mean of CO in N. Hemisphere for JJA climatology (2003 to 2021)', fontsize=12)\n",
    "\n",
    "# As the altitudes (15) are much less than the latitudes (180),\n",
    "# we need to ensure the plot fits into the size of the figure.\n",
    "ax.set_aspect('auto')\n",
    "\n",
    "# Plot the data as a contour plot\n",
    "contour = ax.contourf(zonal.latitude, zonal.height, zonal, levels=clevs, cmap='YlOrRd', extend='max')\n",
    "\n",
    "# Specify the colourbar\n",
    "cbar = plt.colorbar(contour,fraction=0.046, pad=0.04)\n",
    "cbar.set_label('CO [ppbv]')\n",
    "\n",
    "# Save the plot\n",
    "fig.savefig(f'{DATADIR}/CO_JJA_NHem_2003-2021_zonal_mean.png')"
   ]
  },
  {
   "cell_type": "markdown",
   "id": "e70fb197",
   "metadata": {},
   "source": [
    "Note the greater abundance of CO in the northern hemisphere, and in the lower part of the atmosphere."
   ]
  }
 ],
 "metadata": {
  "kernelspec": {
   "display_name": "Python 3 (ipykernel)",
   "language": "python",
   "name": "python3"
  },
  "language_info": {
   "codemirror_mode": {
    "name": "ipython",
    "version": 3
   },
   "file_extension": ".py",
   "mimetype": "text/x-python",
   "name": "python",
   "nbconvert_exporter": "python",
   "pygments_lexer": "ipython3",
   "version": "3.9.7"
  }
 },
 "nbformat": 4,
 "nbformat_minor": 5
}
