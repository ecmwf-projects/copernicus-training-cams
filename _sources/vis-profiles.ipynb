{
  "cells": [
    {
      "cell_type": "markdown",
      "id": "c1a0cf43",
      "metadata": {
        "tags": []
      },
      "source": [
        "![logo](./img/LogoLine_horizon_CAMS.png)"
      ]
    },
    {
      "cell_type": "markdown",
      "id": "ae042707",
      "metadata": {
        "tags": []
      },
      "source": [
        "# Profile Plots and Zonal Means\n",
        "\n",
        "This tutorial demonstrates how to visualise [Copernicus Atmosphere Monitoring Service (CAMS)](https://atmosphere.copernicus.eu/) data of different atmospheric levels in the form of profile plots and zonal mean plots. The data used in this tutorial includes CO from the Northern Hemisphere during the summer (peak fire season) from 2003 to 2021."
      ]
    },
    {
      "cell_type": "markdown",
      "id": "363cc340",
      "metadata": {},
      "source": [
        "<style>\n",
        "td, th {\n",
        "   border: 1px solid white;\n",
        "   border-collapse: collapse;\n",
        "}\n",
        "</style>\n",
        "<table align=\"left\">\n",
        "  <tr>\n",
        "    <th>Run the tutorial via free cloud platforms: </th>\n",
        "    <th><a href=\"https://mybinder.org/v2/gh/ecmwf-projects/copernicus-training-cams/master?labpath=vis-profiles.ipynb\">\n",
        "        <img src = \"https://mybinder.org/badge.svg\" alt = \"Binder\"></th>\n",
        "    <th><a href=\"https://kaggle.com/kernels/welcome?src=https://github.com/ecmwf-projects/copernicus-training-cams/blob/master/vis-profiles.ipynb\">\n",
        "        <img src = \"https://kaggle.com/static/images/open-in-kaggle.svg\" alt = \"Kaggle\"></th>\n",
        "    <th><a href=\"https://colab.research.google.com/github/ecmwf-projects/copernicus-training-cams/blob/master/vis-profiles.ipynb\">\n",
        "        <img src = \"https://colab.research.google.com/assets/colab-badge.svg\" alt = \"Colab\"></th>\n",
        "  </tr>\n",
        "</table>"
      ]
    },
    {
      "cell_type": "markdown",
      "id": "554370ec",
      "metadata": {},
      "source": [
        "<br>"
      ]
    },
    {
      "cell_type": "markdown",
      "id": "14e6025a",
      "metadata": {},
      "source": [
        "## Install and import packages"
      ]
    },
    {
      "cell_type": "code",
      "execution_count": null,
      "id": "a8daf96c",
      "metadata": {
        "execution": {
          "iopub.execute_input": "2024-09-12T14:17:57.072954Z",
          "iopub.status.busy": "2024-09-12T14:17:57.072347Z",
          "iopub.status.idle": "2024-09-12T14:18:18.751032Z",
          "shell.execute_reply": "2024-09-12T14:18:18.749557Z",
          "shell.execute_reply.started": "2024-09-12T14:17:57.072897Z"
        }
      },
      "outputs": [],
      "source": [
        "!pip install cdsapi"
      ]
    },
    {
      "cell_type": "code",
      "execution_count": 2,
      "id": "8416b481",
      "metadata": {
        "execution": {
          "iopub.execute_input": "2024-09-12T14:18:23.466762Z",
          "iopub.status.busy": "2024-09-12T14:18:23.465411Z",
          "iopub.status.idle": "2024-09-12T14:18:24.614816Z",
          "shell.execute_reply": "2024-09-12T14:18:24.613520Z",
          "shell.execute_reply.started": "2024-09-12T14:18:23.466705Z"
        },
        "tags": []
      },
      "outputs": [],
      "source": [
        "# CDS API\n",
        "import cdsapi\n",
        "\n",
        "# Libraries for reading and working with multidimensional arrays\n",
        "import numpy as np\n",
        "import xarray as xr\n",
        "\n",
        "# Libraries for plotting and visualising data\n",
        "%matplotlib inline\n",
        "import matplotlib.pyplot as plt\n",
        "\n",
        "# Disable warnings for data download via API\n",
        "import urllib3 \n",
        "urllib3.disable_warnings()"
      ]
    },
    {
      "cell_type": "markdown",
      "id": "a68c43ab",
      "metadata": {},
      "source": [
        "## Data access and preprocessing"
      ]
    },
    {
      "cell_type": "markdown",
      "id": "be3be551",
      "metadata": {
        "tags": []
      },
      "source": [
        "### Download CAMS global reanalysis data\n",
        "\n",
        "Copy your API key into the code cell below, replacing `#######` with your key. (Remember, to access data from the ADS, you will need first to register/login https://ads.atmosphere.copernicus.eu/ and obtain an API key from https://ads.atmosphere.copernicus.eu/how-to-api.)"
      ]
    },
    {
      "cell_type": "code",
      "execution_count": 3,
      "id": "b7dd141f",
      "metadata": {
        "execution": {
          "iopub.execute_input": "2024-09-12T14:19:13.346467Z",
          "iopub.status.busy": "2024-09-12T14:19:13.345775Z",
          "iopub.status.idle": "2024-09-12T14:19:13.352466Z",
          "shell.execute_reply": "2024-09-12T14:19:13.350899Z",
          "shell.execute_reply.started": "2024-09-12T14:19:13.346420Z"
        }
      },
      "outputs": [],
      "source": [
        "URL = 'https://ads.atmosphere.copernicus.eu/api'\n",
        "\n",
        "# Replace the hashtags with your key:\n",
        "KEY = '#################################'"
      ]
    },
    {
      "cell_type": "markdown",
      "id": "e0e21616",
      "metadata": {
        "tags": []
      },
      "source": [
        "Here we specify a data directory into which we will download our data and all output files that we will generate:"
      ]
    },
    {
      "cell_type": "code",
      "execution_count": 4,
      "id": "1cc5bc0e",
      "metadata": {
        "execution": {
          "iopub.execute_input": "2024-09-12T14:19:17.415878Z",
          "iopub.status.busy": "2024-09-12T14:19:17.414738Z",
          "iopub.status.idle": "2024-09-12T14:19:17.421204Z",
          "shell.execute_reply": "2024-09-12T14:19:17.419510Z",
          "shell.execute_reply.started": "2024-09-12T14:19:17.415789Z"
        }
      },
      "outputs": [],
      "source": [
        "DATADIR = '.'"
      ]
    },
    {
      "cell_type": "markdown",
      "id": "3480bf01",
      "metadata": {},
      "source": [
        "For this tutorial, we will use CAMS Global Reanalysis (EAC4) data. The code below shows the subset characteristics that we will extract from this dataset as an API request."
      ]
    },
    {
      "cell_type": "markdown",
      "id": "1e2c5fec",
      "metadata": {},
      "source": [
        "```{note}\n",
        "Before running this code, ensure that you have **accepted the terms and conditions**. This is something you only need to do once for each CAMS dataset. You will find the option to do this by selecting the dataset in the ADS, then scrolling to the end of the *Download data* tab.\n",
        "```"
      ]
    },
    {
      "cell_type": "code",
      "execution_count": 5,
      "id": "d8a14011",
      "metadata": {
        "execution": {
          "iopub.execute_input": "2024-09-12T14:27:55.392080Z",
          "iopub.status.busy": "2024-09-12T14:27:55.391564Z",
          "iopub.status.idle": "2024-09-12T14:30:32.309129Z",
          "shell.execute_reply": "2024-09-12T14:30:32.307791Z",
          "shell.execute_reply.started": "2024-09-12T14:27:55.392037Z"
        }
      },
      "outputs": [
        {
          "name": "stderr",
          "output_type": "stream",
          "text": [
            "2024-09-12 14:27:56,029 INFO Request ID is d917161b-fe2e-4e8c-9cf7-7ffb41e0855e\n",
            "2024-09-12 14:27:56,215 INFO status has been updated to accepted\n",
            "2024-09-12 14:27:58,031 INFO status has been updated to running\n",
            "2024-09-12 14:29:50,536 INFO Creating download object as as_source with files:\n",
            "['data_allhours_plev.nc']\n",
            "2024-09-12 14:29:50,538 INFO status has been updated to successful\n"
          ]
        },
        {
          "data": {
            "application/vnd.jupyter.widget-view+json": {
              "model_id": "",
              "version_major": 2,
              "version_minor": 0
            },
            "text/plain": [
              "4d7fda9863851e189ea094742d844eff.nc:   0%|          | 0.00/236M [00:00<?, ?B/s]"
            ]
          },
          "metadata": {},
          "output_type": "display_data"
        },
        {
          "data": {
            "text/plain": [
              "'./CO_NHemis_JJA_2003-2023.nc'"
            ]
          },
          "execution_count": 5,
          "metadata": {},
          "output_type": "execute_result"
        }
      ],
      "source": [
        "dataset = \"cams-global-reanalysis-eac4-monthly\"\n",
        "request = {\n",
        "    'variable': ['carbon_monoxide'],\n",
        "    'pressure_level': ['100', '150', '200', '250', \n",
        "                       '300', '400', '500', '600', \n",
        "                       '700', '800', '850', '900', \n",
        "                       '925', '950', '1000'],\n",
        "    'year': ['2003', '2004', '2005', '2006', \n",
        "             '2007', '2008', '2009', '2010', \n",
        "             '2011', '2012', '2013', '2014', \n",
        "             '2015', '2016', '2017', '2018', \n",
        "             '2019', '2020', '2021', '2022', \n",
        "             '2023'],\n",
        "    'month': ['06', '07', '08'],\n",
        "    'product_type': ['monthly_mean'],\n",
        "    'data_format': 'netcdf'\n",
        "}\n",
        "\n",
        "client = cdsapi.Client(url=URL, key=KEY)\n",
        "client.retrieve(dataset, request).download(\n",
        "    f'{DATADIR}/CO_NHemis_JJA_2003-2023.nc')"
      ]
    },
    {
      "cell_type": "markdown",
      "id": "e52ee255",
      "metadata": {},
      "source": [
        "### Read and inspect data"
      ]
    },
    {
      "cell_type": "markdown",
      "id": "09c7f46c",
      "metadata": {
        "tags": []
      },
      "source": [
        "Read the data into an Xarray dataset:"
      ]
    },
    {
      "cell_type": "code",
      "execution_count": 6,
      "id": "a537f7d8",
      "metadata": {
        "execution": {
          "iopub.execute_input": "2024-09-12T14:31:10.532263Z",
          "iopub.status.busy": "2024-09-12T14:31:10.531752Z",
          "iopub.status.idle": "2024-09-12T14:31:11.808011Z",
          "shell.execute_reply": "2024-09-12T14:31:11.806655Z",
          "shell.execute_reply.started": "2024-09-12T14:31:10.532220Z"
        }
      },
      "outputs": [
        {
          "data": {
            "text/html": [
              "<div><svg style=\"position: absolute; width: 0; height: 0; overflow: hidden\">\n",
              "<defs>\n",
              "<symbol id=\"icon-database\" viewBox=\"0 0 32 32\">\n",
              "<path d=\"M16 0c-8.837 0-16 2.239-16 5v4c0 2.761 7.163 5 16 5s16-2.239 16-5v-4c0-2.761-7.163-5-16-5z\"></path>\n",
              "<path d=\"M16 17c-8.837 0-16-2.239-16-5v6c0 2.761 7.163 5 16 5s16-2.239 16-5v-6c0 2.761-7.163 5-16 5z\"></path>\n",
              "<path d=\"M16 26c-8.837 0-16-2.239-16-5v6c0 2.761 7.163 5 16 5s16-2.239 16-5v-6c0 2.761-7.163 5-16 5z\"></path>\n",
              "</symbol>\n",
              "<symbol id=\"icon-file-text2\" viewBox=\"0 0 32 32\">\n",
              "<path d=\"M28.681 7.159c-0.694-0.947-1.662-2.053-2.724-3.116s-2.169-2.030-3.116-2.724c-1.612-1.182-2.393-1.319-2.841-1.319h-15.5c-1.378 0-2.5 1.121-2.5 2.5v27c0 1.378 1.122 2.5 2.5 2.5h23c1.378 0 2.5-1.122 2.5-2.5v-19.5c0-0.448-0.137-1.23-1.319-2.841zM24.543 5.457c0.959 0.959 1.712 1.825 2.268 2.543h-4.811v-4.811c0.718 0.556 1.584 1.309 2.543 2.268zM28 29.5c0 0.271-0.229 0.5-0.5 0.5h-23c-0.271 0-0.5-0.229-0.5-0.5v-27c0-0.271 0.229-0.5 0.5-0.5 0 0 15.499-0 15.5 0v7c0 0.552 0.448 1 1 1h7v19.5z\"></path>\n",
              "<path d=\"M23 26h-14c-0.552 0-1-0.448-1-1s0.448-1 1-1h14c0.552 0 1 0.448 1 1s-0.448 1-1 1z\"></path>\n",
              "<path d=\"M23 22h-14c-0.552 0-1-0.448-1-1s0.448-1 1-1h14c0.552 0 1 0.448 1 1s-0.448 1-1 1z\"></path>\n",
              "<path d=\"M23 18h-14c-0.552 0-1-0.448-1-1s0.448-1 1-1h14c0.552 0 1 0.448 1 1s-0.448 1-1 1z\"></path>\n",
              "</symbol>\n",
              "</defs>\n",
              "</svg>\n",
              "<style>/* CSS stylesheet for displaying xarray objects in jupyterlab.\n",
              " *\n",
              " */\n",
              "\n",
              ":root {\n",
              "  --xr-font-color0: var(--jp-content-font-color0, rgba(0, 0, 0, 1));\n",
              "  --xr-font-color2: var(--jp-content-font-color2, rgba(0, 0, 0, 0.54));\n",
              "  --xr-font-color3: var(--jp-content-font-color3, rgba(0, 0, 0, 0.38));\n",
              "  --xr-border-color: var(--jp-border-color2, #e0e0e0);\n",
              "  --xr-disabled-color: var(--jp-layout-color3, #bdbdbd);\n",
              "  --xr-background-color: var(--jp-layout-color0, white);\n",
              "  --xr-background-color-row-even: var(--jp-layout-color1, white);\n",
              "  --xr-background-color-row-odd: var(--jp-layout-color2, #eeeeee);\n",
              "}\n",
              "\n",
              "html[theme=dark],\n",
              "html[data-theme=dark],\n",
              "body[data-theme=dark],\n",
              "body.vscode-dark {\n",
              "  --xr-font-color0: rgba(255, 255, 255, 1);\n",
              "  --xr-font-color2: rgba(255, 255, 255, 0.54);\n",
              "  --xr-font-color3: rgba(255, 255, 255, 0.38);\n",
              "  --xr-border-color: #1F1F1F;\n",
              "  --xr-disabled-color: #515151;\n",
              "  --xr-background-color: #111111;\n",
              "  --xr-background-color-row-even: #111111;\n",
              "  --xr-background-color-row-odd: #313131;\n",
              "}\n",
              "\n",
              ".xr-wrap {\n",
              "  display: block !important;\n",
              "  min-width: 300px;\n",
              "  max-width: 700px;\n",
              "}\n",
              "\n",
              ".xr-text-repr-fallback {\n",
              "  /* fallback to plain text repr when CSS is not injected (untrusted notebook) */\n",
              "  display: none;\n",
              "}\n",
              "\n",
              ".xr-header {\n",
              "  padding-top: 6px;\n",
              "  padding-bottom: 6px;\n",
              "  margin-bottom: 4px;\n",
              "  border-bottom: solid 1px var(--xr-border-color);\n",
              "}\n",
              "\n",
              ".xr-header > div,\n",
              ".xr-header > ul {\n",
              "  display: inline;\n",
              "  margin-top: 0;\n",
              "  margin-bottom: 0;\n",
              "}\n",
              "\n",
              ".xr-obj-type,\n",
              ".xr-array-name {\n",
              "  margin-left: 2px;\n",
              "  margin-right: 10px;\n",
              "}\n",
              "\n",
              ".xr-obj-type {\n",
              "  color: var(--xr-font-color2);\n",
              "}\n",
              "\n",
              ".xr-sections {\n",
              "  padding-left: 0 !important;\n",
              "  display: grid;\n",
              "  grid-template-columns: 150px auto auto 1fr 20px 20px;\n",
              "}\n",
              "\n",
              ".xr-section-item {\n",
              "  display: contents;\n",
              "}\n",
              "\n",
              ".xr-section-item input {\n",
              "  display: none;\n",
              "}\n",
              "\n",
              ".xr-section-item input + label {\n",
              "  color: var(--xr-disabled-color);\n",
              "}\n",
              "\n",
              ".xr-section-item input:enabled + label {\n",
              "  cursor: pointer;\n",
              "  color: var(--xr-font-color2);\n",
              "}\n",
              "\n",
              ".xr-section-item input:enabled + label:hover {\n",
              "  color: var(--xr-font-color0);\n",
              "}\n",
              "\n",
              ".xr-section-summary {\n",
              "  grid-column: 1;\n",
              "  color: var(--xr-font-color2);\n",
              "  font-weight: 500;\n",
              "}\n",
              "\n",
              ".xr-section-summary > span {\n",
              "  display: inline-block;\n",
              "  padding-left: 0.5em;\n",
              "}\n",
              "\n",
              ".xr-section-summary-in:disabled + label {\n",
              "  color: var(--xr-font-color2);\n",
              "}\n",
              "\n",
              ".xr-section-summary-in + label:before {\n",
              "  display: inline-block;\n",
              "  content: '\u25ba';\n",
              "  font-size: 11px;\n",
              "  width: 15px;\n",
              "  text-align: center;\n",
              "}\n",
              "\n",
              ".xr-section-summary-in:disabled + label:before {\n",
              "  color: var(--xr-disabled-color);\n",
              "}\n",
              "\n",
              ".xr-section-summary-in:checked + label:before {\n",
              "  content: '\u25bc';\n",
              "}\n",
              "\n",
              ".xr-section-summary-in:checked + label > span {\n",
              "  display: none;\n",
              "}\n",
              "\n",
              ".xr-section-summary,\n",
              ".xr-section-inline-details {\n",
              "  padding-top: 4px;\n",
              "  padding-bottom: 4px;\n",
              "}\n",
              "\n",
              ".xr-section-inline-details {\n",
              "  grid-column: 2 / -1;\n",
              "}\n",
              "\n",
              ".xr-section-details {\n",
              "  display: none;\n",
              "  grid-column: 1 / -1;\n",
              "  margin-bottom: 5px;\n",
              "}\n",
              "\n",
              ".xr-section-summary-in:checked ~ .xr-section-details {\n",
              "  display: contents;\n",
              "}\n",
              "\n",
              ".xr-array-wrap {\n",
              "  grid-column: 1 / -1;\n",
              "  display: grid;\n",
              "  grid-template-columns: 20px auto;\n",
              "}\n",
              "\n",
              ".xr-array-wrap > label {\n",
              "  grid-column: 1;\n",
              "  vertical-align: top;\n",
              "}\n",
              "\n",
              ".xr-preview {\n",
              "  color: var(--xr-font-color3);\n",
              "}\n",
              "\n",
              ".xr-array-preview,\n",
              ".xr-array-data {\n",
              "  padding: 0 5px !important;\n",
              "  grid-column: 2;\n",
              "}\n",
              "\n",
              ".xr-array-data,\n",
              ".xr-array-in:checked ~ .xr-array-preview {\n",
              "  display: none;\n",
              "}\n",
              "\n",
              ".xr-array-in:checked ~ .xr-array-data,\n",
              ".xr-array-preview {\n",
              "  display: inline-block;\n",
              "}\n",
              "\n",
              ".xr-dim-list {\n",
              "  display: inline-block !important;\n",
              "  list-style: none;\n",
              "  padding: 0 !important;\n",
              "  margin: 0;\n",
              "}\n",
              "\n",
              ".xr-dim-list li {\n",
              "  display: inline-block;\n",
              "  padding: 0;\n",
              "  margin: 0;\n",
              "}\n",
              "\n",
              ".xr-dim-list:before {\n",
              "  content: '(';\n",
              "}\n",
              "\n",
              ".xr-dim-list:after {\n",
              "  content: ')';\n",
              "}\n",
              "\n",
              ".xr-dim-list li:not(:last-child):after {\n",
              "  content: ',';\n",
              "  padding-right: 5px;\n",
              "}\n",
              "\n",
              ".xr-has-index {\n",
              "  font-weight: bold;\n",
              "}\n",
              "\n",
              ".xr-var-list,\n",
              ".xr-var-item {\n",
              "  display: contents;\n",
              "}\n",
              "\n",
              ".xr-var-item > div,\n",
              ".xr-var-item label,\n",
              ".xr-var-item > .xr-var-name span {\n",
              "  background-color: var(--xr-background-color-row-even);\n",
              "  margin-bottom: 0;\n",
              "}\n",
              "\n",
              ".xr-var-item > .xr-var-name:hover span {\n",
              "  padding-right: 5px;\n",
              "}\n",
              "\n",
              ".xr-var-list > li:nth-child(odd) > div,\n",
              ".xr-var-list > li:nth-child(odd) > label,\n",
              ".xr-var-list > li:nth-child(odd) > .xr-var-name span {\n",
              "  background-color: var(--xr-background-color-row-odd);\n",
              "}\n",
              "\n",
              ".xr-var-name {\n",
              "  grid-column: 1;\n",
              "}\n",
              "\n",
              ".xr-var-dims {\n",
              "  grid-column: 2;\n",
              "}\n",
              "\n",
              ".xr-var-dtype {\n",
              "  grid-column: 3;\n",
              "  text-align: right;\n",
              "  color: var(--xr-font-color2);\n",
              "}\n",
              "\n",
              ".xr-var-preview {\n",
              "  grid-column: 4;\n",
              "}\n",
              "\n",
              ".xr-index-preview {\n",
              "  grid-column: 2 / 5;\n",
              "  color: var(--xr-font-color2);\n",
              "}\n",
              "\n",
              ".xr-var-name,\n",
              ".xr-var-dims,\n",
              ".xr-var-dtype,\n",
              ".xr-preview,\n",
              ".xr-attrs dt {\n",
              "  white-space: nowrap;\n",
              "  overflow: hidden;\n",
              "  text-overflow: ellipsis;\n",
              "  padding-right: 10px;\n",
              "}\n",
              "\n",
              ".xr-var-name:hover,\n",
              ".xr-var-dims:hover,\n",
              ".xr-var-dtype:hover,\n",
              ".xr-attrs dt:hover {\n",
              "  overflow: visible;\n",
              "  width: auto;\n",
              "  z-index: 1;\n",
              "}\n",
              "\n",
              ".xr-var-attrs,\n",
              ".xr-var-data,\n",
              ".xr-index-data {\n",
              "  display: none;\n",
              "  background-color: var(--xr-background-color) !important;\n",
              "  padding-bottom: 5px !important;\n",
              "}\n",
              "\n",
              ".xr-var-attrs-in:checked ~ .xr-var-attrs,\n",
              ".xr-var-data-in:checked ~ .xr-var-data,\n",
              ".xr-index-data-in:checked ~ .xr-index-data {\n",
              "  display: block;\n",
              "}\n",
              "\n",
              ".xr-var-data > table {\n",
              "  float: right;\n",
              "}\n",
              "\n",
              ".xr-var-name span,\n",
              ".xr-var-data,\n",
              ".xr-index-name div,\n",
              ".xr-index-data,\n",
              ".xr-attrs {\n",
              "  padding-left: 25px !important;\n",
              "}\n",
              "\n",
              ".xr-attrs,\n",
              ".xr-var-attrs,\n",
              ".xr-var-data,\n",
              ".xr-index-data {\n",
              "  grid-column: 1 / -1;\n",
              "}\n",
              "\n",
              "dl.xr-attrs {\n",
              "  padding: 0;\n",
              "  margin: 0;\n",
              "  display: grid;\n",
              "  grid-template-columns: 125px auto;\n",
              "}\n",
              "\n",
              ".xr-attrs dt,\n",
              ".xr-attrs dd {\n",
              "  padding: 0;\n",
              "  margin: 0;\n",
              "  float: left;\n",
              "  padding-right: 10px;\n",
              "  width: auto;\n",
              "}\n",
              "\n",
              ".xr-attrs dt {\n",
              "  font-weight: normal;\n",
              "  grid-column: 1;\n",
              "}\n",
              "\n",
              ".xr-attrs dt:hover span {\n",
              "  display: inline-block;\n",
              "  background: var(--xr-background-color);\n",
              "  padding-right: 10px;\n",
              "}\n",
              "\n",
              ".xr-attrs dd {\n",
              "  grid-column: 2;\n",
              "  white-space: pre-wrap;\n",
              "  word-break: break-all;\n",
              "}\n",
              "\n",
              ".xr-icon-database,\n",
              ".xr-icon-file-text2,\n",
              ".xr-no-icon {\n",
              "  display: inline-block;\n",
              "  vertical-align: middle;\n",
              "  width: 1em;\n",
              "  height: 1.5em !important;\n",
              "  stroke-width: 0;\n",
              "  stroke: currentColor;\n",
              "  fill: currentColor;\n",
              "}\n",
              "</style><pre class='xr-text-repr-fallback'>&lt;xarray.Dataset&gt; Size: 437MB\n",
              "Dimensions:         (valid_time: 63, pressure_level: 15, latitude: 241,\n",
              "                     longitude: 480)\n",
              "Coordinates:\n",
              "  * valid_time      (valid_time) datetime64[ns] 504B 2003-06-01 ... 2023-08-01\n",
              "  * pressure_level  (pressure_level) float64 120B 1e+03 950.0 ... 150.0 100.0\n",
              "  * latitude        (latitude) float64 2kB 90.0 89.25 88.5 ... -89.25 -90.0\n",
              "  * longitude       (longitude) float64 4kB 0.0 0.75 1.5 ... 357.8 358.5 359.2\n",
              "Data variables:\n",
              "    co              (valid_time, pressure_level, latitude, longitude) float32 437MB ...\n",
              "Attributes:\n",
              "    GRIB_centre:             ecmf\n",
              "    GRIB_centreDescription:  European Centre for Medium-Range Weather Forecasts\n",
              "    GRIB_subCentre:          0\n",
              "    Conventions:             CF-1.7\n",
              "    institution:             European Centre for Medium-Range Weather Forecasts\n",
              "    history:                 2024-09-12T14:29 GRIB to CDM+CF via cfgrib-0.9.1...</pre><div class='xr-wrap' style='display:none'><div class='xr-header'><div class='xr-obj-type'>xarray.Dataset</div></div><ul class='xr-sections'><li class='xr-section-item'><input id='section-de7dc49c-ebc5-4890-a7ff-b3268a96503b' class='xr-section-summary-in' type='checkbox' disabled ><label for='section-de7dc49c-ebc5-4890-a7ff-b3268a96503b' class='xr-section-summary'  title='Expand/collapse section'>Dimensions:</label><div class='xr-section-inline-details'><ul class='xr-dim-list'><li><span class='xr-has-index'>valid_time</span>: 63</li><li><span class='xr-has-index'>pressure_level</span>: 15</li><li><span class='xr-has-index'>latitude</span>: 241</li><li><span class='xr-has-index'>longitude</span>: 480</li></ul></div><div class='xr-section-details'></div></li><li class='xr-section-item'><input id='section-c3f75c66-659e-40e3-97a8-292bc595b801' class='xr-section-summary-in' type='checkbox'  checked><label for='section-c3f75c66-659e-40e3-97a8-292bc595b801' class='xr-section-summary' >Coordinates: <span>(4)</span></label><div class='xr-section-inline-details'></div><div class='xr-section-details'><ul class='xr-var-list'><li class='xr-var-item'><div class='xr-var-name'><span class='xr-has-index'>valid_time</span></div><div class='xr-var-dims'>(valid_time)</div><div class='xr-var-dtype'>datetime64[ns]</div><div class='xr-var-preview xr-preview'>2003-06-01 ... 2023-08-01</div><input id='attrs-b60f86c9-e025-46dd-98f0-13e4f09ecb33' class='xr-var-attrs-in' type='checkbox' ><label for='attrs-b60f86c9-e025-46dd-98f0-13e4f09ecb33' title='Show/Hide attributes'><svg class='icon xr-icon-file-text2'><use xlink:href='#icon-file-text2'></use></svg></label><input id='data-037cf6d0-f38c-4e24-8462-c29981c5f1a0' class='xr-var-data-in' type='checkbox'><label for='data-037cf6d0-f38c-4e24-8462-c29981c5f1a0' title='Show/Hide data repr'><svg class='icon xr-icon-database'><use xlink:href='#icon-database'></use></svg></label><div class='xr-var-attrs'><dl class='xr-attrs'><dt><span>long_name :</span></dt><dd>time</dd><dt><span>standard_name :</span></dt><dd>time</dd></dl></div><div class='xr-var-data'><pre>array([&#x27;2003-06-01T00:00:00.000000000&#x27;, &#x27;2003-07-01T00:00:00.000000000&#x27;,\n",
              "       &#x27;2003-08-01T00:00:00.000000000&#x27;, &#x27;2004-06-01T00:00:00.000000000&#x27;,\n",
              "       &#x27;2004-07-01T00:00:00.000000000&#x27;, &#x27;2004-08-01T00:00:00.000000000&#x27;,\n",
              "       &#x27;2005-06-01T00:00:00.000000000&#x27;, &#x27;2005-07-01T00:00:00.000000000&#x27;,\n",
              "       &#x27;2005-08-01T00:00:00.000000000&#x27;, &#x27;2006-06-01T00:00:00.000000000&#x27;,\n",
              "       &#x27;2006-07-01T00:00:00.000000000&#x27;, &#x27;2006-08-01T00:00:00.000000000&#x27;,\n",
              "       &#x27;2007-06-01T00:00:00.000000000&#x27;, &#x27;2007-07-01T00:00:00.000000000&#x27;,\n",
              "       &#x27;2007-08-01T00:00:00.000000000&#x27;, &#x27;2008-06-01T00:00:00.000000000&#x27;,\n",
              "       &#x27;2008-07-01T00:00:00.000000000&#x27;, &#x27;2008-08-01T00:00:00.000000000&#x27;,\n",
              "       &#x27;2009-06-01T00:00:00.000000000&#x27;, &#x27;2009-07-01T00:00:00.000000000&#x27;,\n",
              "       &#x27;2009-08-01T00:00:00.000000000&#x27;, &#x27;2010-06-01T00:00:00.000000000&#x27;,\n",
              "       &#x27;2010-07-01T00:00:00.000000000&#x27;, &#x27;2010-08-01T00:00:00.000000000&#x27;,\n",
              "       &#x27;2011-06-01T00:00:00.000000000&#x27;, &#x27;2011-07-01T00:00:00.000000000&#x27;,\n",
              "       &#x27;2011-08-01T00:00:00.000000000&#x27;, &#x27;2012-06-01T00:00:00.000000000&#x27;,\n",
              "       &#x27;2012-07-01T00:00:00.000000000&#x27;, &#x27;2012-08-01T00:00:00.000000000&#x27;,\n",
              "       &#x27;2013-06-01T00:00:00.000000000&#x27;, &#x27;2013-07-01T00:00:00.000000000&#x27;,\n",
              "       &#x27;2013-08-01T00:00:00.000000000&#x27;, &#x27;2014-06-01T00:00:00.000000000&#x27;,\n",
              "       &#x27;2014-07-01T00:00:00.000000000&#x27;, &#x27;2014-08-01T00:00:00.000000000&#x27;,\n",
              "       &#x27;2015-06-01T00:00:00.000000000&#x27;, &#x27;2015-07-01T00:00:00.000000000&#x27;,\n",
              "       &#x27;2015-08-01T00:00:00.000000000&#x27;, &#x27;2016-06-01T00:00:00.000000000&#x27;,\n",
              "       &#x27;2016-07-01T00:00:00.000000000&#x27;, &#x27;2016-08-01T00:00:00.000000000&#x27;,\n",
              "       &#x27;2017-06-01T00:00:00.000000000&#x27;, &#x27;2017-07-01T00:00:00.000000000&#x27;,\n",
              "       &#x27;2017-08-01T00:00:00.000000000&#x27;, &#x27;2018-06-01T00:00:00.000000000&#x27;,\n",
              "       &#x27;2018-07-01T00:00:00.000000000&#x27;, &#x27;2018-08-01T00:00:00.000000000&#x27;,\n",
              "       &#x27;2019-06-01T00:00:00.000000000&#x27;, &#x27;2019-07-01T00:00:00.000000000&#x27;,\n",
              "       &#x27;2019-08-01T00:00:00.000000000&#x27;, &#x27;2020-06-01T00:00:00.000000000&#x27;,\n",
              "       &#x27;2020-07-01T00:00:00.000000000&#x27;, &#x27;2020-08-01T00:00:00.000000000&#x27;,\n",
              "       &#x27;2021-06-01T00:00:00.000000000&#x27;, &#x27;2021-07-01T00:00:00.000000000&#x27;,\n",
              "       &#x27;2021-08-01T00:00:00.000000000&#x27;, &#x27;2022-06-01T00:00:00.000000000&#x27;,\n",
              "       &#x27;2022-07-01T00:00:00.000000000&#x27;, &#x27;2022-08-01T00:00:00.000000000&#x27;,\n",
              "       &#x27;2023-06-01T00:00:00.000000000&#x27;, &#x27;2023-07-01T00:00:00.000000000&#x27;,\n",
              "       &#x27;2023-08-01T00:00:00.000000000&#x27;], dtype=&#x27;datetime64[ns]&#x27;)</pre></div></li><li class='xr-var-item'><div class='xr-var-name'><span class='xr-has-index'>pressure_level</span></div><div class='xr-var-dims'>(pressure_level)</div><div class='xr-var-dtype'>float64</div><div class='xr-var-preview xr-preview'>1e+03 950.0 925.0 ... 150.0 100.0</div><input id='attrs-ac4ae894-ad51-4cec-8193-54ca7792dcb7' class='xr-var-attrs-in' type='checkbox' ><label for='attrs-ac4ae894-ad51-4cec-8193-54ca7792dcb7' title='Show/Hide attributes'><svg class='icon xr-icon-file-text2'><use xlink:href='#icon-file-text2'></use></svg></label><input id='data-d837ce4a-3547-41dd-b9c2-ae031276b554' class='xr-var-data-in' type='checkbox'><label for='data-d837ce4a-3547-41dd-b9c2-ae031276b554' title='Show/Hide data repr'><svg class='icon xr-icon-database'><use xlink:href='#icon-database'></use></svg></label><div class='xr-var-attrs'><dl class='xr-attrs'><dt><span>long_name :</span></dt><dd>pressure</dd><dt><span>units :</span></dt><dd>hPa</dd><dt><span>positive :</span></dt><dd>down</dd><dt><span>stored_direction :</span></dt><dd>decreasing</dd><dt><span>standard_name :</span></dt><dd>air_pressure</dd></dl></div><div class='xr-var-data'><pre>array([1000.,  950.,  925.,  900.,  850.,  800.,  700.,  600.,  500.,  400.,\n",
              "        300.,  250.,  200.,  150.,  100.])</pre></div></li><li class='xr-var-item'><div class='xr-var-name'><span class='xr-has-index'>latitude</span></div><div class='xr-var-dims'>(latitude)</div><div class='xr-var-dtype'>float64</div><div class='xr-var-preview xr-preview'>90.0 89.25 88.5 ... -89.25 -90.0</div><input id='attrs-b501cae2-cdb6-44e0-ab2f-52bb7a63fcf7' class='xr-var-attrs-in' type='checkbox' ><label for='attrs-b501cae2-cdb6-44e0-ab2f-52bb7a63fcf7' title='Show/Hide attributes'><svg class='icon xr-icon-file-text2'><use xlink:href='#icon-file-text2'></use></svg></label><input id='data-c882c4b9-d258-4b8e-9fdd-57523c9c4be0' class='xr-var-data-in' type='checkbox'><label for='data-c882c4b9-d258-4b8e-9fdd-57523c9c4be0' title='Show/Hide data repr'><svg class='icon xr-icon-database'><use xlink:href='#icon-database'></use></svg></label><div class='xr-var-attrs'><dl class='xr-attrs'><dt><span>units :</span></dt><dd>degrees_north</dd><dt><span>standard_name :</span></dt><dd>latitude</dd><dt><span>long_name :</span></dt><dd>latitude</dd><dt><span>stored_direction :</span></dt><dd>decreasing</dd></dl></div><div class='xr-var-data'><pre>array([ 90.  ,  89.25,  88.5 , ..., -88.5 , -89.25, -90.  ])</pre></div></li><li class='xr-var-item'><div class='xr-var-name'><span class='xr-has-index'>longitude</span></div><div class='xr-var-dims'>(longitude)</div><div class='xr-var-dtype'>float64</div><div class='xr-var-preview xr-preview'>0.0 0.75 1.5 ... 357.8 358.5 359.2</div><input id='attrs-910a483a-62c1-479c-94ef-0664eeccaf11' class='xr-var-attrs-in' type='checkbox' ><label for='attrs-910a483a-62c1-479c-94ef-0664eeccaf11' title='Show/Hide attributes'><svg class='icon xr-icon-file-text2'><use xlink:href='#icon-file-text2'></use></svg></label><input id='data-7908557d-7cea-4e96-a2bf-7f4dd6ed8dd0' class='xr-var-data-in' type='checkbox'><label for='data-7908557d-7cea-4e96-a2bf-7f4dd6ed8dd0' title='Show/Hide data repr'><svg class='icon xr-icon-database'><use xlink:href='#icon-database'></use></svg></label><div class='xr-var-attrs'><dl class='xr-attrs'><dt><span>units :</span></dt><dd>degrees_east</dd><dt><span>standard_name :</span></dt><dd>longitude</dd><dt><span>long_name :</span></dt><dd>longitude</dd></dl></div><div class='xr-var-data'><pre>array([  0.  ,   0.75,   1.5 , ..., 357.75, 358.5 , 359.25])</pre></div></li></ul></div></li><li class='xr-section-item'><input id='section-6b5be82f-0ce7-4001-96c7-bb43d75e6246' class='xr-section-summary-in' type='checkbox'  checked><label for='section-6b5be82f-0ce7-4001-96c7-bb43d75e6246' class='xr-section-summary' >Data variables: <span>(1)</span></label><div class='xr-section-inline-details'></div><div class='xr-section-details'><ul class='xr-var-list'><li class='xr-var-item'><div class='xr-var-name'><span>co</span></div><div class='xr-var-dims'>(valid_time, pressure_level, latitude, longitude)</div><div class='xr-var-dtype'>float32</div><div class='xr-var-preview xr-preview'>...</div><input id='attrs-30535980-be2d-4a36-84a8-e7ee3de708ef' class='xr-var-attrs-in' type='checkbox' ><label for='attrs-30535980-be2d-4a36-84a8-e7ee3de708ef' title='Show/Hide attributes'><svg class='icon xr-icon-file-text2'><use xlink:href='#icon-file-text2'></use></svg></label><input id='data-c03457e4-7db0-4556-b581-7801014b3a4e' class='xr-var-data-in' type='checkbox'><label for='data-c03457e4-7db0-4556-b581-7801014b3a4e' title='Show/Hide data repr'><svg class='icon xr-icon-database'><use xlink:href='#icon-database'></use></svg></label><div class='xr-var-attrs'><dl class='xr-attrs'><dt><span>GRIB_paramId :</span></dt><dd>210123</dd><dt><span>GRIB_dataType :</span></dt><dd>an</dd><dt><span>GRIB_numberOfPoints :</span></dt><dd>115680</dd><dt><span>GRIB_typeOfLevel :</span></dt><dd>isobaricInhPa</dd><dt><span>GRIB_stepUnits :</span></dt><dd>1</dd><dt><span>GRIB_stepType :</span></dt><dd>avgua</dd><dt><span>GRIB_gridType :</span></dt><dd>regular_ll</dd><dt><span>GRIB_uvRelativeToGrid :</span></dt><dd>0</dd><dt><span>GRIB_NV :</span></dt><dd>0</dd><dt><span>GRIB_Nx :</span></dt><dd>480</dd><dt><span>GRIB_Ny :</span></dt><dd>241</dd><dt><span>GRIB_cfName :</span></dt><dd>mass_fraction_of_carbon_monoxide_in_air</dd><dt><span>GRIB_cfVarName :</span></dt><dd>co</dd><dt><span>GRIB_gridDefinitionDescription :</span></dt><dd>Latitude/Longitude Grid</dd><dt><span>GRIB_iDirectionIncrementInDegrees :</span></dt><dd>0.75</dd><dt><span>GRIB_iScansNegatively :</span></dt><dd>0</dd><dt><span>GRIB_jDirectionIncrementInDegrees :</span></dt><dd>0.75</dd><dt><span>GRIB_jPointsAreConsecutive :</span></dt><dd>0</dd><dt><span>GRIB_jScansPositively :</span></dt><dd>0</dd><dt><span>GRIB_latitudeOfFirstGridPointInDegrees :</span></dt><dd>90.0</dd><dt><span>GRIB_latitudeOfLastGridPointInDegrees :</span></dt><dd>-90.0</dd><dt><span>GRIB_longitudeOfFirstGridPointInDegrees :</span></dt><dd>0.0</dd><dt><span>GRIB_longitudeOfLastGridPointInDegrees :</span></dt><dd>359.25</dd><dt><span>GRIB_missingValue :</span></dt><dd>3.4028234663852886e+38</dd><dt><span>GRIB_name :</span></dt><dd>Carbon monoxide mass mixing ratio</dd><dt><span>GRIB_shortName :</span></dt><dd>co</dd><dt><span>GRIB_totalNumber :</span></dt><dd>0</dd><dt><span>GRIB_units :</span></dt><dd>kg kg**-1</dd><dt><span>long_name :</span></dt><dd>Carbon monoxide mass mixing ratio</dd><dt><span>units :</span></dt><dd>kg kg**-1</dd><dt><span>standard_name :</span></dt><dd>mass_fraction_of_carbon_monoxide_in_air</dd><dt><span>GRIB_number :</span></dt><dd>0</dd></dl></div><div class='xr-var-data'><pre>[109317600 values with dtype=float32]</pre></div></li></ul></div></li><li class='xr-section-item'><input id='section-17fac36b-5580-4583-bb28-e2497a32c3f2' class='xr-section-summary-in' type='checkbox'  ><label for='section-17fac36b-5580-4583-bb28-e2497a32c3f2' class='xr-section-summary' >Indexes: <span>(4)</span></label><div class='xr-section-inline-details'></div><div class='xr-section-details'><ul class='xr-var-list'><li class='xr-var-item'><div class='xr-index-name'><div>valid_time</div></div><div class='xr-index-preview'>PandasIndex</div><div></div><input id='index-f8407c7c-8a92-4dc6-b0bd-709601520ee5' class='xr-index-data-in' type='checkbox'/><label for='index-f8407c7c-8a92-4dc6-b0bd-709601520ee5' title='Show/Hide index repr'><svg class='icon xr-icon-database'><use xlink:href='#icon-database'></use></svg></label><div class='xr-index-data'><pre>PandasIndex(DatetimeIndex([&#x27;2003-06-01&#x27;, &#x27;2003-07-01&#x27;, &#x27;2003-08-01&#x27;, &#x27;2004-06-01&#x27;,\n",
              "               &#x27;2004-07-01&#x27;, &#x27;2004-08-01&#x27;, &#x27;2005-06-01&#x27;, &#x27;2005-07-01&#x27;,\n",
              "               &#x27;2005-08-01&#x27;, &#x27;2006-06-01&#x27;, &#x27;2006-07-01&#x27;, &#x27;2006-08-01&#x27;,\n",
              "               &#x27;2007-06-01&#x27;, &#x27;2007-07-01&#x27;, &#x27;2007-08-01&#x27;, &#x27;2008-06-01&#x27;,\n",
              "               &#x27;2008-07-01&#x27;, &#x27;2008-08-01&#x27;, &#x27;2009-06-01&#x27;, &#x27;2009-07-01&#x27;,\n",
              "               &#x27;2009-08-01&#x27;, &#x27;2010-06-01&#x27;, &#x27;2010-07-01&#x27;, &#x27;2010-08-01&#x27;,\n",
              "               &#x27;2011-06-01&#x27;, &#x27;2011-07-01&#x27;, &#x27;2011-08-01&#x27;, &#x27;2012-06-01&#x27;,\n",
              "               &#x27;2012-07-01&#x27;, &#x27;2012-08-01&#x27;, &#x27;2013-06-01&#x27;, &#x27;2013-07-01&#x27;,\n",
              "               &#x27;2013-08-01&#x27;, &#x27;2014-06-01&#x27;, &#x27;2014-07-01&#x27;, &#x27;2014-08-01&#x27;,\n",
              "               &#x27;2015-06-01&#x27;, &#x27;2015-07-01&#x27;, &#x27;2015-08-01&#x27;, &#x27;2016-06-01&#x27;,\n",
              "               &#x27;2016-07-01&#x27;, &#x27;2016-08-01&#x27;, &#x27;2017-06-01&#x27;, &#x27;2017-07-01&#x27;,\n",
              "               &#x27;2017-08-01&#x27;, &#x27;2018-06-01&#x27;, &#x27;2018-07-01&#x27;, &#x27;2018-08-01&#x27;,\n",
              "               &#x27;2019-06-01&#x27;, &#x27;2019-07-01&#x27;, &#x27;2019-08-01&#x27;, &#x27;2020-06-01&#x27;,\n",
              "               &#x27;2020-07-01&#x27;, &#x27;2020-08-01&#x27;, &#x27;2021-06-01&#x27;, &#x27;2021-07-01&#x27;,\n",
              "               &#x27;2021-08-01&#x27;, &#x27;2022-06-01&#x27;, &#x27;2022-07-01&#x27;, &#x27;2022-08-01&#x27;,\n",
              "               &#x27;2023-06-01&#x27;, &#x27;2023-07-01&#x27;, &#x27;2023-08-01&#x27;],\n",
              "              dtype=&#x27;datetime64[ns]&#x27;, name=&#x27;valid_time&#x27;, freq=None))</pre></div></li><li class='xr-var-item'><div class='xr-index-name'><div>pressure_level</div></div><div class='xr-index-preview'>PandasIndex</div><div></div><input id='index-58566252-48fd-4e62-be17-2287390bfe73' class='xr-index-data-in' type='checkbox'/><label for='index-58566252-48fd-4e62-be17-2287390bfe73' title='Show/Hide index repr'><svg class='icon xr-icon-database'><use xlink:href='#icon-database'></use></svg></label><div class='xr-index-data'><pre>PandasIndex(Index([1000.0,  950.0,  925.0,  900.0,  850.0,  800.0,  700.0,  600.0,  500.0,\n",
              "        400.0,  300.0,  250.0,  200.0,  150.0,  100.0],\n",
              "      dtype=&#x27;float64&#x27;, name=&#x27;pressure_level&#x27;))</pre></div></li><li class='xr-var-item'><div class='xr-index-name'><div>latitude</div></div><div class='xr-index-preview'>PandasIndex</div><div></div><input id='index-ec12ea98-63ef-41f9-b870-6aeb3788012b' class='xr-index-data-in' type='checkbox'/><label for='index-ec12ea98-63ef-41f9-b870-6aeb3788012b' title='Show/Hide index repr'><svg class='icon xr-icon-database'><use xlink:href='#icon-database'></use></svg></label><div class='xr-index-data'><pre>PandasIndex(Index([  90.0,  89.25,   88.5,  87.75,   87.0,  86.25,   85.5,  84.75,   84.0,\n",
              "        83.25,\n",
              "       ...\n",
              "       -83.25,  -84.0, -84.75,  -85.5, -86.25,  -87.0, -87.75,  -88.5, -89.25,\n",
              "        -90.0],\n",
              "      dtype=&#x27;float64&#x27;, name=&#x27;latitude&#x27;, length=241))</pre></div></li><li class='xr-var-item'><div class='xr-index-name'><div>longitude</div></div><div class='xr-index-preview'>PandasIndex</div><div></div><input id='index-0f35bf05-e916-40cb-b550-42f749124332' class='xr-index-data-in' type='checkbox'/><label for='index-0f35bf05-e916-40cb-b550-42f749124332' title='Show/Hide index repr'><svg class='icon xr-icon-database'><use xlink:href='#icon-database'></use></svg></label><div class='xr-index-data'><pre>PandasIndex(Index([   0.0,   0.75,    1.5,   2.25,    3.0,   3.75,    4.5,   5.25,    6.0,\n",
              "         6.75,\n",
              "       ...\n",
              "        352.5, 353.25,  354.0, 354.75,  355.5, 356.25,  357.0, 357.75,  358.5,\n",
              "       359.25],\n",
              "      dtype=&#x27;float64&#x27;, name=&#x27;longitude&#x27;, length=480))</pre></div></li></ul></div></li><li class='xr-section-item'><input id='section-cc2a2f62-0d7d-4159-9ee7-0d5d5aa019c9' class='xr-section-summary-in' type='checkbox'  checked><label for='section-cc2a2f62-0d7d-4159-9ee7-0d5d5aa019c9' class='xr-section-summary' >Attributes: <span>(6)</span></label><div class='xr-section-inline-details'></div><div class='xr-section-details'><dl class='xr-attrs'><dt><span>GRIB_centre :</span></dt><dd>ecmf</dd><dt><span>GRIB_centreDescription :</span></dt><dd>European Centre for Medium-Range Weather Forecasts</dd><dt><span>GRIB_subCentre :</span></dt><dd>0</dd><dt><span>Conventions :</span></dt><dd>CF-1.7</dd><dt><span>institution :</span></dt><dd>European Centre for Medium-Range Weather Forecasts</dd><dt><span>history :</span></dt><dd>2024-09-12T14:29 GRIB to CDM+CF via cfgrib-0.9.14.0/ecCodes-2.36.0 with {&quot;source&quot;: &quot;data.grib&quot;, &quot;filter_by_keys&quot;: {&quot;marsStream&quot;: &quot;moda&quot;, &quot;typeOfLevel&quot;: &quot;isobaricInhPa&quot;}, &quot;encode_cf&quot;: [&quot;parameter&quot;, &quot;time&quot;, &quot;geography&quot;, &quot;vertical&quot;]}</dd></dl></div></li></ul></div></div>"
            ],
            "text/plain": [
              "<xarray.Dataset> Size: 437MB\n",
              "Dimensions:         (valid_time: 63, pressure_level: 15, latitude: 241,\n",
              "                     longitude: 480)\n",
              "Coordinates:\n",
              "  * valid_time      (valid_time) datetime64[ns] 504B 2003-06-01 ... 2023-08-01\n",
              "  * pressure_level  (pressure_level) float64 120B 1e+03 950.0 ... 150.0 100.0\n",
              "  * latitude        (latitude) float64 2kB 90.0 89.25 88.5 ... -89.25 -90.0\n",
              "  * longitude       (longitude) float64 4kB 0.0 0.75 1.5 ... 357.8 358.5 359.2\n",
              "Data variables:\n",
              "    co              (valid_time, pressure_level, latitude, longitude) float32 437MB ...\n",
              "Attributes:\n",
              "    GRIB_centre:             ecmf\n",
              "    GRIB_centreDescription:  European Centre for Medium-Range Weather Forecasts\n",
              "    GRIB_subCentre:          0\n",
              "    Conventions:             CF-1.7\n",
              "    institution:             European Centre for Medium-Range Weather Forecasts\n",
              "    history:                 2024-09-12T14:29 GRIB to CDM+CF via cfgrib-0.9.1..."
            ]
          },
          "execution_count": 6,
          "metadata": {},
          "output_type": "execute_result"
        }
      ],
      "source": [
        "fn = f'{DATADIR}/CO_NHemis_JJA_2003-2023.nc'\n",
        "ds = xr.open_dataset(fn)\n",
        "ds"
      ]
    },
    {
      "cell_type": "markdown",
      "id": "227fcf72",
      "metadata": {},
      "source": [
        "### Representation of pressure levels\n",
        "\n",
        "Our CO dataset represents 15 levels of the atmosphere, from 1000 (surface) to 100 hectopascals (hPa). This can be best visualised in a logarithmic scale, or if converted to altitude."
      ]
    },
    {
      "cell_type": "markdown",
      "id": "68b6cbcd",
      "metadata": {
        "tags": []
      },
      "source": [
        "#### Pressure levels in logarithmic scale\n",
        "\n",
        "Here we create a new coordinate of our Data Array with the logarithm of the pressure levels, to facilitate visualisation in our plots."
      ]
    },
    {
      "cell_type": "code",
      "execution_count": 7,
      "id": "9bc5ace4",
      "metadata": {
        "execution": {
          "iopub.execute_input": "2024-09-12T14:31:46.853262Z",
          "iopub.status.busy": "2024-09-12T14:31:46.851606Z",
          "iopub.status.idle": "2024-09-12T14:31:46.862070Z",
          "shell.execute_reply": "2024-09-12T14:31:46.860389Z",
          "shell.execute_reply.started": "2024-09-12T14:31:46.853204Z"
        }
      },
      "outputs": [],
      "source": [
        "ds['level_log10'] = np.log10(ds['pressure_level'])"
      ]
    },
    {
      "cell_type": "code",
      "execution_count": 8,
      "id": "fd8807aa",
      "metadata": {
        "execution": {
          "iopub.execute_input": "2024-09-12T14:32:09.747035Z",
          "iopub.status.busy": "2024-09-12T14:32:09.746510Z",
          "iopub.status.idle": "2024-09-12T14:32:09.754516Z",
          "shell.execute_reply": "2024-09-12T14:32:09.752755Z",
          "shell.execute_reply.started": "2024-09-12T14:32:09.746992Z"
        }
      },
      "outputs": [],
      "source": [
        "ds = ds.set_coords('level_log10')"
      ]
    },
    {
      "cell_type": "markdown",
      "id": "4d0bdf42",
      "metadata": {},
      "source": [
        "#### Pressure levels to altitude\n",
        "\n",
        "Here we create a new coordinate with altitude. The altitude in meters can be calculated with the international barometric formula:\n",
        "\n",
        "H = 44330 * [1 - (P/p0)^(1/5.255) ]\n",
        "\n",
        "Where H = altitude (m), P = measured pressure (Pa) from the sensor, and p0 = reference pressure at sea level (e.g. 1000 hPa)\n",
        "\n",
        "Here we shall assume that the reference pressure at sea level is 1000 hPa."
      ]
    },
    {
      "cell_type": "code",
      "execution_count": 9,
      "id": "d8304a3b",
      "metadata": {
        "execution": {
          "iopub.execute_input": "2024-09-12T14:32:25.359876Z",
          "iopub.status.busy": "2024-09-12T14:32:25.358698Z",
          "iopub.status.idle": "2024-09-12T14:32:25.368798Z",
          "shell.execute_reply": "2024-09-12T14:32:25.367285Z",
          "shell.execute_reply.started": "2024-09-12T14:32:25.359788Z"
        }
      },
      "outputs": [],
      "source": [
        "ds['height'] = 44330. * (1 - ((ds['pressure_level']/1000.)**(1/5.255)))"
      ]
    },
    {
      "cell_type": "markdown",
      "id": "ee896fc4",
      "metadata": {},
      "source": [
        "We will convert the heights from meters to kilometers:"
      ]
    },
    {
      "cell_type": "code",
      "execution_count": 10,
      "id": "f20b27f1",
      "metadata": {
        "execution": {
          "iopub.execute_input": "2024-09-12T14:32:35.406418Z",
          "iopub.status.busy": "2024-09-12T14:32:35.406000Z",
          "iopub.status.idle": "2024-09-12T14:32:35.413678Z",
          "shell.execute_reply": "2024-09-12T14:32:35.412297Z",
          "shell.execute_reply.started": "2024-09-12T14:32:35.406380Z"
        }
      },
      "outputs": [],
      "source": [
        "ds['height'] = ds['height']/1000."
      ]
    },
    {
      "cell_type": "markdown",
      "id": "d2c690f2",
      "metadata": {},
      "source": [
        "Here we set the heights as a coordinate in our Xarray Dataset."
      ]
    },
    {
      "cell_type": "code",
      "execution_count": 11,
      "id": "7c513e89",
      "metadata": {
        "execution": {
          "iopub.execute_input": "2024-09-12T14:32:38.981483Z",
          "iopub.status.busy": "2024-09-12T14:32:38.980933Z",
          "iopub.status.idle": "2024-09-12T14:32:38.988784Z",
          "shell.execute_reply": "2024-09-12T14:32:38.986920Z",
          "shell.execute_reply.started": "2024-09-12T14:32:38.981436Z"
        }
      },
      "outputs": [],
      "source": [
        "ds = ds.set_coords('height')"
      ]
    },
    {
      "cell_type": "markdown",
      "id": "e4aae93a",
      "metadata": {},
      "source": [
        "### Convert xarray Dataset into Data Array"
      ]
    },
    {
      "cell_type": "markdown",
      "id": "abacee22",
      "metadata": {},
      "source": [
        "To facilitate later processing, we will now convert this xarray Dataset into an Xarray Data Array object. This is an object which allows more options for processing data of only one variable, in this case CO."
      ]
    },
    {
      "cell_type": "code",
      "execution_count": 12,
      "id": "e7a106da",
      "metadata": {
        "execution": {
          "iopub.execute_input": "2024-09-12T14:32:43.645668Z",
          "iopub.status.busy": "2024-09-12T14:32:43.645190Z",
          "iopub.status.idle": "2024-09-12T14:32:43.651214Z",
          "shell.execute_reply": "2024-09-12T14:32:43.649878Z",
          "shell.execute_reply.started": "2024-09-12T14:32:43.645618Z"
        }
      },
      "outputs": [],
      "source": [
        "da = ds['co']"
      ]
    },
    {
      "cell_type": "code",
      "execution_count": 13,
      "id": "f3a84813",
      "metadata": {
        "execution": {
          "iopub.execute_input": "2024-09-12T14:32:50.426854Z",
          "iopub.status.busy": "2024-09-12T14:32:50.426323Z",
          "iopub.status.idle": "2024-09-12T14:32:50.460036Z",
          "shell.execute_reply": "2024-09-12T14:32:50.458612Z",
          "shell.execute_reply.started": "2024-09-12T14:32:50.426794Z"
        }
      },
      "outputs": [
        {
          "data": {
            "text/html": [
              "<div><svg style=\"position: absolute; width: 0; height: 0; overflow: hidden\">\n",
              "<defs>\n",
              "<symbol id=\"icon-database\" viewBox=\"0 0 32 32\">\n",
              "<path d=\"M16 0c-8.837 0-16 2.239-16 5v4c0 2.761 7.163 5 16 5s16-2.239 16-5v-4c0-2.761-7.163-5-16-5z\"></path>\n",
              "<path d=\"M16 17c-8.837 0-16-2.239-16-5v6c0 2.761 7.163 5 16 5s16-2.239 16-5v-6c0 2.761-7.163 5-16 5z\"></path>\n",
              "<path d=\"M16 26c-8.837 0-16-2.239-16-5v6c0 2.761 7.163 5 16 5s16-2.239 16-5v-6c0 2.761-7.163 5-16 5z\"></path>\n",
              "</symbol>\n",
              "<symbol id=\"icon-file-text2\" viewBox=\"0 0 32 32\">\n",
              "<path d=\"M28.681 7.159c-0.694-0.947-1.662-2.053-2.724-3.116s-2.169-2.030-3.116-2.724c-1.612-1.182-2.393-1.319-2.841-1.319h-15.5c-1.378 0-2.5 1.121-2.5 2.5v27c0 1.378 1.122 2.5 2.5 2.5h23c1.378 0 2.5-1.122 2.5-2.5v-19.5c0-0.448-0.137-1.23-1.319-2.841zM24.543 5.457c0.959 0.959 1.712 1.825 2.268 2.543h-4.811v-4.811c0.718 0.556 1.584 1.309 2.543 2.268zM28 29.5c0 0.271-0.229 0.5-0.5 0.5h-23c-0.271 0-0.5-0.229-0.5-0.5v-27c0-0.271 0.229-0.5 0.5-0.5 0 0 15.499-0 15.5 0v7c0 0.552 0.448 1 1 1h7v19.5z\"></path>\n",
              "<path d=\"M23 26h-14c-0.552 0-1-0.448-1-1s0.448-1 1-1h14c0.552 0 1 0.448 1 1s-0.448 1-1 1z\"></path>\n",
              "<path d=\"M23 22h-14c-0.552 0-1-0.448-1-1s0.448-1 1-1h14c0.552 0 1 0.448 1 1s-0.448 1-1 1z\"></path>\n",
              "<path d=\"M23 18h-14c-0.552 0-1-0.448-1-1s0.448-1 1-1h14c0.552 0 1 0.448 1 1s-0.448 1-1 1z\"></path>\n",
              "</symbol>\n",
              "</defs>\n",
              "</svg>\n",
              "<style>/* CSS stylesheet for displaying xarray objects in jupyterlab.\n",
              " *\n",
              " */\n",
              "\n",
              ":root {\n",
              "  --xr-font-color0: var(--jp-content-font-color0, rgba(0, 0, 0, 1));\n",
              "  --xr-font-color2: var(--jp-content-font-color2, rgba(0, 0, 0, 0.54));\n",
              "  --xr-font-color3: var(--jp-content-font-color3, rgba(0, 0, 0, 0.38));\n",
              "  --xr-border-color: var(--jp-border-color2, #e0e0e0);\n",
              "  --xr-disabled-color: var(--jp-layout-color3, #bdbdbd);\n",
              "  --xr-background-color: var(--jp-layout-color0, white);\n",
              "  --xr-background-color-row-even: var(--jp-layout-color1, white);\n",
              "  --xr-background-color-row-odd: var(--jp-layout-color2, #eeeeee);\n",
              "}\n",
              "\n",
              "html[theme=dark],\n",
              "html[data-theme=dark],\n",
              "body[data-theme=dark],\n",
              "body.vscode-dark {\n",
              "  --xr-font-color0: rgba(255, 255, 255, 1);\n",
              "  --xr-font-color2: rgba(255, 255, 255, 0.54);\n",
              "  --xr-font-color3: rgba(255, 255, 255, 0.38);\n",
              "  --xr-border-color: #1F1F1F;\n",
              "  --xr-disabled-color: #515151;\n",
              "  --xr-background-color: #111111;\n",
              "  --xr-background-color-row-even: #111111;\n",
              "  --xr-background-color-row-odd: #313131;\n",
              "}\n",
              "\n",
              ".xr-wrap {\n",
              "  display: block !important;\n",
              "  min-width: 300px;\n",
              "  max-width: 700px;\n",
              "}\n",
              "\n",
              ".xr-text-repr-fallback {\n",
              "  /* fallback to plain text repr when CSS is not injected (untrusted notebook) */\n",
              "  display: none;\n",
              "}\n",
              "\n",
              ".xr-header {\n",
              "  padding-top: 6px;\n",
              "  padding-bottom: 6px;\n",
              "  margin-bottom: 4px;\n",
              "  border-bottom: solid 1px var(--xr-border-color);\n",
              "}\n",
              "\n",
              ".xr-header > div,\n",
              ".xr-header > ul {\n",
              "  display: inline;\n",
              "  margin-top: 0;\n",
              "  margin-bottom: 0;\n",
              "}\n",
              "\n",
              ".xr-obj-type,\n",
              ".xr-array-name {\n",
              "  margin-left: 2px;\n",
              "  margin-right: 10px;\n",
              "}\n",
              "\n",
              ".xr-obj-type {\n",
              "  color: var(--xr-font-color2);\n",
              "}\n",
              "\n",
              ".xr-sections {\n",
              "  padding-left: 0 !important;\n",
              "  display: grid;\n",
              "  grid-template-columns: 150px auto auto 1fr 20px 20px;\n",
              "}\n",
              "\n",
              ".xr-section-item {\n",
              "  display: contents;\n",
              "}\n",
              "\n",
              ".xr-section-item input {\n",
              "  display: none;\n",
              "}\n",
              "\n",
              ".xr-section-item input + label {\n",
              "  color: var(--xr-disabled-color);\n",
              "}\n",
              "\n",
              ".xr-section-item input:enabled + label {\n",
              "  cursor: pointer;\n",
              "  color: var(--xr-font-color2);\n",
              "}\n",
              "\n",
              ".xr-section-item input:enabled + label:hover {\n",
              "  color: var(--xr-font-color0);\n",
              "}\n",
              "\n",
              ".xr-section-summary {\n",
              "  grid-column: 1;\n",
              "  color: var(--xr-font-color2);\n",
              "  font-weight: 500;\n",
              "}\n",
              "\n",
              ".xr-section-summary > span {\n",
              "  display: inline-block;\n",
              "  padding-left: 0.5em;\n",
              "}\n",
              "\n",
              ".xr-section-summary-in:disabled + label {\n",
              "  color: var(--xr-font-color2);\n",
              "}\n",
              "\n",
              ".xr-section-summary-in + label:before {\n",
              "  display: inline-block;\n",
              "  content: '\u25ba';\n",
              "  font-size: 11px;\n",
              "  width: 15px;\n",
              "  text-align: center;\n",
              "}\n",
              "\n",
              ".xr-section-summary-in:disabled + label:before {\n",
              "  color: var(--xr-disabled-color);\n",
              "}\n",
              "\n",
              ".xr-section-summary-in:checked + label:before {\n",
              "  content: '\u25bc';\n",
              "}\n",
              "\n",
              ".xr-section-summary-in:checked + label > span {\n",
              "  display: none;\n",
              "}\n",
              "\n",
              ".xr-section-summary,\n",
              ".xr-section-inline-details {\n",
              "  padding-top: 4px;\n",
              "  padding-bottom: 4px;\n",
              "}\n",
              "\n",
              ".xr-section-inline-details {\n",
              "  grid-column: 2 / -1;\n",
              "}\n",
              "\n",
              ".xr-section-details {\n",
              "  display: none;\n",
              "  grid-column: 1 / -1;\n",
              "  margin-bottom: 5px;\n",
              "}\n",
              "\n",
              ".xr-section-summary-in:checked ~ .xr-section-details {\n",
              "  display: contents;\n",
              "}\n",
              "\n",
              ".xr-array-wrap {\n",
              "  grid-column: 1 / -1;\n",
              "  display: grid;\n",
              "  grid-template-columns: 20px auto;\n",
              "}\n",
              "\n",
              ".xr-array-wrap > label {\n",
              "  grid-column: 1;\n",
              "  vertical-align: top;\n",
              "}\n",
              "\n",
              ".xr-preview {\n",
              "  color: var(--xr-font-color3);\n",
              "}\n",
              "\n",
              ".xr-array-preview,\n",
              ".xr-array-data {\n",
              "  padding: 0 5px !important;\n",
              "  grid-column: 2;\n",
              "}\n",
              "\n",
              ".xr-array-data,\n",
              ".xr-array-in:checked ~ .xr-array-preview {\n",
              "  display: none;\n",
              "}\n",
              "\n",
              ".xr-array-in:checked ~ .xr-array-data,\n",
              ".xr-array-preview {\n",
              "  display: inline-block;\n",
              "}\n",
              "\n",
              ".xr-dim-list {\n",
              "  display: inline-block !important;\n",
              "  list-style: none;\n",
              "  padding: 0 !important;\n",
              "  margin: 0;\n",
              "}\n",
              "\n",
              ".xr-dim-list li {\n",
              "  display: inline-block;\n",
              "  padding: 0;\n",
              "  margin: 0;\n",
              "}\n",
              "\n",
              ".xr-dim-list:before {\n",
              "  content: '(';\n",
              "}\n",
              "\n",
              ".xr-dim-list:after {\n",
              "  content: ')';\n",
              "}\n",
              "\n",
              ".xr-dim-list li:not(:last-child):after {\n",
              "  content: ',';\n",
              "  padding-right: 5px;\n",
              "}\n",
              "\n",
              ".xr-has-index {\n",
              "  font-weight: bold;\n",
              "}\n",
              "\n",
              ".xr-var-list,\n",
              ".xr-var-item {\n",
              "  display: contents;\n",
              "}\n",
              "\n",
              ".xr-var-item > div,\n",
              ".xr-var-item label,\n",
              ".xr-var-item > .xr-var-name span {\n",
              "  background-color: var(--xr-background-color-row-even);\n",
              "  margin-bottom: 0;\n",
              "}\n",
              "\n",
              ".xr-var-item > .xr-var-name:hover span {\n",
              "  padding-right: 5px;\n",
              "}\n",
              "\n",
              ".xr-var-list > li:nth-child(odd) > div,\n",
              ".xr-var-list > li:nth-child(odd) > label,\n",
              ".xr-var-list > li:nth-child(odd) > .xr-var-name span {\n",
              "  background-color: var(--xr-background-color-row-odd);\n",
              "}\n",
              "\n",
              ".xr-var-name {\n",
              "  grid-column: 1;\n",
              "}\n",
              "\n",
              ".xr-var-dims {\n",
              "  grid-column: 2;\n",
              "}\n",
              "\n",
              ".xr-var-dtype {\n",
              "  grid-column: 3;\n",
              "  text-align: right;\n",
              "  color: var(--xr-font-color2);\n",
              "}\n",
              "\n",
              ".xr-var-preview {\n",
              "  grid-column: 4;\n",
              "}\n",
              "\n",
              ".xr-index-preview {\n",
              "  grid-column: 2 / 5;\n",
              "  color: var(--xr-font-color2);\n",
              "}\n",
              "\n",
              ".xr-var-name,\n",
              ".xr-var-dims,\n",
              ".xr-var-dtype,\n",
              ".xr-preview,\n",
              ".xr-attrs dt {\n",
              "  white-space: nowrap;\n",
              "  overflow: hidden;\n",
              "  text-overflow: ellipsis;\n",
              "  padding-right: 10px;\n",
              "}\n",
              "\n",
              ".xr-var-name:hover,\n",
              ".xr-var-dims:hover,\n",
              ".xr-var-dtype:hover,\n",
              ".xr-attrs dt:hover {\n",
              "  overflow: visible;\n",
              "  width: auto;\n",
              "  z-index: 1;\n",
              "}\n",
              "\n",
              ".xr-var-attrs,\n",
              ".xr-var-data,\n",
              ".xr-index-data {\n",
              "  display: none;\n",
              "  background-color: var(--xr-background-color) !important;\n",
              "  padding-bottom: 5px !important;\n",
              "}\n",
              "\n",
              ".xr-var-attrs-in:checked ~ .xr-var-attrs,\n",
              ".xr-var-data-in:checked ~ .xr-var-data,\n",
              ".xr-index-data-in:checked ~ .xr-index-data {\n",
              "  display: block;\n",
              "}\n",
              "\n",
              ".xr-var-data > table {\n",
              "  float: right;\n",
              "}\n",
              "\n",
              ".xr-var-name span,\n",
              ".xr-var-data,\n",
              ".xr-index-name div,\n",
              ".xr-index-data,\n",
              ".xr-attrs {\n",
              "  padding-left: 25px !important;\n",
              "}\n",
              "\n",
              ".xr-attrs,\n",
              ".xr-var-attrs,\n",
              ".xr-var-data,\n",
              ".xr-index-data {\n",
              "  grid-column: 1 / -1;\n",
              "}\n",
              "\n",
              "dl.xr-attrs {\n",
              "  padding: 0;\n",
              "  margin: 0;\n",
              "  display: grid;\n",
              "  grid-template-columns: 125px auto;\n",
              "}\n",
              "\n",
              ".xr-attrs dt,\n",
              ".xr-attrs dd {\n",
              "  padding: 0;\n",
              "  margin: 0;\n",
              "  float: left;\n",
              "  padding-right: 10px;\n",
              "  width: auto;\n",
              "}\n",
              "\n",
              ".xr-attrs dt {\n",
              "  font-weight: normal;\n",
              "  grid-column: 1;\n",
              "}\n",
              "\n",
              ".xr-attrs dt:hover span {\n",
              "  display: inline-block;\n",
              "  background: var(--xr-background-color);\n",
              "  padding-right: 10px;\n",
              "}\n",
              "\n",
              ".xr-attrs dd {\n",
              "  grid-column: 2;\n",
              "  white-space: pre-wrap;\n",
              "  word-break: break-all;\n",
              "}\n",
              "\n",
              ".xr-icon-database,\n",
              ".xr-icon-file-text2,\n",
              ".xr-no-icon {\n",
              "  display: inline-block;\n",
              "  vertical-align: middle;\n",
              "  width: 1em;\n",
              "  height: 1.5em !important;\n",
              "  stroke-width: 0;\n",
              "  stroke: currentColor;\n",
              "  fill: currentColor;\n",
              "}\n",
              "</style><pre class='xr-text-repr-fallback'>&lt;xarray.DataArray &#x27;co&#x27; (valid_time: 63, pressure_level: 15, latitude: 241,\n",
              "                        longitude: 480)&gt; Size: 437MB\n",
              "[109317600 values with dtype=float32]\n",
              "Coordinates:\n",
              "  * valid_time      (valid_time) datetime64[ns] 504B 2003-06-01 ... 2023-08-01\n",
              "  * pressure_level  (pressure_level) float64 120B 1e+03 950.0 ... 150.0 100.0\n",
              "  * latitude        (latitude) float64 2kB 90.0 89.25 88.5 ... -89.25 -90.0\n",
              "  * longitude       (longitude) float64 4kB 0.0 0.75 1.5 ... 357.8 358.5 359.2\n",
              "    level_log10     (pressure_level) float64 120B 3.0 2.978 2.966 ... 2.176 2.0\n",
              "    height          (pressure_level) float64 120B 0.0 0.4306 ... 13.43 15.73\n",
              "Attributes: (12/32)\n",
              "    GRIB_paramId:                             210123\n",
              "    GRIB_dataType:                            an\n",
              "    GRIB_numberOfPoints:                      115680\n",
              "    GRIB_typeOfLevel:                         isobaricInhPa\n",
              "    GRIB_stepUnits:                           1\n",
              "    GRIB_stepType:                            avgua\n",
              "    ...                                       ...\n",
              "    GRIB_totalNumber:                         0\n",
              "    GRIB_units:                               kg kg**-1\n",
              "    long_name:                                Carbon monoxide mass mixing ratio\n",
              "    units:                                    kg kg**-1\n",
              "    standard_name:                            mass_fraction_of_carbon_monoxid...\n",
              "    GRIB_number:                              0</pre><div class='xr-wrap' style='display:none'><div class='xr-header'><div class='xr-obj-type'>xarray.DataArray</div><div class='xr-array-name'>'co'</div><ul class='xr-dim-list'><li><span class='xr-has-index'>valid_time</span>: 63</li><li><span class='xr-has-index'>pressure_level</span>: 15</li><li><span class='xr-has-index'>latitude</span>: 241</li><li><span class='xr-has-index'>longitude</span>: 480</li></ul></div><ul class='xr-sections'><li class='xr-section-item'><div class='xr-array-wrap'><input id='section-04787bbd-f7bb-4854-89d2-e956614004b0' class='xr-array-in' type='checkbox' checked><label for='section-04787bbd-f7bb-4854-89d2-e956614004b0' title='Show/hide data repr'><svg class='icon xr-icon-database'><use xlink:href='#icon-database'></use></svg></label><div class='xr-array-preview xr-preview'><span>...</span></div><div class='xr-array-data'><pre>[109317600 values with dtype=float32]</pre></div></div></li><li class='xr-section-item'><input id='section-c8d358bc-180d-48f4-a11a-d49c89f6090d' class='xr-section-summary-in' type='checkbox'  checked><label for='section-c8d358bc-180d-48f4-a11a-d49c89f6090d' class='xr-section-summary' >Coordinates: <span>(6)</span></label><div class='xr-section-inline-details'></div><div class='xr-section-details'><ul class='xr-var-list'><li class='xr-var-item'><div class='xr-var-name'><span class='xr-has-index'>valid_time</span></div><div class='xr-var-dims'>(valid_time)</div><div class='xr-var-dtype'>datetime64[ns]</div><div class='xr-var-preview xr-preview'>2003-06-01 ... 2023-08-01</div><input id='attrs-8f3aec81-241e-48f6-8d81-d6ed1703c481' class='xr-var-attrs-in' type='checkbox' ><label for='attrs-8f3aec81-241e-48f6-8d81-d6ed1703c481' title='Show/Hide attributes'><svg class='icon xr-icon-file-text2'><use xlink:href='#icon-file-text2'></use></svg></label><input id='data-853c3804-e58c-43c0-ba16-c32003d4898e' class='xr-var-data-in' type='checkbox'><label for='data-853c3804-e58c-43c0-ba16-c32003d4898e' title='Show/Hide data repr'><svg class='icon xr-icon-database'><use xlink:href='#icon-database'></use></svg></label><div class='xr-var-attrs'><dl class='xr-attrs'><dt><span>long_name :</span></dt><dd>time</dd><dt><span>standard_name :</span></dt><dd>time</dd></dl></div><div class='xr-var-data'><pre>array([&#x27;2003-06-01T00:00:00.000000000&#x27;, &#x27;2003-07-01T00:00:00.000000000&#x27;,\n",
              "       &#x27;2003-08-01T00:00:00.000000000&#x27;, &#x27;2004-06-01T00:00:00.000000000&#x27;,\n",
              "       &#x27;2004-07-01T00:00:00.000000000&#x27;, &#x27;2004-08-01T00:00:00.000000000&#x27;,\n",
              "       &#x27;2005-06-01T00:00:00.000000000&#x27;, &#x27;2005-07-01T00:00:00.000000000&#x27;,\n",
              "       &#x27;2005-08-01T00:00:00.000000000&#x27;, &#x27;2006-06-01T00:00:00.000000000&#x27;,\n",
              "       &#x27;2006-07-01T00:00:00.000000000&#x27;, &#x27;2006-08-01T00:00:00.000000000&#x27;,\n",
              "       &#x27;2007-06-01T00:00:00.000000000&#x27;, &#x27;2007-07-01T00:00:00.000000000&#x27;,\n",
              "       &#x27;2007-08-01T00:00:00.000000000&#x27;, &#x27;2008-06-01T00:00:00.000000000&#x27;,\n",
              "       &#x27;2008-07-01T00:00:00.000000000&#x27;, &#x27;2008-08-01T00:00:00.000000000&#x27;,\n",
              "       &#x27;2009-06-01T00:00:00.000000000&#x27;, &#x27;2009-07-01T00:00:00.000000000&#x27;,\n",
              "       &#x27;2009-08-01T00:00:00.000000000&#x27;, &#x27;2010-06-01T00:00:00.000000000&#x27;,\n",
              "       &#x27;2010-07-01T00:00:00.000000000&#x27;, &#x27;2010-08-01T00:00:00.000000000&#x27;,\n",
              "       &#x27;2011-06-01T00:00:00.000000000&#x27;, &#x27;2011-07-01T00:00:00.000000000&#x27;,\n",
              "       &#x27;2011-08-01T00:00:00.000000000&#x27;, &#x27;2012-06-01T00:00:00.000000000&#x27;,\n",
              "       &#x27;2012-07-01T00:00:00.000000000&#x27;, &#x27;2012-08-01T00:00:00.000000000&#x27;,\n",
              "       &#x27;2013-06-01T00:00:00.000000000&#x27;, &#x27;2013-07-01T00:00:00.000000000&#x27;,\n",
              "       &#x27;2013-08-01T00:00:00.000000000&#x27;, &#x27;2014-06-01T00:00:00.000000000&#x27;,\n",
              "       &#x27;2014-07-01T00:00:00.000000000&#x27;, &#x27;2014-08-01T00:00:00.000000000&#x27;,\n",
              "       &#x27;2015-06-01T00:00:00.000000000&#x27;, &#x27;2015-07-01T00:00:00.000000000&#x27;,\n",
              "       &#x27;2015-08-01T00:00:00.000000000&#x27;, &#x27;2016-06-01T00:00:00.000000000&#x27;,\n",
              "       &#x27;2016-07-01T00:00:00.000000000&#x27;, &#x27;2016-08-01T00:00:00.000000000&#x27;,\n",
              "       &#x27;2017-06-01T00:00:00.000000000&#x27;, &#x27;2017-07-01T00:00:00.000000000&#x27;,\n",
              "       &#x27;2017-08-01T00:00:00.000000000&#x27;, &#x27;2018-06-01T00:00:00.000000000&#x27;,\n",
              "       &#x27;2018-07-01T00:00:00.000000000&#x27;, &#x27;2018-08-01T00:00:00.000000000&#x27;,\n",
              "       &#x27;2019-06-01T00:00:00.000000000&#x27;, &#x27;2019-07-01T00:00:00.000000000&#x27;,\n",
              "       &#x27;2019-08-01T00:00:00.000000000&#x27;, &#x27;2020-06-01T00:00:00.000000000&#x27;,\n",
              "       &#x27;2020-07-01T00:00:00.000000000&#x27;, &#x27;2020-08-01T00:00:00.000000000&#x27;,\n",
              "       &#x27;2021-06-01T00:00:00.000000000&#x27;, &#x27;2021-07-01T00:00:00.000000000&#x27;,\n",
              "       &#x27;2021-08-01T00:00:00.000000000&#x27;, &#x27;2022-06-01T00:00:00.000000000&#x27;,\n",
              "       &#x27;2022-07-01T00:00:00.000000000&#x27;, &#x27;2022-08-01T00:00:00.000000000&#x27;,\n",
              "       &#x27;2023-06-01T00:00:00.000000000&#x27;, &#x27;2023-07-01T00:00:00.000000000&#x27;,\n",
              "       &#x27;2023-08-01T00:00:00.000000000&#x27;], dtype=&#x27;datetime64[ns]&#x27;)</pre></div></li><li class='xr-var-item'><div class='xr-var-name'><span class='xr-has-index'>pressure_level</span></div><div class='xr-var-dims'>(pressure_level)</div><div class='xr-var-dtype'>float64</div><div class='xr-var-preview xr-preview'>1e+03 950.0 925.0 ... 150.0 100.0</div><input id='attrs-af632a8d-9ffd-4393-a014-573f863e2d93' class='xr-var-attrs-in' type='checkbox' ><label for='attrs-af632a8d-9ffd-4393-a014-573f863e2d93' title='Show/Hide attributes'><svg class='icon xr-icon-file-text2'><use xlink:href='#icon-file-text2'></use></svg></label><input id='data-538c4927-a066-44a3-9eb8-f3524c7b2a0e' class='xr-var-data-in' type='checkbox'><label for='data-538c4927-a066-44a3-9eb8-f3524c7b2a0e' title='Show/Hide data repr'><svg class='icon xr-icon-database'><use xlink:href='#icon-database'></use></svg></label><div class='xr-var-attrs'><dl class='xr-attrs'><dt><span>long_name :</span></dt><dd>pressure</dd><dt><span>units :</span></dt><dd>hPa</dd><dt><span>positive :</span></dt><dd>down</dd><dt><span>stored_direction :</span></dt><dd>decreasing</dd><dt><span>standard_name :</span></dt><dd>air_pressure</dd></dl></div><div class='xr-var-data'><pre>array([1000.,  950.,  925.,  900.,  850.,  800.,  700.,  600.,  500.,  400.,\n",
              "        300.,  250.,  200.,  150.,  100.])</pre></div></li><li class='xr-var-item'><div class='xr-var-name'><span class='xr-has-index'>latitude</span></div><div class='xr-var-dims'>(latitude)</div><div class='xr-var-dtype'>float64</div><div class='xr-var-preview xr-preview'>90.0 89.25 88.5 ... -89.25 -90.0</div><input id='attrs-6db05e4c-cf14-4bd6-ad32-3ba8bb168d5b' class='xr-var-attrs-in' type='checkbox' ><label for='attrs-6db05e4c-cf14-4bd6-ad32-3ba8bb168d5b' title='Show/Hide attributes'><svg class='icon xr-icon-file-text2'><use xlink:href='#icon-file-text2'></use></svg></label><input id='data-9acb09b9-7f36-486d-8ac7-4f3d8b949dc9' class='xr-var-data-in' type='checkbox'><label for='data-9acb09b9-7f36-486d-8ac7-4f3d8b949dc9' title='Show/Hide data repr'><svg class='icon xr-icon-database'><use xlink:href='#icon-database'></use></svg></label><div class='xr-var-attrs'><dl class='xr-attrs'><dt><span>units :</span></dt><dd>degrees_north</dd><dt><span>standard_name :</span></dt><dd>latitude</dd><dt><span>long_name :</span></dt><dd>latitude</dd><dt><span>stored_direction :</span></dt><dd>decreasing</dd></dl></div><div class='xr-var-data'><pre>array([ 90.  ,  89.25,  88.5 , ..., -88.5 , -89.25, -90.  ])</pre></div></li><li class='xr-var-item'><div class='xr-var-name'><span class='xr-has-index'>longitude</span></div><div class='xr-var-dims'>(longitude)</div><div class='xr-var-dtype'>float64</div><div class='xr-var-preview xr-preview'>0.0 0.75 1.5 ... 357.8 358.5 359.2</div><input id='attrs-1c920797-7364-4601-9526-ba4a00ac310c' class='xr-var-attrs-in' type='checkbox' ><label for='attrs-1c920797-7364-4601-9526-ba4a00ac310c' title='Show/Hide attributes'><svg class='icon xr-icon-file-text2'><use xlink:href='#icon-file-text2'></use></svg></label><input id='data-5b068356-f145-42ba-bfc4-434b3f0870ed' class='xr-var-data-in' type='checkbox'><label for='data-5b068356-f145-42ba-bfc4-434b3f0870ed' title='Show/Hide data repr'><svg class='icon xr-icon-database'><use xlink:href='#icon-database'></use></svg></label><div class='xr-var-attrs'><dl class='xr-attrs'><dt><span>units :</span></dt><dd>degrees_east</dd><dt><span>standard_name :</span></dt><dd>longitude</dd><dt><span>long_name :</span></dt><dd>longitude</dd></dl></div><div class='xr-var-data'><pre>array([  0.  ,   0.75,   1.5 , ..., 357.75, 358.5 , 359.25])</pre></div></li><li class='xr-var-item'><div class='xr-var-name'><span>level_log10</span></div><div class='xr-var-dims'>(pressure_level)</div><div class='xr-var-dtype'>float64</div><div class='xr-var-preview xr-preview'>3.0 2.978 2.966 ... 2.301 2.176 2.0</div><input id='attrs-e5f94aef-b02b-48d2-a56b-edb7ae892f46' class='xr-var-attrs-in' type='checkbox' ><label for='attrs-e5f94aef-b02b-48d2-a56b-edb7ae892f46' title='Show/Hide attributes'><svg class='icon xr-icon-file-text2'><use xlink:href='#icon-file-text2'></use></svg></label><input id='data-3ba9cb6d-d714-4667-a3fa-dd095bbb7a6d' class='xr-var-data-in' type='checkbox'><label for='data-3ba9cb6d-d714-4667-a3fa-dd095bbb7a6d' title='Show/Hide data repr'><svg class='icon xr-icon-database'><use xlink:href='#icon-database'></use></svg></label><div class='xr-var-attrs'><dl class='xr-attrs'><dt><span>long_name :</span></dt><dd>pressure</dd><dt><span>units :</span></dt><dd>hPa</dd><dt><span>positive :</span></dt><dd>down</dd><dt><span>stored_direction :</span></dt><dd>decreasing</dd><dt><span>standard_name :</span></dt><dd>air_pressure</dd></dl></div><div class='xr-var-data'><pre>array([3.        , 2.97772361, 2.96614173, 2.95424251, 2.92941893,\n",
              "       2.90308999, 2.84509804, 2.77815125, 2.69897   , 2.60205999,\n",
              "       2.47712125, 2.39794001, 2.30103   , 2.17609126, 2.        ])</pre></div></li><li class='xr-var-item'><div class='xr-var-name'><span>height</span></div><div class='xr-var-dims'>(pressure_level)</div><div class='xr-var-dtype'>float64</div><div class='xr-var-preview xr-preview'>0.0 0.4306 0.6528 ... 13.43 15.73</div><input id='attrs-ca5d80f6-d9aa-47e1-96c2-27b7879a0a78' class='xr-var-attrs-in' type='checkbox' disabled><label for='attrs-ca5d80f6-d9aa-47e1-96c2-27b7879a0a78' title='Show/Hide attributes'><svg class='icon xr-icon-file-text2'><use xlink:href='#icon-file-text2'></use></svg></label><input id='data-dae2d3ce-aab3-4b82-ba80-6c2b226cdd9e' class='xr-var-data-in' type='checkbox'><label for='data-dae2d3ce-aab3-4b82-ba80-6c2b226cdd9e' title='Show/Hide data repr'><svg class='icon xr-icon-database'><use xlink:href='#icon-database'></use></svg></label><div class='xr-var-attrs'><dl class='xr-attrs'></dl></div><div class='xr-var-data'><pre>array([ 0.        ,  0.43059381,  0.65281163,  0.87994689,  1.34999034,\n",
              "        1.8429826 ,  2.90899143,  4.10639113,  5.47801243,  7.09325125,\n",
              "        9.07696251, 10.27908779, 11.69472593, 13.43330308, 15.72758036])</pre></div></li></ul></div></li><li class='xr-section-item'><input id='section-a8c8714a-29f1-442f-b3d1-9d88d8e235cc' class='xr-section-summary-in' type='checkbox'  ><label for='section-a8c8714a-29f1-442f-b3d1-9d88d8e235cc' class='xr-section-summary' >Indexes: <span>(4)</span></label><div class='xr-section-inline-details'></div><div class='xr-section-details'><ul class='xr-var-list'><li class='xr-var-item'><div class='xr-index-name'><div>valid_time</div></div><div class='xr-index-preview'>PandasIndex</div><div></div><input id='index-6ff5b087-aff4-451a-92c9-f1e2154e0d66' class='xr-index-data-in' type='checkbox'/><label for='index-6ff5b087-aff4-451a-92c9-f1e2154e0d66' title='Show/Hide index repr'><svg class='icon xr-icon-database'><use xlink:href='#icon-database'></use></svg></label><div class='xr-index-data'><pre>PandasIndex(DatetimeIndex([&#x27;2003-06-01&#x27;, &#x27;2003-07-01&#x27;, &#x27;2003-08-01&#x27;, &#x27;2004-06-01&#x27;,\n",
              "               &#x27;2004-07-01&#x27;, &#x27;2004-08-01&#x27;, &#x27;2005-06-01&#x27;, &#x27;2005-07-01&#x27;,\n",
              "               &#x27;2005-08-01&#x27;, &#x27;2006-06-01&#x27;, &#x27;2006-07-01&#x27;, &#x27;2006-08-01&#x27;,\n",
              "               &#x27;2007-06-01&#x27;, &#x27;2007-07-01&#x27;, &#x27;2007-08-01&#x27;, &#x27;2008-06-01&#x27;,\n",
              "               &#x27;2008-07-01&#x27;, &#x27;2008-08-01&#x27;, &#x27;2009-06-01&#x27;, &#x27;2009-07-01&#x27;,\n",
              "               &#x27;2009-08-01&#x27;, &#x27;2010-06-01&#x27;, &#x27;2010-07-01&#x27;, &#x27;2010-08-01&#x27;,\n",
              "               &#x27;2011-06-01&#x27;, &#x27;2011-07-01&#x27;, &#x27;2011-08-01&#x27;, &#x27;2012-06-01&#x27;,\n",
              "               &#x27;2012-07-01&#x27;, &#x27;2012-08-01&#x27;, &#x27;2013-06-01&#x27;, &#x27;2013-07-01&#x27;,\n",
              "               &#x27;2013-08-01&#x27;, &#x27;2014-06-01&#x27;, &#x27;2014-07-01&#x27;, &#x27;2014-08-01&#x27;,\n",
              "               &#x27;2015-06-01&#x27;, &#x27;2015-07-01&#x27;, &#x27;2015-08-01&#x27;, &#x27;2016-06-01&#x27;,\n",
              "               &#x27;2016-07-01&#x27;, &#x27;2016-08-01&#x27;, &#x27;2017-06-01&#x27;, &#x27;2017-07-01&#x27;,\n",
              "               &#x27;2017-08-01&#x27;, &#x27;2018-06-01&#x27;, &#x27;2018-07-01&#x27;, &#x27;2018-08-01&#x27;,\n",
              "               &#x27;2019-06-01&#x27;, &#x27;2019-07-01&#x27;, &#x27;2019-08-01&#x27;, &#x27;2020-06-01&#x27;,\n",
              "               &#x27;2020-07-01&#x27;, &#x27;2020-08-01&#x27;, &#x27;2021-06-01&#x27;, &#x27;2021-07-01&#x27;,\n",
              "               &#x27;2021-08-01&#x27;, &#x27;2022-06-01&#x27;, &#x27;2022-07-01&#x27;, &#x27;2022-08-01&#x27;,\n",
              "               &#x27;2023-06-01&#x27;, &#x27;2023-07-01&#x27;, &#x27;2023-08-01&#x27;],\n",
              "              dtype=&#x27;datetime64[ns]&#x27;, name=&#x27;valid_time&#x27;, freq=None))</pre></div></li><li class='xr-var-item'><div class='xr-index-name'><div>pressure_level</div></div><div class='xr-index-preview'>PandasIndex</div><div></div><input id='index-73c888a6-92bf-4b8b-a46e-f468da93712a' class='xr-index-data-in' type='checkbox'/><label for='index-73c888a6-92bf-4b8b-a46e-f468da93712a' title='Show/Hide index repr'><svg class='icon xr-icon-database'><use xlink:href='#icon-database'></use></svg></label><div class='xr-index-data'><pre>PandasIndex(Index([1000.0,  950.0,  925.0,  900.0,  850.0,  800.0,  700.0,  600.0,  500.0,\n",
              "        400.0,  300.0,  250.0,  200.0,  150.0,  100.0],\n",
              "      dtype=&#x27;float64&#x27;, name=&#x27;pressure_level&#x27;))</pre></div></li><li class='xr-var-item'><div class='xr-index-name'><div>latitude</div></div><div class='xr-index-preview'>PandasIndex</div><div></div><input id='index-4dfc492d-6c6a-4e74-86fd-83ceff809bfe' class='xr-index-data-in' type='checkbox'/><label for='index-4dfc492d-6c6a-4e74-86fd-83ceff809bfe' title='Show/Hide index repr'><svg class='icon xr-icon-database'><use xlink:href='#icon-database'></use></svg></label><div class='xr-index-data'><pre>PandasIndex(Index([  90.0,  89.25,   88.5,  87.75,   87.0,  86.25,   85.5,  84.75,   84.0,\n",
              "        83.25,\n",
              "       ...\n",
              "       -83.25,  -84.0, -84.75,  -85.5, -86.25,  -87.0, -87.75,  -88.5, -89.25,\n",
              "        -90.0],\n",
              "      dtype=&#x27;float64&#x27;, name=&#x27;latitude&#x27;, length=241))</pre></div></li><li class='xr-var-item'><div class='xr-index-name'><div>longitude</div></div><div class='xr-index-preview'>PandasIndex</div><div></div><input id='index-15c58a9b-1edc-459b-9a11-aa50b67019d3' class='xr-index-data-in' type='checkbox'/><label for='index-15c58a9b-1edc-459b-9a11-aa50b67019d3' title='Show/Hide index repr'><svg class='icon xr-icon-database'><use xlink:href='#icon-database'></use></svg></label><div class='xr-index-data'><pre>PandasIndex(Index([   0.0,   0.75,    1.5,   2.25,    3.0,   3.75,    4.5,   5.25,    6.0,\n",
              "         6.75,\n",
              "       ...\n",
              "        352.5, 353.25,  354.0, 354.75,  355.5, 356.25,  357.0, 357.75,  358.5,\n",
              "       359.25],\n",
              "      dtype=&#x27;float64&#x27;, name=&#x27;longitude&#x27;, length=480))</pre></div></li></ul></div></li><li class='xr-section-item'><input id='section-e76d8793-75a2-43bf-a8de-129308e29ce1' class='xr-section-summary-in' type='checkbox'  ><label for='section-e76d8793-75a2-43bf-a8de-129308e29ce1' class='xr-section-summary' >Attributes: <span>(32)</span></label><div class='xr-section-inline-details'></div><div class='xr-section-details'><dl class='xr-attrs'><dt><span>GRIB_paramId :</span></dt><dd>210123</dd><dt><span>GRIB_dataType :</span></dt><dd>an</dd><dt><span>GRIB_numberOfPoints :</span></dt><dd>115680</dd><dt><span>GRIB_typeOfLevel :</span></dt><dd>isobaricInhPa</dd><dt><span>GRIB_stepUnits :</span></dt><dd>1</dd><dt><span>GRIB_stepType :</span></dt><dd>avgua</dd><dt><span>GRIB_gridType :</span></dt><dd>regular_ll</dd><dt><span>GRIB_uvRelativeToGrid :</span></dt><dd>0</dd><dt><span>GRIB_NV :</span></dt><dd>0</dd><dt><span>GRIB_Nx :</span></dt><dd>480</dd><dt><span>GRIB_Ny :</span></dt><dd>241</dd><dt><span>GRIB_cfName :</span></dt><dd>mass_fraction_of_carbon_monoxide_in_air</dd><dt><span>GRIB_cfVarName :</span></dt><dd>co</dd><dt><span>GRIB_gridDefinitionDescription :</span></dt><dd>Latitude/Longitude Grid</dd><dt><span>GRIB_iDirectionIncrementInDegrees :</span></dt><dd>0.75</dd><dt><span>GRIB_iScansNegatively :</span></dt><dd>0</dd><dt><span>GRIB_jDirectionIncrementInDegrees :</span></dt><dd>0.75</dd><dt><span>GRIB_jPointsAreConsecutive :</span></dt><dd>0</dd><dt><span>GRIB_jScansPositively :</span></dt><dd>0</dd><dt><span>GRIB_latitudeOfFirstGridPointInDegrees :</span></dt><dd>90.0</dd><dt><span>GRIB_latitudeOfLastGridPointInDegrees :</span></dt><dd>-90.0</dd><dt><span>GRIB_longitudeOfFirstGridPointInDegrees :</span></dt><dd>0.0</dd><dt><span>GRIB_longitudeOfLastGridPointInDegrees :</span></dt><dd>359.25</dd><dt><span>GRIB_missingValue :</span></dt><dd>3.4028234663852886e+38</dd><dt><span>GRIB_name :</span></dt><dd>Carbon monoxide mass mixing ratio</dd><dt><span>GRIB_shortName :</span></dt><dd>co</dd><dt><span>GRIB_totalNumber :</span></dt><dd>0</dd><dt><span>GRIB_units :</span></dt><dd>kg kg**-1</dd><dt><span>long_name :</span></dt><dd>Carbon monoxide mass mixing ratio</dd><dt><span>units :</span></dt><dd>kg kg**-1</dd><dt><span>standard_name :</span></dt><dd>mass_fraction_of_carbon_monoxide_in_air</dd><dt><span>GRIB_number :</span></dt><dd>0</dd></dl></div></li></ul></div></div>"
            ],
            "text/plain": [
              "<xarray.DataArray 'co' (valid_time: 63, pressure_level: 15, latitude: 241,\n",
              "                        longitude: 480)> Size: 437MB\n",
              "[109317600 values with dtype=float32]\n",
              "Coordinates:\n",
              "  * valid_time      (valid_time) datetime64[ns] 504B 2003-06-01 ... 2023-08-01\n",
              "  * pressure_level  (pressure_level) float64 120B 1e+03 950.0 ... 150.0 100.0\n",
              "  * latitude        (latitude) float64 2kB 90.0 89.25 88.5 ... -89.25 -90.0\n",
              "  * longitude       (longitude) float64 4kB 0.0 0.75 1.5 ... 357.8 358.5 359.2\n",
              "    level_log10     (pressure_level) float64 120B 3.0 2.978 2.966 ... 2.176 2.0\n",
              "    height          (pressure_level) float64 120B 0.0 0.4306 ... 13.43 15.73\n",
              "Attributes: (12/32)\n",
              "    GRIB_paramId:                             210123\n",
              "    GRIB_dataType:                            an\n",
              "    GRIB_numberOfPoints:                      115680\n",
              "    GRIB_typeOfLevel:                         isobaricInhPa\n",
              "    GRIB_stepUnits:                           1\n",
              "    GRIB_stepType:                            avgua\n",
              "    ...                                       ...\n",
              "    GRIB_totalNumber:                         0\n",
              "    GRIB_units:                               kg kg**-1\n",
              "    long_name:                                Carbon monoxide mass mixing ratio\n",
              "    units:                                    kg kg**-1\n",
              "    standard_name:                            mass_fraction_of_carbon_monoxid...\n",
              "    GRIB_number:                              0"
            ]
          },
          "execution_count": 13,
          "metadata": {},
          "output_type": "execute_result"
        }
      ],
      "source": [
        "da"
      ]
    },
    {
      "cell_type": "markdown",
      "id": "43a24ca7",
      "metadata": {
        "tags": []
      },
      "source": [
        "### Unit conversion\n",
        "\n",
        "Most of the chemical species in the CAMS Global data, including our CO data, is archived as mass mixing ratios (MMR, kg of gas / kg of air).\n",
        "\n",
        "We will convert this to Volume Mixing Ratio (VMR, in units parts per billion, or ppbv)\n",
        "\n",
        "To convert data from MMR to VMR you only need the molar masses of dry air and of the atmospheric species. For CO the formula is: VMR = 28.9644 / 28.0101 * 1e9 * MMR. The 1e9 in the formulae gives parts per billion (ppbv). If we wanted parts per million (ppmv) we would use 1e6. See [more details on unit conversions here](https://confluence.ecmwf.int/pages/viewpage.action?pageId=153391710)."
      ]
    },
    {
      "cell_type": "code",
      "execution_count": 14,
      "id": "ecf9675a",
      "metadata": {
        "execution": {
          "iopub.execute_input": "2024-09-12T14:32:56.134415Z",
          "iopub.status.busy": "2024-09-12T14:32:56.133969Z",
          "iopub.status.idle": "2024-09-12T14:32:59.117461Z",
          "shell.execute_reply": "2024-09-12T14:32:59.116222Z",
          "shell.execute_reply.started": "2024-09-12T14:32:56.134372Z"
        }
      },
      "outputs": [],
      "source": [
        "da = (28.9644 / 28.0101) * 1e9 * da"
      ]
    },
    {
      "cell_type": "markdown",
      "id": "782898e3",
      "metadata": {},
      "source": [
        "Here we update the attributes of our dataset with the new units."
      ]
    },
    {
      "cell_type": "code",
      "execution_count": 15,
      "id": "39799120",
      "metadata": {
        "execution": {
          "iopub.execute_input": "2024-09-12T14:33:05.476684Z",
          "iopub.status.busy": "2024-09-12T14:33:05.476250Z",
          "iopub.status.idle": "2024-09-12T14:33:05.482296Z",
          "shell.execute_reply": "2024-09-12T14:33:05.480961Z",
          "shell.execute_reply.started": "2024-09-12T14:33:05.476645Z"
        }
      },
      "outputs": [],
      "source": [
        "da.attrs['long_name'] = 'CO Volume Mixing Ratio'\n",
        "da.attrs['units'] = 'ppbv'"
      ]
    },
    {
      "cell_type": "markdown",
      "id": "b59c6ffc",
      "metadata": {},
      "source": [
        "### Subset and aggregation\n",
        "\n",
        "We would like to visualise CO profiles over the northern hemisphere, so we will take a subset including only northern latitudes. Also, to facilitate visualisation of CO vertical profiles, we are going to average over the temporal and spatial dimensions."
      ]
    },
    {
      "cell_type": "markdown",
      "id": "e8bc4a8f",
      "metadata": {},
      "source": [
        "#### Spatial subset\n",
        "\n",
        "Here we subset the data to keep only northern latitudes."
      ]
    },
    {
      "cell_type": "code",
      "execution_count": 16,
      "id": "a4024f71",
      "metadata": {
        "execution": {
          "iopub.execute_input": "2024-09-12T14:33:11.514081Z",
          "iopub.status.busy": "2024-09-12T14:33:11.513644Z",
          "iopub.status.idle": "2024-09-12T14:33:11.928296Z",
          "shell.execute_reply": "2024-09-12T14:33:11.926908Z",
          "shell.execute_reply.started": "2024-09-12T14:33:11.514043Z"
        }
      },
      "outputs": [],
      "source": [
        "da_north = da.where(da.latitude > 0, drop=True)"
      ]
    },
    {
      "cell_type": "markdown",
      "id": "b4eab20d",
      "metadata": {},
      "source": [
        "#### Temporal aggregation\n",
        "\n",
        "The purpose of the temporal aggregation is to average June, July and August in each year, resulting in one summer mean value at each year of the dataset."
      ]
    },
    {
      "cell_type": "code",
      "execution_count": 17,
      "id": "2a567093",
      "metadata": {
        "execution": {
          "iopub.execute_input": "2024-09-12T14:33:37.263532Z",
          "iopub.status.busy": "2024-09-12T14:33:37.261953Z",
          "iopub.status.idle": "2024-09-12T14:33:37.834947Z",
          "shell.execute_reply": "2024-09-12T14:33:37.833612Z",
          "shell.execute_reply.started": "2024-09-12T14:33:37.263471Z"
        }
      },
      "outputs": [],
      "source": [
        "summer = da_north.groupby('valid_time.year').mean(keep_attrs=True)"
      ]
    },
    {
      "cell_type": "markdown",
      "id": "f6c45da0",
      "metadata": {},
      "source": [
        "#### Spatial aggregation\n",
        "\n",
        "To visualise the data in a profile plot, we will aggregate over the spatial dimensions. For the latitudinal dimension, we need to take into account the variation in area as a function of latitude, which we will do by taking the cosine of the latitude as a proxy."
      ]
    },
    {
      "cell_type": "code",
      "execution_count": 18,
      "id": "280550ea",
      "metadata": {
        "execution": {
          "iopub.execute_input": "2024-09-12T14:33:44.408407Z",
          "iopub.status.busy": "2024-09-12T14:33:44.407746Z",
          "iopub.status.idle": "2024-09-12T14:33:44.424120Z",
          "shell.execute_reply": "2024-09-12T14:33:44.422292Z",
          "shell.execute_reply.started": "2024-09-12T14:33:44.408356Z"
        },
        "tags": []
      },
      "outputs": [],
      "source": [
        "weights = np.cos(np.deg2rad(summer.latitude))\n",
        "weights.name = \"weights\"\n",
        "weighted = summer.weighted(weights)"
      ]
    },
    {
      "cell_type": "code",
      "execution_count": 19,
      "id": "7951e528",
      "metadata": {
        "execution": {
          "iopub.execute_input": "2024-09-12T14:33:49.358993Z",
          "iopub.status.busy": "2024-09-12T14:33:49.358487Z",
          "iopub.status.idle": "2024-09-12T14:33:49.577907Z",
          "shell.execute_reply": "2024-09-12T14:33:49.576641Z",
          "shell.execute_reply.started": "2024-09-12T14:33:49.358949Z"
        },
        "tags": []
      },
      "outputs": [],
      "source": [
        "# Average (mean) over the latitudinal axis\n",
        "co = weighted.mean(dim=[\"latitude\", \"longitude\"])"
      ]
    },
    {
      "cell_type": "markdown",
      "id": "ea41b378",
      "metadata": {},
      "source": [
        "### Calculate quantiles of climatology\n",
        "\n",
        "Here we calculate the 5th, 50th and 95th quantile of CO climatology from 2003 to 2023."
      ]
    },
    {
      "cell_type": "code",
      "execution_count": 20,
      "id": "ccf4633a",
      "metadata": {
        "execution": {
          "iopub.execute_input": "2024-09-12T14:34:15.799689Z",
          "iopub.status.busy": "2024-09-12T14:34:15.799149Z",
          "iopub.status.idle": "2024-09-12T14:34:15.823567Z",
          "shell.execute_reply": "2024-09-12T14:34:15.822051Z",
          "shell.execute_reply.started": "2024-09-12T14:34:15.799642Z"
        }
      },
      "outputs": [],
      "source": [
        "co95 = co.quantile(0.95, dim='year')\n",
        "co05 = co.quantile(0.05, dim='year')\n",
        "co50 = co.quantile(0.5, dim='year')"
      ]
    },
    {
      "cell_type": "markdown",
      "id": "ce494e4e",
      "metadata": {},
      "source": [
        "## Plot summer climatology of CO in Northern Hemisphere"
      ]
    },
    {
      "cell_type": "code",
      "execution_count": 22,
      "id": "e5477a72",
      "metadata": {
        "execution": {
          "iopub.execute_input": "2024-09-12T14:37:20.458051Z",
          "iopub.status.busy": "2024-09-12T14:37:20.457411Z",
          "iopub.status.idle": "2024-09-12T14:37:21.080258Z",
          "shell.execute_reply": "2024-09-12T14:37:21.078822Z",
          "shell.execute_reply.started": "2024-09-12T14:37:20.457999Z"
        }
      },
      "outputs": [
        {
          "data": {
            "image/png": "[encoded data removed]",
            "text/plain": [
              "<Figure size 600x900 with 1 Axes>"
            ]
          },
          "metadata": {},
          "output_type": "display_data"
        }
      ],
      "source": [
        "fig, ax = plt.subplots(1, 1, figsize = (6, 9))\n",
        "\n",
        "ax.set_title('CO in JJA in Northern Hemisphere', fontsize=12)\n",
        "ax.set_ylabel('Height [Kilometers]')\n",
        "ax.set_xlabel('CO [ppbv]')\n",
        "ax.plot(co50, co50.height, color='black', linestyle='--', label='2003-2023 median')\n",
        "ax.fill_betweenx(co50.height, co05, co95, alpha=0.1, color='black', label='2003-2023 5th to 95th quantile range')\n",
        "ax.plot(co[20,:], co.height, color='red', linestyle='-', label='2023')\n",
        "ax.plot(co[19,:], co.height, color='green', linestyle='-', label='2022')\n",
        "ax.plot(co[18,:], co.height, color='blue', linestyle='-', label='2021')\n",
        "\n",
        "handles, labels = ax.get_legend_handles_labels()\n",
        "ax.legend(handles, labels)\n",
        "\n",
        "fig.savefig(f'{DATADIR}/CO_JJA_NHem_2003-2023_profile.png')"
      ]
    },
    {
      "cell_type": "markdown",
      "id": "52745c12",
      "metadata": {},
      "source": [
        "Note the distribution of CO mainly in the lower part of the atmosphere, and the high values in 2021 and 2023, due mainly to the significant wildfire activity those summers. See the [BAMS State of the Climate reports](https://www.ncei.noaa.gov/bams-state-of-climate) for more details."
      ]
    },
    {
      "cell_type": "markdown",
      "id": "7310b0e2",
      "metadata": {},
      "source": [
        "## Create zonal mean plot of CO summer climatology in Northern Hemisphere"
      ]
    },
    {
      "cell_type": "markdown",
      "id": "b993d7f0",
      "metadata": {},
      "source": [
        "### Data prep\n",
        "\n",
        "We again aggregate over time (June, July and Aug of each year), and over space. This time however the spatial aggregation is only over the longitudinal dimension, as we want to visualise data over all latitudinal zones."
      ]
    },
    {
      "cell_type": "code",
      "execution_count": 23,
      "id": "6ab135af",
      "metadata": {
        "execution": {
          "iopub.execute_input": "2024-09-12T14:41:03.327094Z",
          "iopub.status.busy": "2024-09-12T14:41:03.326141Z",
          "iopub.status.idle": "2024-09-12T14:41:04.239026Z",
          "shell.execute_reply": "2024-09-12T14:41:04.237506Z",
          "shell.execute_reply.started": "2024-09-12T14:41:03.327027Z"
        }
      },
      "outputs": [],
      "source": [
        "jja = da.groupby('valid_time.year').mean(keep_attrs=True)"
      ]
    },
    {
      "cell_type": "code",
      "execution_count": 24,
      "id": "7d012f6a",
      "metadata": {
        "execution": {
          "iopub.execute_input": "2024-09-12T14:41:09.455899Z",
          "iopub.status.busy": "2024-09-12T14:41:09.455379Z",
          "iopub.status.idle": "2024-09-12T14:41:09.606149Z",
          "shell.execute_reply": "2024-09-12T14:41:09.604921Z",
          "shell.execute_reply.started": "2024-09-12T14:41:09.455853Z"
        }
      },
      "outputs": [],
      "source": [
        "zonal = jja.mean(dim=[\"longitude\", \"year\"])"
      ]
    },
    {
      "cell_type": "markdown",
      "id": "0d38e3e5",
      "metadata": {},
      "source": [
        "### Create zonal mean plot\n",
        "\n",
        "Now we can plot our data. Before we do this however, we define the min, max and step of contours that we will use in a contour plot."
      ]
    },
    {
      "cell_type": "code",
      "execution_count": 25,
      "id": "ac9ee5df",
      "metadata": {
        "execution": {
          "iopub.execute_input": "2024-09-12T14:41:20.567183Z",
          "iopub.status.busy": "2024-09-12T14:41:20.566668Z",
          "iopub.status.idle": "2024-09-12T14:41:20.575232Z",
          "shell.execute_reply": "2024-09-12T14:41:20.573025Z",
          "shell.execute_reply.started": "2024-09-12T14:41:20.567138Z"
        }
      },
      "outputs": [],
      "source": [
        "vdiv = 10\n",
        "vmin = 50\n",
        "vmax = 200+vdiv\n",
        "clevs = np.arange(vmin,vmax,vdiv)"
      ]
    },
    {
      "cell_type": "code",
      "execution_count": 26,
      "id": "0afaeb4c",
      "metadata": {
        "execution": {
          "iopub.execute_input": "2024-09-12T14:41:54.075929Z",
          "iopub.status.busy": "2024-09-12T14:41:54.075443Z",
          "iopub.status.idle": "2024-09-12T14:41:54.937568Z",
          "shell.execute_reply": "2024-09-12T14:41:54.936041Z",
          "shell.execute_reply.started": "2024-09-12T14:41:54.075885Z"
        }
      },
      "outputs": [
        {
          "data": {
            "image/png": "[encoded data removed]",
            "text/plain": [
              "<Figure size 900x600 with 2 Axes>"
            ]
          },
          "metadata": {},
          "output_type": "display_data"
        }
      ],
      "source": [
        "# Define the figure and specify size\n",
        "fig, ax = plt.subplots(1, 1, figsize = (9, 6))\n",
        "\n",
        "# Configure the axes and figure title\n",
        "ax.set_xlabel('Latitude [degrees]')\n",
        "ax.set_ylabel('Altitude [km]')\n",
        "ax.set_title('Zonal mean of CO in N. Hemisphere for JJA climatology (2003 to 2023)', fontsize=12)\n",
        "\n",
        "# As the altitudes (15) are much less than the latitudes (180),\n",
        "# we need to ensure the plot fits into the size of the figure.\n",
        "ax.set_aspect('auto')\n",
        "\n",
        "# Plot the data as a contour plot\n",
        "contour = ax.contourf(zonal.latitude, zonal.height, zonal, levels=clevs, cmap='YlOrRd', extend='max')\n",
        "\n",
        "# Specify the colourbar\n",
        "cbar = plt.colorbar(contour,fraction=0.046, pad=0.04)\n",
        "cbar.set_label('CO [ppbv]')\n",
        "\n",
        "# Save the plot\n",
        "fig.savefig(f'{DATADIR}/CO_JJA_NHem_2003-2023_zonal_mean.png')"
      ]
    },
    {
      "cell_type": "markdown",
      "id": "31dcc9e9",
      "metadata": {},
      "source": [
        "Note the greater abundance of CO in the northern hemisphere, and in the lower part of the atmosphere."
      ]
    }
  ],
  "metadata": {
    "kaggle": {
      "accelerator": "none",
      "dataSources": [],
      "dockerImageVersionId": 30761,
      "isGpuEnabled": false,
      "isInternetEnabled": true,
      "language": "python",
      "sourceType": "notebook"
    },
    "kernelspec": {
      "display_name": "Python 3 (ipykernel)",
      "language": "python",
      "name": "python3"
    },
    "language_info": {
      "codemirror_mode": {
        "name": "ipython",
        "version": 3
      },
      "file_extension": ".py",
      "mimetype": "text/x-python",
      "name": "python",
      "nbconvert_exporter": "python",
      "pygments_lexer": "ipython3",
      "version": "3.10.9"
    }
  },
  "nbformat": 4,
  "nbformat_minor": 5
}