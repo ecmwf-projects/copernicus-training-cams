{
  "cells": [
    {
      "cell_type": "markdown",
      "id": "087b4239",
      "metadata": {
        "tags": []
      },
      "source": [
        "![logo](./img/LogoLine_horizon_CAMS.png)"
      ]
    },
    {
      "cell_type": "markdown",
      "id": "778aaeb6",
      "metadata": {
        "tags": []
      },
      "source": [
        "# Plot Time Series of CAMS Data\n",
        "\n",
        "This tutorial demonstrates how to plot time series of data from the [Copernicus Atmosphere Monitoring Service (CAMS)](https://atmosphere.copernicus.eu/). The example focusses on CO2, and we will visualise the \"Keeling Curve\" of global average increases in CO2 from the last decades."
      ]
    },
    {
      "cell_type": "markdown",
      "id": "f385cb1f",
      "metadata": {},
      "source": [
        "<style>\n",
        "td, th {\n",
        "   border: 1px solid white;\n",
        "   border-collapse: collapse;\n",
        "}\n",
        "</style>\n",
        "<table align=\"left\">\n",
        "  <tr>\n",
        "    <th>Run the tutorial via free cloud platforms: </th>\n",
        "    <th><a href=\"https://mybinder.org/v2/gh/ecmwf-projects/copernicus-training-cams/master?labpath=vis-time-series.ipynb\">\n",
        "        <img src = \"https://mybinder.org/badge.svg\" alt = \"Binder\"></th>\n",
        "    <th><a href=\"https://kaggle.com/kernels/welcome?src=https://github.com/ecmwf-projects/copernicus-training-cams/blob/master/vis-time-series.ipynb\">\n",
        "        <img src = \"https://kaggle.com/static/images/open-in-kaggle.svg\" alt = \"Kaggle\"></th>\n",
        "    <th><a href=\"https://colab.research.google.com/github/ecmwf-projects/copernicus-training-cams/blob/master/vis-time-series.ipynb\">\n",
        "        <img src = \"https://colab.research.google.com/assets/colab-badge.svg\" alt = \"Colab\"></th>\n",
        "  </tr>\n",
        "</table>"
      ]
    },
    {
      "cell_type": "markdown",
      "id": "077c3bf5",
      "metadata": {},
      "source": [
        "<br>"
      ]
    },
    {
      "cell_type": "markdown",
      "id": "824e0914",
      "metadata": {},
      "source": [
        "## Install and import packages"
      ]
    },
    {
      "cell_type": "code",
      "execution_count": null,
      "id": "02c581e6",
      "metadata": {
        "execution": {
          "iopub.execute_input": "2024-09-12T14:07:31.729967Z",
          "iopub.status.busy": "2024-09-12T14:07:31.729522Z",
          "iopub.status.idle": "2024-09-12T14:07:53.039471Z",
          "shell.execute_reply": "2024-09-12T14:07:53.037956Z",
          "shell.execute_reply.started": "2024-09-12T14:07:31.729922Z"
        }
      },
      "outputs": [],
      "source": [
        "!pip install cdsapi"
      ]
    },
    {
      "cell_type": "code",
      "execution_count": 2,
      "id": "c38cfcb6",
      "metadata": {
        "execution": {
          "iopub.execute_input": "2024-09-12T14:08:50.111343Z",
          "iopub.status.busy": "2024-09-12T14:08:50.110287Z",
          "iopub.status.idle": "2024-09-12T14:08:51.224833Z",
          "shell.execute_reply": "2024-09-12T14:08:51.223366Z",
          "shell.execute_reply.started": "2024-09-12T14:08:50.111290Z"
        },
        "tags": []
      },
      "outputs": [],
      "source": [
        "# CDS API\n",
        "import cdsapi\n",
        "\n",
        "# Libraries for reading and working with multidimensional arrays\n",
        "import numpy as np\n",
        "import xarray as xr\n",
        "\n",
        "# Library for plotting and visualising data\n",
        "%matplotlib inline\n",
        "import matplotlib.pyplot as plt\n",
        "\n",
        "# Disable warnings for data download via API\n",
        "import urllib3 \n",
        "urllib3.disable_warnings()"
      ]
    },
    {
      "cell_type": "markdown",
      "id": "90547eb1",
      "metadata": {},
      "source": [
        "## Data access and preprocessing"
      ]
    },
    {
      "cell_type": "markdown",
      "id": "5b8f25f4",
      "metadata": {
        "tags": []
      },
      "source": [
        "### Download CAMS global reanalysis data\n",
        "\n",
        "Copy your API key into the code cell below, replacing `#######` with your key. (Remember, to access data from the ADS, you will need first to register/login https://ads.atmosphere.copernicus.eu/ and obtain an API key from https://ads.atmosphere.copernicus.eu/how-to-api.)"
      ]
    },
    {
      "cell_type": "code",
      "execution_count": 3,
      "id": "9160a3b7",
      "metadata": {
        "execution": {
          "iopub.execute_input": "2024-09-12T14:09:10.080854Z",
          "iopub.status.busy": "2024-09-12T14:09:10.080205Z",
          "iopub.status.idle": "2024-09-12T14:09:10.086786Z",
          "shell.execute_reply": "2024-09-12T14:09:10.085384Z",
          "shell.execute_reply.started": "2024-09-12T14:09:10.080806Z"
        }
      },
      "outputs": [],
      "source": [
        "URL = 'https://ads.atmosphere.copernicus.eu/api'\n",
        "\n",
        "# Replace the hashtags with your key:\n",
        "KEY = '##################################'"
      ]
    },
    {
      "cell_type": "markdown",
      "id": "7f194461",
      "metadata": {
        "tags": []
      },
      "source": [
        "Here we specify a data directory into which we will download our data and all output files that we will generate:"
      ]
    },
    {
      "cell_type": "code",
      "execution_count": 4,
      "id": "12704039",
      "metadata": {
        "execution": {
          "iopub.execute_input": "2024-09-12T14:09:14.430051Z",
          "iopub.status.busy": "2024-09-12T14:09:14.429605Z",
          "iopub.status.idle": "2024-09-12T14:09:14.435778Z",
          "shell.execute_reply": "2024-09-12T14:09:14.434434Z",
          "shell.execute_reply.started": "2024-09-12T14:09:14.430008Z"
        }
      },
      "outputs": [],
      "source": [
        "DATADIR = '.'"
      ]
    },
    {
      "cell_type": "markdown",
      "id": "5b9bfaf4",
      "metadata": {},
      "source": [
        "For this tutorial, we will use *CAMS global greenhouse gas reanalysis (EGG4)* data, monthly averaged fields version. The code below shows the subset characteristics that we will extract from this dataset as an API request."
      ]
    },
    {
      "cell_type": "markdown",
      "id": "88be4210",
      "metadata": {},
      "source": [
        "```{note}\n",
        "Before running this code, ensure that you have **accepted the terms and conditions**. This is something you only need to do once for each CAMS dataset. You will find the option to do this by selecting the dataset in the ADS, then scrolling to the end of the *Download data* tab.\n",
        "```"
      ]
    },
    {
      "cell_type": "code",
      "execution_count": 5,
      "id": "cb8785ef",
      "metadata": {
        "execution": {
          "iopub.execute_input": "2024-09-12T14:14:29.526574Z",
          "iopub.status.busy": "2024-09-12T14:14:29.525429Z",
          "iopub.status.idle": "2024-09-12T14:14:56.894990Z",
          "shell.execute_reply": "2024-09-12T14:14:56.893845Z",
          "shell.execute_reply.started": "2024-09-12T14:14:29.526474Z"
        }
      },
      "outputs": [
        {
          "name": "stderr",
          "output_type": "stream",
          "text": [
            "2024-09-12 14:14:30,224 INFO Request ID is f2070345-f2f8-46ea-9638-96715107bffd\n",
            "2024-09-12 14:14:30,375 INFO status has been updated to accepted\n",
            "2024-09-12 14:14:32,030 INFO status has been updated to running\n",
            "2024-09-12 14:14:50,916 INFO Creating download object as as_source with files:\n",
            "['data_allhours_sfc.nc']\n",
            "2024-09-12 14:14:50,917 INFO status has been updated to successful\n"
          ]
        },
        {
          "data": {
            "application/vnd.jupyter.widget-view+json": {
              "model_id": "",
              "version_major": 2,
              "version_minor": 0
            },
            "text/plain": [
              "5245c36ce942f9848218193a0bf40472.nc:   0%|          | 0.00/42.3M [00:00<?, ?B/s]"
            ]
          },
          "metadata": {},
          "output_type": "display_data"
        },
        {
          "data": {
            "text/plain": [
              "'./CO2_2003-2020.nc'"
            ]
          },
          "execution_count": 5,
          "metadata": {},
          "output_type": "execute_result"
        }
      ],
      "source": [
        "dataset = \"cams-global-ghg-reanalysis-egg4-monthly\"\n",
        "request = {\n",
        "    'variable': ['co2_column_mean_molar_fraction'],\n",
        "    'year': ['2003', '2004', '2005', '2006', \n",
        "             '2007', '2008', '2009', '2010', \n",
        "             '2011', '2012', '2013', '2014', \n",
        "             '2015', '2016', '2017', '2018', \n",
        "             '2019', '2020'],\n",
        "    'month': ['01', '02', '03', '04', '05', '06', \n",
        "              '07', '08', '09', '10', '11', '12'],\n",
        "    'product_type': ['monthly_mean'],\n",
        "    'data_format': 'netcdf'\n",
        "}\n",
        "\n",
        "client = cdsapi.Client(url=URL, key=KEY)\n",
        "client.retrieve(dataset, request).download(\n",
        "    f'{DATADIR}/CO2_2003-2020.nc')"
      ]
    },
    {
      "cell_type": "markdown",
      "id": "eeab0b7a",
      "metadata": {},
      "source": [
        "### Read and inspect data"
      ]
    },
    {
      "cell_type": "markdown",
      "id": "7e86254e",
      "metadata": {
        "tags": []
      },
      "source": [
        "Read the data into an Xarray dataset:"
      ]
    },
    {
      "cell_type": "code",
      "execution_count": 6,
      "id": "e278d834",
      "metadata": {
        "execution": {
          "iopub.execute_input": "2024-09-12T14:15:03.890624Z",
          "iopub.status.busy": "2024-09-12T14:15:03.890176Z",
          "iopub.status.idle": "2024-09-12T14:15:05.012383Z",
          "shell.execute_reply": "2024-09-12T14:15:05.011064Z",
          "shell.execute_reply.started": "2024-09-12T14:15:03.890579Z"
        }
      },
      "outputs": [
        {
          "data": {
            "text/html": [
              "<div><svg style=\"position: absolute; width: 0; height: 0; overflow: hidden\">\n",
              "<defs>\n",
              "<symbol id=\"icon-database\" viewBox=\"0 0 32 32\">\n",
              "<path d=\"M16 0c-8.837 0-16 2.239-16 5v4c0 2.761 7.163 5 16 5s16-2.239 16-5v-4c0-2.761-7.163-5-16-5z\"></path>\n",
              "<path d=\"M16 17c-8.837 0-16-2.239-16-5v6c0 2.761 7.163 5 16 5s16-2.239 16-5v-6c0 2.761-7.163 5-16 5z\"></path>\n",
              "<path d=\"M16 26c-8.837 0-16-2.239-16-5v6c0 2.761 7.163 5 16 5s16-2.239 16-5v-6c0 2.761-7.163 5-16 5z\"></path>\n",
              "</symbol>\n",
              "<symbol id=\"icon-file-text2\" viewBox=\"0 0 32 32\">\n",
              "<path d=\"M28.681 7.159c-0.694-0.947-1.662-2.053-2.724-3.116s-2.169-2.030-3.116-2.724c-1.612-1.182-2.393-1.319-2.841-1.319h-15.5c-1.378 0-2.5 1.121-2.5 2.5v27c0 1.378 1.122 2.5 2.5 2.5h23c1.378 0 2.5-1.122 2.5-2.5v-19.5c0-0.448-0.137-1.23-1.319-2.841zM24.543 5.457c0.959 0.959 1.712 1.825 2.268 2.543h-4.811v-4.811c0.718 0.556 1.584 1.309 2.543 2.268zM28 29.5c0 0.271-0.229 0.5-0.5 0.5h-23c-0.271 0-0.5-0.229-0.5-0.5v-27c0-0.271 0.229-0.5 0.5-0.5 0 0 15.499-0 15.5 0v7c0 0.552 0.448 1 1 1h7v19.5z\"></path>\n",
              "<path d=\"M23 26h-14c-0.552 0-1-0.448-1-1s0.448-1 1-1h14c0.552 0 1 0.448 1 1s-0.448 1-1 1z\"></path>\n",
              "<path d=\"M23 22h-14c-0.552 0-1-0.448-1-1s0.448-1 1-1h14c0.552 0 1 0.448 1 1s-0.448 1-1 1z\"></path>\n",
              "<path d=\"M23 18h-14c-0.552 0-1-0.448-1-1s0.448-1 1-1h14c0.552 0 1 0.448 1 1s-0.448 1-1 1z\"></path>\n",
              "</symbol>\n",
              "</defs>\n",
              "</svg>\n",
              "<style>/* CSS stylesheet for displaying xarray objects in jupyterlab.\n",
              " *\n",
              " */\n",
              "\n",
              ":root {\n",
              "  --xr-font-color0: var(--jp-content-font-color0, rgba(0, 0, 0, 1));\n",
              "  --xr-font-color2: var(--jp-content-font-color2, rgba(0, 0, 0, 0.54));\n",
              "  --xr-font-color3: var(--jp-content-font-color3, rgba(0, 0, 0, 0.38));\n",
              "  --xr-border-color: var(--jp-border-color2, #e0e0e0);\n",
              "  --xr-disabled-color: var(--jp-layout-color3, #bdbdbd);\n",
              "  --xr-background-color: var(--jp-layout-color0, white);\n",
              "  --xr-background-color-row-even: var(--jp-layout-color1, white);\n",
              "  --xr-background-color-row-odd: var(--jp-layout-color2, #eeeeee);\n",
              "}\n",
              "\n",
              "html[theme=dark],\n",
              "html[data-theme=dark],\n",
              "body[data-theme=dark],\n",
              "body.vscode-dark {\n",
              "  --xr-font-color0: rgba(255, 255, 255, 1);\n",
              "  --xr-font-color2: rgba(255, 255, 255, 0.54);\n",
              "  --xr-font-color3: rgba(255, 255, 255, 0.38);\n",
              "  --xr-border-color: #1F1F1F;\n",
              "  --xr-disabled-color: #515151;\n",
              "  --xr-background-color: #111111;\n",
              "  --xr-background-color-row-even: #111111;\n",
              "  --xr-background-color-row-odd: #313131;\n",
              "}\n",
              "\n",
              ".xr-wrap {\n",
              "  display: block !important;\n",
              "  min-width: 300px;\n",
              "  max-width: 700px;\n",
              "}\n",
              "\n",
              ".xr-text-repr-fallback {\n",
              "  /* fallback to plain text repr when CSS is not injected (untrusted notebook) */\n",
              "  display: none;\n",
              "}\n",
              "\n",
              ".xr-header {\n",
              "  padding-top: 6px;\n",
              "  padding-bottom: 6px;\n",
              "  margin-bottom: 4px;\n",
              "  border-bottom: solid 1px var(--xr-border-color);\n",
              "}\n",
              "\n",
              ".xr-header > div,\n",
              ".xr-header > ul {\n",
              "  display: inline;\n",
              "  margin-top: 0;\n",
              "  margin-bottom: 0;\n",
              "}\n",
              "\n",
              ".xr-obj-type,\n",
              ".xr-array-name {\n",
              "  margin-left: 2px;\n",
              "  margin-right: 10px;\n",
              "}\n",
              "\n",
              ".xr-obj-type {\n",
              "  color: var(--xr-font-color2);\n",
              "}\n",
              "\n",
              ".xr-sections {\n",
              "  padding-left: 0 !important;\n",
              "  display: grid;\n",
              "  grid-template-columns: 150px auto auto 1fr 20px 20px;\n",
              "}\n",
              "\n",
              ".xr-section-item {\n",
              "  display: contents;\n",
              "}\n",
              "\n",
              ".xr-section-item input {\n",
              "  display: none;\n",
              "}\n",
              "\n",
              ".xr-section-item input + label {\n",
              "  color: var(--xr-disabled-color);\n",
              "}\n",
              "\n",
              ".xr-section-item input:enabled + label {\n",
              "  cursor: pointer;\n",
              "  color: var(--xr-font-color2);\n",
              "}\n",
              "\n",
              ".xr-section-item input:enabled + label:hover {\n",
              "  color: var(--xr-font-color0);\n",
              "}\n",
              "\n",
              ".xr-section-summary {\n",
              "  grid-column: 1;\n",
              "  color: var(--xr-font-color2);\n",
              "  font-weight: 500;\n",
              "}\n",
              "\n",
              ".xr-section-summary > span {\n",
              "  display: inline-block;\n",
              "  padding-left: 0.5em;\n",
              "}\n",
              "\n",
              ".xr-section-summary-in:disabled + label {\n",
              "  color: var(--xr-font-color2);\n",
              "}\n",
              "\n",
              ".xr-section-summary-in + label:before {\n",
              "  display: inline-block;\n",
              "  content: '\u25ba';\n",
              "  font-size: 11px;\n",
              "  width: 15px;\n",
              "  text-align: center;\n",
              "}\n",
              "\n",
              ".xr-section-summary-in:disabled + label:before {\n",
              "  color: var(--xr-disabled-color);\n",
              "}\n",
              "\n",
              ".xr-section-summary-in:checked + label:before {\n",
              "  content: '\u25bc';\n",
              "}\n",
              "\n",
              ".xr-section-summary-in:checked + label > span {\n",
              "  display: none;\n",
              "}\n",
              "\n",
              ".xr-section-summary,\n",
              ".xr-section-inline-details {\n",
              "  padding-top: 4px;\n",
              "  padding-bottom: 4px;\n",
              "}\n",
              "\n",
              ".xr-section-inline-details {\n",
              "  grid-column: 2 / -1;\n",
              "}\n",
              "\n",
              ".xr-section-details {\n",
              "  display: none;\n",
              "  grid-column: 1 / -1;\n",
              "  margin-bottom: 5px;\n",
              "}\n",
              "\n",
              ".xr-section-summary-in:checked ~ .xr-section-details {\n",
              "  display: contents;\n",
              "}\n",
              "\n",
              ".xr-array-wrap {\n",
              "  grid-column: 1 / -1;\n",
              "  display: grid;\n",
              "  grid-template-columns: 20px auto;\n",
              "}\n",
              "\n",
              ".xr-array-wrap > label {\n",
              "  grid-column: 1;\n",
              "  vertical-align: top;\n",
              "}\n",
              "\n",
              ".xr-preview {\n",
              "  color: var(--xr-font-color3);\n",
              "}\n",
              "\n",
              ".xr-array-preview,\n",
              ".xr-array-data {\n",
              "  padding: 0 5px !important;\n",
              "  grid-column: 2;\n",
              "}\n",
              "\n",
              ".xr-array-data,\n",
              ".xr-array-in:checked ~ .xr-array-preview {\n",
              "  display: none;\n",
              "}\n",
              "\n",
              ".xr-array-in:checked ~ .xr-array-data,\n",
              ".xr-array-preview {\n",
              "  display: inline-block;\n",
              "}\n",
              "\n",
              ".xr-dim-list {\n",
              "  display: inline-block !important;\n",
              "  list-style: none;\n",
              "  padding: 0 !important;\n",
              "  margin: 0;\n",
              "}\n",
              "\n",
              ".xr-dim-list li {\n",
              "  display: inline-block;\n",
              "  padding: 0;\n",
              "  margin: 0;\n",
              "}\n",
              "\n",
              ".xr-dim-list:before {\n",
              "  content: '(';\n",
              "}\n",
              "\n",
              ".xr-dim-list:after {\n",
              "  content: ')';\n",
              "}\n",
              "\n",
              ".xr-dim-list li:not(:last-child):after {\n",
              "  content: ',';\n",
              "  padding-right: 5px;\n",
              "}\n",
              "\n",
              ".xr-has-index {\n",
              "  font-weight: bold;\n",
              "}\n",
              "\n",
              ".xr-var-list,\n",
              ".xr-var-item {\n",
              "  display: contents;\n",
              "}\n",
              "\n",
              ".xr-var-item > div,\n",
              ".xr-var-item label,\n",
              ".xr-var-item > .xr-var-name span {\n",
              "  background-color: var(--xr-background-color-row-even);\n",
              "  margin-bottom: 0;\n",
              "}\n",
              "\n",
              ".xr-var-item > .xr-var-name:hover span {\n",
              "  padding-right: 5px;\n",
              "}\n",
              "\n",
              ".xr-var-list > li:nth-child(odd) > div,\n",
              ".xr-var-list > li:nth-child(odd) > label,\n",
              ".xr-var-list > li:nth-child(odd) > .xr-var-name span {\n",
              "  background-color: var(--xr-background-color-row-odd);\n",
              "}\n",
              "\n",
              ".xr-var-name {\n",
              "  grid-column: 1;\n",
              "}\n",
              "\n",
              ".xr-var-dims {\n",
              "  grid-column: 2;\n",
              "}\n",
              "\n",
              ".xr-var-dtype {\n",
              "  grid-column: 3;\n",
              "  text-align: right;\n",
              "  color: var(--xr-font-color2);\n",
              "}\n",
              "\n",
              ".xr-var-preview {\n",
              "  grid-column: 4;\n",
              "}\n",
              "\n",
              ".xr-index-preview {\n",
              "  grid-column: 2 / 5;\n",
              "  color: var(--xr-font-color2);\n",
              "}\n",
              "\n",
              ".xr-var-name,\n",
              ".xr-var-dims,\n",
              ".xr-var-dtype,\n",
              ".xr-preview,\n",
              ".xr-attrs dt {\n",
              "  white-space: nowrap;\n",
              "  overflow: hidden;\n",
              "  text-overflow: ellipsis;\n",
              "  padding-right: 10px;\n",
              "}\n",
              "\n",
              ".xr-var-name:hover,\n",
              ".xr-var-dims:hover,\n",
              ".xr-var-dtype:hover,\n",
              ".xr-attrs dt:hover {\n",
              "  overflow: visible;\n",
              "  width: auto;\n",
              "  z-index: 1;\n",
              "}\n",
              "\n",
              ".xr-var-attrs,\n",
              ".xr-var-data,\n",
              ".xr-index-data {\n",
              "  display: none;\n",
              "  background-color: var(--xr-background-color) !important;\n",
              "  padding-bottom: 5px !important;\n",
              "}\n",
              "\n",
              ".xr-var-attrs-in:checked ~ .xr-var-attrs,\n",
              ".xr-var-data-in:checked ~ .xr-var-data,\n",
              ".xr-index-data-in:checked ~ .xr-index-data {\n",
              "  display: block;\n",
              "}\n",
              "\n",
              ".xr-var-data > table {\n",
              "  float: right;\n",
              "}\n",
              "\n",
              ".xr-var-name span,\n",
              ".xr-var-data,\n",
              ".xr-index-name div,\n",
              ".xr-index-data,\n",
              ".xr-attrs {\n",
              "  padding-left: 25px !important;\n",
              "}\n",
              "\n",
              ".xr-attrs,\n",
              ".xr-var-attrs,\n",
              ".xr-var-data,\n",
              ".xr-index-data {\n",
              "  grid-column: 1 / -1;\n",
              "}\n",
              "\n",
              "dl.xr-attrs {\n",
              "  padding: 0;\n",
              "  margin: 0;\n",
              "  display: grid;\n",
              "  grid-template-columns: 125px auto;\n",
              "}\n",
              "\n",
              ".xr-attrs dt,\n",
              ".xr-attrs dd {\n",
              "  padding: 0;\n",
              "  margin: 0;\n",
              "  float: left;\n",
              "  padding-right: 10px;\n",
              "  width: auto;\n",
              "}\n",
              "\n",
              ".xr-attrs dt {\n",
              "  font-weight: normal;\n",
              "  grid-column: 1;\n",
              "}\n",
              "\n",
              ".xr-attrs dt:hover span {\n",
              "  display: inline-block;\n",
              "  background: var(--xr-background-color);\n",
              "  padding-right: 10px;\n",
              "}\n",
              "\n",
              ".xr-attrs dd {\n",
              "  grid-column: 2;\n",
              "  white-space: pre-wrap;\n",
              "  word-break: break-all;\n",
              "}\n",
              "\n",
              ".xr-icon-database,\n",
              ".xr-icon-file-text2,\n",
              ".xr-no-icon {\n",
              "  display: inline-block;\n",
              "  vertical-align: middle;\n",
              "  width: 1em;\n",
              "  height: 1.5em !important;\n",
              "  stroke-width: 0;\n",
              "  stroke: currentColor;\n",
              "  fill: currentColor;\n",
              "}\n",
              "</style><pre class='xr-text-repr-fallback'>&lt;xarray.Dataset&gt; Size: 100MB\n",
              "Dimensions:     (valid_time: 216, latitude: 241, longitude: 480)\n",
              "Coordinates:\n",
              "  * valid_time  (valid_time) datetime64[ns] 2kB 2003-01-01 ... 2020-12-01\n",
              "  * latitude    (latitude) float64 2kB 90.0 89.25 88.5 ... -88.5 -89.25 -90.0\n",
              "  * longitude   (longitude) float64 4kB 0.0 0.75 1.5 2.25 ... 357.8 358.5 359.2\n",
              "Data variables:\n",
              "    tcco2       (valid_time, latitude, longitude) float32 100MB ...\n",
              "Attributes:\n",
              "    GRIB_centre:             ecmf\n",
              "    GRIB_centreDescription:  European Centre for Medium-Range Weather Forecasts\n",
              "    GRIB_subCentre:          0\n",
              "    Conventions:             CF-1.7\n",
              "    institution:             European Centre for Medium-Range Weather Forecasts\n",
              "    history:                 2024-09-12T14:14 GRIB to CDM+CF via cfgrib-0.9.1...</pre><div class='xr-wrap' style='display:none'><div class='xr-header'><div class='xr-obj-type'>xarray.Dataset</div></div><ul class='xr-sections'><li class='xr-section-item'><input id='section-4f25bb63-213c-4558-bd37-480036344825' class='xr-section-summary-in' type='checkbox' disabled ><label for='section-4f25bb63-213c-4558-bd37-480036344825' class='xr-section-summary'  title='Expand/collapse section'>Dimensions:</label><div class='xr-section-inline-details'><ul class='xr-dim-list'><li><span class='xr-has-index'>valid_time</span>: 216</li><li><span class='xr-has-index'>latitude</span>: 241</li><li><span class='xr-has-index'>longitude</span>: 480</li></ul></div><div class='xr-section-details'></div></li><li class='xr-section-item'><input id='section-9ff38a5a-a777-45cf-a75a-a60aac55077a' class='xr-section-summary-in' type='checkbox'  checked><label for='section-9ff38a5a-a777-45cf-a75a-a60aac55077a' class='xr-section-summary' >Coordinates: <span>(3)</span></label><div class='xr-section-inline-details'></div><div class='xr-section-details'><ul class='xr-var-list'><li class='xr-var-item'><div class='xr-var-name'><span class='xr-has-index'>valid_time</span></div><div class='xr-var-dims'>(valid_time)</div><div class='xr-var-dtype'>datetime64[ns]</div><div class='xr-var-preview xr-preview'>2003-01-01 ... 2020-12-01</div><input id='attrs-d0b3f28c-434c-4c74-bf8e-1bc60b32c4a0' class='xr-var-attrs-in' type='checkbox' ><label for='attrs-d0b3f28c-434c-4c74-bf8e-1bc60b32c4a0' title='Show/Hide attributes'><svg class='icon xr-icon-file-text2'><use xlink:href='#icon-file-text2'></use></svg></label><input id='data-7be9747c-72c3-4e30-8ef2-e3d07333826f' class='xr-var-data-in' type='checkbox'><label for='data-7be9747c-72c3-4e30-8ef2-e3d07333826f' title='Show/Hide data repr'><svg class='icon xr-icon-database'><use xlink:href='#icon-database'></use></svg></label><div class='xr-var-attrs'><dl class='xr-attrs'><dt><span>long_name :</span></dt><dd>time</dd><dt><span>standard_name :</span></dt><dd>time</dd></dl></div><div class='xr-var-data'><pre>array([&#x27;2003-01-01T00:00:00.000000000&#x27;, &#x27;2003-02-01T00:00:00.000000000&#x27;,\n",
              "       &#x27;2003-03-01T00:00:00.000000000&#x27;, ..., &#x27;2020-10-01T00:00:00.000000000&#x27;,\n",
              "       &#x27;2020-11-01T00:00:00.000000000&#x27;, &#x27;2020-12-01T00:00:00.000000000&#x27;],\n",
              "      dtype=&#x27;datetime64[ns]&#x27;)</pre></div></li><li class='xr-var-item'><div class='xr-var-name'><span class='xr-has-index'>latitude</span></div><div class='xr-var-dims'>(latitude)</div><div class='xr-var-dtype'>float64</div><div class='xr-var-preview xr-preview'>90.0 89.25 88.5 ... -89.25 -90.0</div><input id='attrs-bf767c1f-1ae8-42fc-ac8b-4f42e73dc72a' class='xr-var-attrs-in' type='checkbox' ><label for='attrs-bf767c1f-1ae8-42fc-ac8b-4f42e73dc72a' title='Show/Hide attributes'><svg class='icon xr-icon-file-text2'><use xlink:href='#icon-file-text2'></use></svg></label><input id='data-60cd78af-c47d-48a2-aaad-e41d2b642f3f' class='xr-var-data-in' type='checkbox'><label for='data-60cd78af-c47d-48a2-aaad-e41d2b642f3f' title='Show/Hide data repr'><svg class='icon xr-icon-database'><use xlink:href='#icon-database'></use></svg></label><div class='xr-var-attrs'><dl class='xr-attrs'><dt><span>units :</span></dt><dd>degrees_north</dd><dt><span>standard_name :</span></dt><dd>latitude</dd><dt><span>long_name :</span></dt><dd>latitude</dd><dt><span>stored_direction :</span></dt><dd>decreasing</dd></dl></div><div class='xr-var-data'><pre>array([ 90.  ,  89.25,  88.5 , ..., -88.5 , -89.25, -90.  ])</pre></div></li><li class='xr-var-item'><div class='xr-var-name'><span class='xr-has-index'>longitude</span></div><div class='xr-var-dims'>(longitude)</div><div class='xr-var-dtype'>float64</div><div class='xr-var-preview xr-preview'>0.0 0.75 1.5 ... 357.8 358.5 359.2</div><input id='attrs-0b761dd0-d2b1-4f48-b8a4-90ee8f3d7539' class='xr-var-attrs-in' type='checkbox' ><label for='attrs-0b761dd0-d2b1-4f48-b8a4-90ee8f3d7539' title='Show/Hide attributes'><svg class='icon xr-icon-file-text2'><use xlink:href='#icon-file-text2'></use></svg></label><input id='data-90668eeb-c67c-4ed0-873e-9877fd34d391' class='xr-var-data-in' type='checkbox'><label for='data-90668eeb-c67c-4ed0-873e-9877fd34d391' title='Show/Hide data repr'><svg class='icon xr-icon-database'><use xlink:href='#icon-database'></use></svg></label><div class='xr-var-attrs'><dl class='xr-attrs'><dt><span>units :</span></dt><dd>degrees_east</dd><dt><span>standard_name :</span></dt><dd>longitude</dd><dt><span>long_name :</span></dt><dd>longitude</dd></dl></div><div class='xr-var-data'><pre>array([  0.  ,   0.75,   1.5 , ..., 357.75, 358.5 , 359.25])</pre></div></li></ul></div></li><li class='xr-section-item'><input id='section-5bd3b535-1960-4466-b996-f9f40c8327c4' class='xr-section-summary-in' type='checkbox'  checked><label for='section-5bd3b535-1960-4466-b996-f9f40c8327c4' class='xr-section-summary' >Data variables: <span>(1)</span></label><div class='xr-section-inline-details'></div><div class='xr-section-details'><ul class='xr-var-list'><li class='xr-var-item'><div class='xr-var-name'><span>tcco2</span></div><div class='xr-var-dims'>(valid_time, latitude, longitude)</div><div class='xr-var-dtype'>float32</div><div class='xr-var-preview xr-preview'>...</div><input id='attrs-0fee7fc4-bad2-4788-85a6-71dd75364c58' class='xr-var-attrs-in' type='checkbox' ><label for='attrs-0fee7fc4-bad2-4788-85a6-71dd75364c58' title='Show/Hide attributes'><svg class='icon xr-icon-file-text2'><use xlink:href='#icon-file-text2'></use></svg></label><input id='data-cbf30d1b-0a21-409f-bcd3-46e57e1ab3ae' class='xr-var-data-in' type='checkbox'><label for='data-cbf30d1b-0a21-409f-bcd3-46e57e1ab3ae' title='Show/Hide data repr'><svg class='icon xr-icon-database'><use xlink:href='#icon-database'></use></svg></label><div class='xr-var-attrs'><dl class='xr-attrs'><dt><span>GRIB_paramId :</span></dt><dd>210064</dd><dt><span>GRIB_dataType :</span></dt><dd>fc</dd><dt><span>GRIB_numberOfPoints :</span></dt><dd>115680</dd><dt><span>GRIB_typeOfLevel :</span></dt><dd>surface</dd><dt><span>GRIB_stepUnits :</span></dt><dd>1</dd><dt><span>GRIB_stepType :</span></dt><dd>avgfc</dd><dt><span>GRIB_gridType :</span></dt><dd>regular_ll</dd><dt><span>GRIB_uvRelativeToGrid :</span></dt><dd>0</dd><dt><span>GRIB_NV :</span></dt><dd>0</dd><dt><span>GRIB_Nx :</span></dt><dd>480</dd><dt><span>GRIB_Ny :</span></dt><dd>241</dd><dt><span>GRIB_cfName :</span></dt><dd>unknown</dd><dt><span>GRIB_cfVarName :</span></dt><dd>tcco2</dd><dt><span>GRIB_gridDefinitionDescription :</span></dt><dd>Latitude/Longitude Grid</dd><dt><span>GRIB_iDirectionIncrementInDegrees :</span></dt><dd>0.75</dd><dt><span>GRIB_iScansNegatively :</span></dt><dd>0</dd><dt><span>GRIB_jDirectionIncrementInDegrees :</span></dt><dd>0.75</dd><dt><span>GRIB_jPointsAreConsecutive :</span></dt><dd>0</dd><dt><span>GRIB_jScansPositively :</span></dt><dd>0</dd><dt><span>GRIB_latitudeOfFirstGridPointInDegrees :</span></dt><dd>90.0</dd><dt><span>GRIB_latitudeOfLastGridPointInDegrees :</span></dt><dd>-90.0</dd><dt><span>GRIB_longitudeOfFirstGridPointInDegrees :</span></dt><dd>0.0</dd><dt><span>GRIB_longitudeOfLastGridPointInDegrees :</span></dt><dd>359.25</dd><dt><span>GRIB_missingValue :</span></dt><dd>3.4028234663852886e+38</dd><dt><span>GRIB_name :</span></dt><dd>CO2 column-mean molar fraction</dd><dt><span>GRIB_shortName :</span></dt><dd>tcco2</dd><dt><span>GRIB_totalNumber :</span></dt><dd>0</dd><dt><span>GRIB_units :</span></dt><dd>ppm</dd><dt><span>long_name :</span></dt><dd>CO2 column-mean molar fraction</dd><dt><span>units :</span></dt><dd>ppm</dd><dt><span>standard_name :</span></dt><dd>unknown</dd><dt><span>GRIB_number :</span></dt><dd>0</dd><dt><span>GRIB_surface :</span></dt><dd>0.0</dd></dl></div><div class='xr-var-data'><pre>[24986880 values with dtype=float32]</pre></div></li></ul></div></li><li class='xr-section-item'><input id='section-018279df-1583-41a4-a8aa-c84cd2502684' class='xr-section-summary-in' type='checkbox'  ><label for='section-018279df-1583-41a4-a8aa-c84cd2502684' class='xr-section-summary' >Indexes: <span>(3)</span></label><div class='xr-section-inline-details'></div><div class='xr-section-details'><ul class='xr-var-list'><li class='xr-var-item'><div class='xr-index-name'><div>valid_time</div></div><div class='xr-index-preview'>PandasIndex</div><div></div><input id='index-b64399be-3fda-4e55-8e9b-b92030f0ff99' class='xr-index-data-in' type='checkbox'/><label for='index-b64399be-3fda-4e55-8e9b-b92030f0ff99' title='Show/Hide index repr'><svg class='icon xr-icon-database'><use xlink:href='#icon-database'></use></svg></label><div class='xr-index-data'><pre>PandasIndex(DatetimeIndex([&#x27;2003-01-01&#x27;, &#x27;2003-02-01&#x27;, &#x27;2003-03-01&#x27;, &#x27;2003-04-01&#x27;,\n",
              "               &#x27;2003-05-01&#x27;, &#x27;2003-06-01&#x27;, &#x27;2003-07-01&#x27;, &#x27;2003-08-01&#x27;,\n",
              "               &#x27;2003-09-01&#x27;, &#x27;2003-10-01&#x27;,\n",
              "               ...\n",
              "               &#x27;2020-03-01&#x27;, &#x27;2020-04-01&#x27;, &#x27;2020-05-01&#x27;, &#x27;2020-06-01&#x27;,\n",
              "               &#x27;2020-07-01&#x27;, &#x27;2020-08-01&#x27;, &#x27;2020-09-01&#x27;, &#x27;2020-10-01&#x27;,\n",
              "               &#x27;2020-11-01&#x27;, &#x27;2020-12-01&#x27;],\n",
              "              dtype=&#x27;datetime64[ns]&#x27;, name=&#x27;valid_time&#x27;, length=216, freq=None))</pre></div></li><li class='xr-var-item'><div class='xr-index-name'><div>latitude</div></div><div class='xr-index-preview'>PandasIndex</div><div></div><input id='index-b7469846-a55a-44ed-8816-e80da1a58841' class='xr-index-data-in' type='checkbox'/><label for='index-b7469846-a55a-44ed-8816-e80da1a58841' title='Show/Hide index repr'><svg class='icon xr-icon-database'><use xlink:href='#icon-database'></use></svg></label><div class='xr-index-data'><pre>PandasIndex(Index([  90.0,  89.25,   88.5,  87.75,   87.0,  86.25,   85.5,  84.75,   84.0,\n",
              "        83.25,\n",
              "       ...\n",
              "       -83.25,  -84.0, -84.75,  -85.5, -86.25,  -87.0, -87.75,  -88.5, -89.25,\n",
              "        -90.0],\n",
              "      dtype=&#x27;float64&#x27;, name=&#x27;latitude&#x27;, length=241))</pre></div></li><li class='xr-var-item'><div class='xr-index-name'><div>longitude</div></div><div class='xr-index-preview'>PandasIndex</div><div></div><input id='index-10abb7f6-f68e-48ed-8bcf-90d6b4bf42d5' class='xr-index-data-in' type='checkbox'/><label for='index-10abb7f6-f68e-48ed-8bcf-90d6b4bf42d5' title='Show/Hide index repr'><svg class='icon xr-icon-database'><use xlink:href='#icon-database'></use></svg></label><div class='xr-index-data'><pre>PandasIndex(Index([   0.0,   0.75,    1.5,   2.25,    3.0,   3.75,    4.5,   5.25,    6.0,\n",
              "         6.75,\n",
              "       ...\n",
              "        352.5, 353.25,  354.0, 354.75,  355.5, 356.25,  357.0, 357.75,  358.5,\n",
              "       359.25],\n",
              "      dtype=&#x27;float64&#x27;, name=&#x27;longitude&#x27;, length=480))</pre></div></li></ul></div></li><li class='xr-section-item'><input id='section-6bbaa3e3-08ca-4428-aaba-f913f69ec8ae' class='xr-section-summary-in' type='checkbox'  checked><label for='section-6bbaa3e3-08ca-4428-aaba-f913f69ec8ae' class='xr-section-summary' >Attributes: <span>(6)</span></label><div class='xr-section-inline-details'></div><div class='xr-section-details'><dl class='xr-attrs'><dt><span>GRIB_centre :</span></dt><dd>ecmf</dd><dt><span>GRIB_centreDescription :</span></dt><dd>European Centre for Medium-Range Weather Forecasts</dd><dt><span>GRIB_subCentre :</span></dt><dd>0</dd><dt><span>Conventions :</span></dt><dd>CF-1.7</dd><dt><span>institution :</span></dt><dd>European Centre for Medium-Range Weather Forecasts</dd><dt><span>history :</span></dt><dd>2024-09-12T14:14 GRIB to CDM+CF via cfgrib-0.9.14.0/ecCodes-2.36.0 with {&quot;source&quot;: &quot;data.grib&quot;, &quot;filter_by_keys&quot;: {&quot;marsStream&quot;: &quot;moda&quot;, &quot;typeOfLevel&quot;: &quot;surface&quot;}, &quot;encode_cf&quot;: [&quot;parameter&quot;, &quot;time&quot;, &quot;geography&quot;, &quot;vertical&quot;]}</dd></dl></div></li></ul></div></div>"
            ],
            "text/plain": [
              "<xarray.Dataset> Size: 100MB\n",
              "Dimensions:     (valid_time: 216, latitude: 241, longitude: 480)\n",
              "Coordinates:\n",
              "  * valid_time  (valid_time) datetime64[ns] 2kB 2003-01-01 ... 2020-12-01\n",
              "  * latitude    (latitude) float64 2kB 90.0 89.25 88.5 ... -88.5 -89.25 -90.0\n",
              "  * longitude   (longitude) float64 4kB 0.0 0.75 1.5 2.25 ... 357.8 358.5 359.2\n",
              "Data variables:\n",
              "    tcco2       (valid_time, latitude, longitude) float32 100MB ...\n",
              "Attributes:\n",
              "    GRIB_centre:             ecmf\n",
              "    GRIB_centreDescription:  European Centre for Medium-Range Weather Forecasts\n",
              "    GRIB_subCentre:          0\n",
              "    Conventions:             CF-1.7\n",
              "    institution:             European Centre for Medium-Range Weather Forecasts\n",
              "    history:                 2024-09-12T14:14 GRIB to CDM+CF via cfgrib-0.9.1..."
            ]
          },
          "execution_count": 6,
          "metadata": {},
          "output_type": "execute_result"
        }
      ],
      "source": [
        "fn = f'{DATADIR}/CO2_2003-2020.nc'\n",
        "ds = xr.open_dataset(fn)\n",
        "ds"
      ]
    },
    {
      "cell_type": "markdown",
      "id": "ad885ceb",
      "metadata": {},
      "source": [
        "### Spatial aggregation\n",
        "\n",
        "We would like to visualise this data not in maps, but as a one dimensional time series of global average values. To do this, we will first need to aggregate the data spatially to create a single global average at each time step."
      ]
    },
    {
      "cell_type": "markdown",
      "id": "898b9f20",
      "metadata": {},
      "source": [
        "In order to aggregate over the latitudinal dimension, we need to take into account the variation in area as a function of latitude. We will do this using the cosine of the latitude as a proxy:"
      ]
    },
    {
      "cell_type": "code",
      "execution_count": 7,
      "id": "d44b7911",
      "metadata": {
        "execution": {
          "iopub.execute_input": "2024-09-12T14:15:10.861054Z",
          "iopub.status.busy": "2024-09-12T14:15:10.860249Z",
          "iopub.status.idle": "2024-09-12T14:15:10.872905Z",
          "shell.execute_reply": "2024-09-12T14:15:10.871525Z",
          "shell.execute_reply.started": "2024-09-12T14:15:10.860997Z"
        },
        "tags": []
      },
      "outputs": [],
      "source": [
        "weights = np.cos(np.deg2rad(ds.latitude))\n",
        "weights.name = \"weights\"\n",
        "ds_weighted = ds.weighted(weights)"
      ]
    },
    {
      "cell_type": "markdown",
      "id": "841c3633",
      "metadata": {},
      "source": [
        "Now we can average over both the longitude and latitude dimensions:"
      ]
    },
    {
      "cell_type": "code",
      "execution_count": 8,
      "id": "66144931",
      "metadata": {
        "execution": {
          "iopub.execute_input": "2024-09-12T14:15:14.230238Z",
          "iopub.status.busy": "2024-09-12T14:15:14.229790Z",
          "iopub.status.idle": "2024-09-12T14:15:15.614036Z",
          "shell.execute_reply": "2024-09-12T14:15:15.612781Z",
          "shell.execute_reply.started": "2024-09-12T14:15:14.230192Z"
        },
        "tags": []
      },
      "outputs": [],
      "source": [
        "# Average (mean) over the latitudinal axis\n",
        "co_ds = ds_weighted.mean(dim=[\"latitude\", \"longitude\"])"
      ]
    },
    {
      "cell_type": "markdown",
      "id": "82fb4c2f",
      "metadata": {},
      "source": [
        "### Create xarray Data Array from Dataset object"
      ]
    },
    {
      "cell_type": "markdown",
      "id": "874bff78",
      "metadata": {},
      "source": [
        "Here we create an Xarray Data Array object containing the CO2 variable."
      ]
    },
    {
      "cell_type": "code",
      "execution_count": 9,
      "id": "80fc8a5e",
      "metadata": {
        "execution": {
          "iopub.execute_input": "2024-09-12T14:15:18.290222Z",
          "iopub.status.busy": "2024-09-12T14:15:18.289763Z",
          "iopub.status.idle": "2024-09-12T14:15:18.295689Z",
          "shell.execute_reply": "2024-09-12T14:15:18.294385Z",
          "shell.execute_reply.started": "2024-09-12T14:15:18.290179Z"
        }
      },
      "outputs": [],
      "source": [
        "co = co_ds['tcco2']"
      ]
    },
    {
      "cell_type": "markdown",
      "id": "4a2cdc6a",
      "metadata": {},
      "source": [
        "## Plot time series of global CO\n",
        "\n",
        "Now we can plot the time series of globally averaged CO2 data over time."
      ]
    },
    {
      "cell_type": "markdown",
      "id": "fd55bc7e",
      "metadata": {},
      "source": [
        "### Simple plot using xarray\n",
        "\n",
        "The easiest way to plot data in an Xarray Data Array object is to use Xarray's own plotting functionality."
      ]
    },
    {
      "cell_type": "code",
      "execution_count": 10,
      "id": "fb7430cf",
      "metadata": {
        "execution": {
          "iopub.execute_input": "2024-09-12T14:15:21.605171Z",
          "iopub.status.busy": "2024-09-12T14:15:21.604747Z",
          "iopub.status.idle": "2024-09-12T14:15:22.090912Z",
          "shell.execute_reply": "2024-09-12T14:15:22.089597Z",
          "shell.execute_reply.started": "2024-09-12T14:15:21.605132Z"
        }
      },
      "outputs": [
        {
          "data": {
            "text/plain": [
              "[<matplotlib.lines.Line2D at 0x790bc8eeabf0>]"
            ]
          },
          "execution_count": 10,
          "metadata": {},
          "output_type": "execute_result"
        },
        {
          "data": {
            "image/png": "[encoded data removed]",
            "text/plain": [
              "<Figure size 640x480 with 1 Axes>"
            ]
          },
          "metadata": {},
          "output_type": "display_data"
        }
      ],
      "source": [
        "co.plot()"
      ]
    },
    {
      "cell_type": "markdown",
      "id": "29cf7178",
      "metadata": {},
      "source": [
        "In this plot of monthly averaged CO2 we can see the seasonal variation and yearly increase in global CO2 over the last decades."
      ]
    },
    {
      "cell_type": "markdown",
      "id": "c7b888f5",
      "metadata": {},
      "source": [
        "### Customised plot using matplotlib\n",
        "\n",
        "In this example we use the Matplotlib library to create the same plot as above, with a few customisations"
      ]
    },
    {
      "cell_type": "code",
      "execution_count": 11,
      "id": "09edaeb7",
      "metadata": {
        "execution": {
          "iopub.execute_input": "2024-09-12T14:15:56.721689Z",
          "iopub.status.busy": "2024-09-12T14:15:56.721178Z",
          "iopub.status.idle": "2024-09-12T14:15:57.380060Z",
          "shell.execute_reply": "2024-09-12T14:15:57.379005Z",
          "shell.execute_reply.started": "2024-09-12T14:15:56.721644Z"
        }
      },
      "outputs": [
        {
          "data": {
            "image/png": "[encoded data removed]",
            "text/plain": [
              "<Figure size 900x600 with 1 Axes>"
            ]
          },
          "metadata": {},
          "output_type": "display_data"
        }
      ],
      "source": [
        "fig, ax = plt.subplots(1, 1, figsize = (9, 6)) # Set size and dimensions of figure\n",
        "\n",
        "ax.set_title('CO2 global time series', fontsize=12) # Set figure title\n",
        "ax.set_ylabel('CO2 column-mean molar fraction (ppm)') # Set Y axis title\n",
        "ax.set_xlabel('Year') # Set X axis title\n",
        "ax.grid(linewidth=1, color='gray', alpha=0.5, linestyle='--') # Include gridlines\n",
        "ax.plot(co.valid_time, co) # Plot the data\n",
        "\n",
        "fig.savefig(f'{DATADIR}/CAMS_CO2_reanalysis.png') # Save the figure"
      ]
    }
  ],
  "metadata": {
    "kaggle": {
      "accelerator": "none",
      "dataSources": [],
      "dockerImageVersionId": 30761,
      "isGpuEnabled": false,
      "isInternetEnabled": true,
      "language": "python",
      "sourceType": "notebook"
    },
    "kernelspec": {
      "display_name": "Python 3 (ipykernel)",
      "language": "python",
      "name": "python3"
    },
    "language_info": {
      "codemirror_mode": {
        "name": "ipython",
        "version": 3
      },
      "file_extension": ".py",
      "mimetype": "text/x-python",
      "name": "python",
      "nbconvert_exporter": "python",
      "pygments_lexer": "ipython3",
      "version": "3.10.9"
    }
  },
  "nbformat": 4,
  "nbformat_minor": 5
}